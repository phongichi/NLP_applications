{
  "nbformat": 4,
  "nbformat_minor": 0,
  "metadata": {
    "colab": {
      "provenance": [],
      "collapsed_sections": [],
      "toc_visible": true
    },
    "kernelspec": {
      "name": "python3",
      "display_name": "Python 3"
    },
    "language_info": {
      "name": "python"
    },
    "accelerator": "GPU",
    "gpuClass": "standard"
  },
  "cells": [
    {
      "cell_type": "code",
      "execution_count": null,
      "metadata": {
        "id": "pJJLLf2gi4YK"
      },
      "outputs": [],
      "source": []
    },
    {
      "cell_type": "markdown",
      "source": [
        "# prepare dataset\n",
        "this project use dataset :\n",
        " https://raw.githubusercontent.com/selva86/datasets/master/newsgroups.json\n",
        "\n",
        "this dataset includes 11k posts related to 20 different topics that have been labeled."
      ],
      "metadata": {
        "id": "ibCtPPmFjrLS"
      }
    },
    {
      "cell_type": "code",
      "source": [
        "# Import Dataset\n",
        "import pandas as pd\n",
        "df = pd.read_json('https://raw.githubusercontent.com/selva86/datasets/master/newsgroups.json')\n",
        "print(df.target_names.unique())\n",
        "df.head()"
      ],
      "metadata": {
        "colab": {
          "base_uri": "https://localhost:8080/",
          "height": 310
        },
        "id": "tesl2dPjjRvG",
        "outputId": "6f1b7ef6-c6f7-44dc-a0c4-8c19f4f6c6f9"
      },
      "execution_count": 2,
      "outputs": [
        {
          "output_type": "stream",
          "name": "stdout",
          "text": [
            "['rec.autos' 'comp.sys.mac.hardware' 'comp.graphics' 'sci.space'\n",
            " 'talk.politics.guns' 'sci.med' 'comp.sys.ibm.pc.hardware'\n",
            " 'comp.os.ms-windows.misc' 'rec.motorcycles' 'talk.religion.misc'\n",
            " 'misc.forsale' 'alt.atheism' 'sci.electronics' 'comp.windows.x'\n",
            " 'rec.sport.hockey' 'rec.sport.baseball' 'soc.religion.christian'\n",
            " 'talk.politics.mideast' 'talk.politics.misc' 'sci.crypt']\n"
          ]
        },
        {
          "output_type": "execute_result",
          "data": {
            "text/plain": [
              "                                             content  target  \\\n",
              "0  From: lerxst@wam.umd.edu (where's my thing)\\nS...       7   \n",
              "1  From: guykuo@carson.u.washington.edu (Guy Kuo)...       4   \n",
              "2  From: twillis@ec.ecn.purdue.edu (Thomas E Will...       4   \n",
              "3  From: jgreen@amber (Joe Green)\\nSubject: Re: W...       1   \n",
              "4  From: jcm@head-cfa.harvard.edu (Jonathan McDow...      14   \n",
              "\n",
              "            target_names  \n",
              "0              rec.autos  \n",
              "1  comp.sys.mac.hardware  \n",
              "2  comp.sys.mac.hardware  \n",
              "3          comp.graphics  \n",
              "4              sci.space  "
            ],
            "text/html": [
              "\n",
              "  <div id=\"df-c6faa138-58a1-4cbc-9f21-5a7c78374732\">\n",
              "    <div class=\"colab-df-container\">\n",
              "      <div>\n",
              "<style scoped>\n",
              "    .dataframe tbody tr th:only-of-type {\n",
              "        vertical-align: middle;\n",
              "    }\n",
              "\n",
              "    .dataframe tbody tr th {\n",
              "        vertical-align: top;\n",
              "    }\n",
              "\n",
              "    .dataframe thead th {\n",
              "        text-align: right;\n",
              "    }\n",
              "</style>\n",
              "<table border=\"1\" class=\"dataframe\">\n",
              "  <thead>\n",
              "    <tr style=\"text-align: right;\">\n",
              "      <th></th>\n",
              "      <th>content</th>\n",
              "      <th>target</th>\n",
              "      <th>target_names</th>\n",
              "    </tr>\n",
              "  </thead>\n",
              "  <tbody>\n",
              "    <tr>\n",
              "      <th>0</th>\n",
              "      <td>From: lerxst@wam.umd.edu (where's my thing)\\nS...</td>\n",
              "      <td>7</td>\n",
              "      <td>rec.autos</td>\n",
              "    </tr>\n",
              "    <tr>\n",
              "      <th>1</th>\n",
              "      <td>From: guykuo@carson.u.washington.edu (Guy Kuo)...</td>\n",
              "      <td>4</td>\n",
              "      <td>comp.sys.mac.hardware</td>\n",
              "    </tr>\n",
              "    <tr>\n",
              "      <th>2</th>\n",
              "      <td>From: twillis@ec.ecn.purdue.edu (Thomas E Will...</td>\n",
              "      <td>4</td>\n",
              "      <td>comp.sys.mac.hardware</td>\n",
              "    </tr>\n",
              "    <tr>\n",
              "      <th>3</th>\n",
              "      <td>From: jgreen@amber (Joe Green)\\nSubject: Re: W...</td>\n",
              "      <td>1</td>\n",
              "      <td>comp.graphics</td>\n",
              "    </tr>\n",
              "    <tr>\n",
              "      <th>4</th>\n",
              "      <td>From: jcm@head-cfa.harvard.edu (Jonathan McDow...</td>\n",
              "      <td>14</td>\n",
              "      <td>sci.space</td>\n",
              "    </tr>\n",
              "  </tbody>\n",
              "</table>\n",
              "</div>\n",
              "      <button class=\"colab-df-convert\" onclick=\"convertToInteractive('df-c6faa138-58a1-4cbc-9f21-5a7c78374732')\"\n",
              "              title=\"Convert this dataframe to an interactive table.\"\n",
              "              style=\"display:none;\">\n",
              "        \n",
              "  <svg xmlns=\"http://www.w3.org/2000/svg\" height=\"24px\"viewBox=\"0 0 24 24\"\n",
              "       width=\"24px\">\n",
              "    <path d=\"M0 0h24v24H0V0z\" fill=\"none\"/>\n",
              "    <path d=\"M18.56 5.44l.94 2.06.94-2.06 2.06-.94-2.06-.94-.94-2.06-.94 2.06-2.06.94zm-11 1L8.5 8.5l.94-2.06 2.06-.94-2.06-.94L8.5 2.5l-.94 2.06-2.06.94zm10 10l.94 2.06.94-2.06 2.06-.94-2.06-.94-.94-2.06-.94 2.06-2.06.94z\"/><path d=\"M17.41 7.96l-1.37-1.37c-.4-.4-.92-.59-1.43-.59-.52 0-1.04.2-1.43.59L10.3 9.45l-7.72 7.72c-.78.78-.78 2.05 0 2.83L4 21.41c.39.39.9.59 1.41.59.51 0 1.02-.2 1.41-.59l7.78-7.78 2.81-2.81c.8-.78.8-2.07 0-2.86zM5.41 20L4 18.59l7.72-7.72 1.47 1.35L5.41 20z\"/>\n",
              "  </svg>\n",
              "      </button>\n",
              "      \n",
              "  <style>\n",
              "    .colab-df-container {\n",
              "      display:flex;\n",
              "      flex-wrap:wrap;\n",
              "      gap: 12px;\n",
              "    }\n",
              "\n",
              "    .colab-df-convert {\n",
              "      background-color: #E8F0FE;\n",
              "      border: none;\n",
              "      border-radius: 50%;\n",
              "      cursor: pointer;\n",
              "      display: none;\n",
              "      fill: #1967D2;\n",
              "      height: 32px;\n",
              "      padding: 0 0 0 0;\n",
              "      width: 32px;\n",
              "    }\n",
              "\n",
              "    .colab-df-convert:hover {\n",
              "      background-color: #E2EBFA;\n",
              "      box-shadow: 0px 1px 2px rgba(60, 64, 67, 0.3), 0px 1px 3px 1px rgba(60, 64, 67, 0.15);\n",
              "      fill: #174EA6;\n",
              "    }\n",
              "\n",
              "    [theme=dark] .colab-df-convert {\n",
              "      background-color: #3B4455;\n",
              "      fill: #D2E3FC;\n",
              "    }\n",
              "\n",
              "    [theme=dark] .colab-df-convert:hover {\n",
              "      background-color: #434B5C;\n",
              "      box-shadow: 0px 1px 3px 1px rgba(0, 0, 0, 0.15);\n",
              "      filter: drop-shadow(0px 1px 2px rgba(0, 0, 0, 0.3));\n",
              "      fill: #FFFFFF;\n",
              "    }\n",
              "  </style>\n",
              "\n",
              "      <script>\n",
              "        const buttonEl =\n",
              "          document.querySelector('#df-c6faa138-58a1-4cbc-9f21-5a7c78374732 button.colab-df-convert');\n",
              "        buttonEl.style.display =\n",
              "          google.colab.kernel.accessAllowed ? 'block' : 'none';\n",
              "\n",
              "        async function convertToInteractive(key) {\n",
              "          const element = document.querySelector('#df-c6faa138-58a1-4cbc-9f21-5a7c78374732');\n",
              "          const dataTable =\n",
              "            await google.colab.kernel.invokeFunction('convertToInteractive',\n",
              "                                                     [key], {});\n",
              "          if (!dataTable) return;\n",
              "\n",
              "          const docLinkHtml = 'Like what you see? Visit the ' +\n",
              "            '<a target=\"_blank\" href=https://colab.research.google.com/notebooks/data_table.ipynb>data table notebook</a>'\n",
              "            + ' to learn more about interactive tables.';\n",
              "          element.innerHTML = '';\n",
              "          dataTable['output_type'] = 'display_data';\n",
              "          await google.colab.output.renderOutput(dataTable, element);\n",
              "          const docLink = document.createElement('div');\n",
              "          docLink.innerHTML = docLinkHtml;\n",
              "          element.appendChild(docLink);\n",
              "        }\n",
              "      </script>\n",
              "    </div>\n",
              "  </div>\n",
              "  "
            ]
          },
          "metadata": {},
          "execution_count": 2
        }
      ]
    },
    {
      "cell_type": "code",
      "source": [
        "# visualize number of topics\n",
        "df[['target_names', 'content']].groupby(['target_names']).count().plot(kind='bar')"
      ],
      "metadata": {
        "colab": {
          "base_uri": "https://localhost:8080/",
          "height": 421
        },
        "id": "2iY9u75-jRyX",
        "outputId": "76bdd297-f73e-423c-a619-d3b25ed544bc"
      },
      "execution_count": 3,
      "outputs": [
        {
          "output_type": "execute_result",
          "data": {
            "text/plain": [
              "<matplotlib.axes._subplots.AxesSubplot at 0x7f665f54f090>"
            ]
          },
          "metadata": {},
          "execution_count": 3
        },
        {
          "output_type": "display_data",
          "data": {
            "text/plain": [
              "<Figure size 432x288 with 1 Axes>"
            ],
            "image/png": "[encoded data removed]"
          },
          "metadata": {
            "needs_background": "light"
          }
        }
      ]
    },
    {
      "cell_type": "markdown",
      "source": [
        "there are 20 groups, each group has the number of posts between 400-600. \n",
        "\n",
        "divided on topics such as auto, mobile, medicine,…."
      ],
      "metadata": {
        "id": "TwKuAzDfl_3q"
      }
    },
    {
      "cell_type": "markdown",
      "source": [
        "\n",
        "# Data preprocessing"
      ],
      "metadata": {
        "id": "uZAMFGnGmNZg"
      }
    },
    {
      "cell_type": "code",
      "source": [
        "import gensim\n",
        "data = list(df['content'])\n",
        "\n",
        "def sent_to_words(sentences):\n",
        "    for sentence in sentences:\n",
        "        yield(gensim.utils.simple_preprocess(str(sentence), deacc=True))  # deacc=True removes punctuations\n",
        "\n",
        "data_words = list(sent_to_words(data))\n",
        "\n",
        "print(data_words[:1])"
      ],
      "metadata": {
        "colab": {
          "base_uri": "https://localhost:8080/"
        },
        "id": "bWlFLEZBjR19",
        "outputId": "a1c5833e-4bf7-4909-cf9f-f2b1b398b30f"
      },
      "execution_count": 4,
      "outputs": [
        {
          "output_type": "stream",
          "name": "stdout",
          "text": [
            "[['from', 'lerxst', 'wam', 'umd', 'edu', 'where', 'my', 'thing', 'subject', 'what', 'car', 'is', 'this', 'nntp', 'posting', 'host', 'rac', 'wam', 'umd', 'edu', 'organization', 'university', 'of', 'maryland', 'college', 'park', 'lines', 'was', 'wondering', 'if', 'anyone', 'out', 'there', 'could', 'enlighten', 'me', 'on', 'this', 'car', 'saw', 'the', 'other', 'day', 'it', 'was', 'door', 'sports', 'car', 'looked', 'to', 'be', 'from', 'the', 'late', 'early', 'it', 'was', 'called', 'bricklin', 'the', 'doors', 'were', 'really', 'small', 'in', 'addition', 'the', 'front', 'bumper', 'was', 'separate', 'from', 'the', 'rest', 'of', 'the', 'body', 'this', 'is', 'all', 'know', 'if', 'anyone', 'can', 'tellme', 'model', 'name', 'engine', 'specs', 'years', 'of', 'production', 'where', 'this', 'car', 'is', 'made', 'history', 'or', 'whatever', 'info', 'you', 'have', 'on', 'this', 'funky', 'looking', 'car', 'please', 'mail', 'thanks', 'il', 'brought', 'to', 'you', 'by', 'your', 'neighborhood', 'lerxst']]\n"
          ]
        }
      ]
    },
    {
      "cell_type": "markdown",
      "source": [
        "## Build the bigram and trigram models\n",
        "\n",
        "Currently the vocabulary is composed entirely of single words. To increase the accuracy of the model, we will need to cluster single words that appear together into collocations with a length of 2 or 3 words. We call them bigrams or trigrams."
      ],
      "metadata": {
        "id": "MaItN5e2njtH"
      }
    },
    {
      "cell_type": "code",
      "source": [
        "# Build the bigram and trigram models\n",
        "bigram = gensim.models.Phrases(data_words, min_count=5, threshold=100) # higher threshold fewer phrases.\n",
        "trigram = gensim.models.Phrases(bigram[data_words], threshold=100)  \n",
        "\n",
        "# Faster way to get a sentence clubbed as a trigram/bigram\n",
        "bigram_mod = gensim.models.phrases.Phraser(bigram)\n",
        "trigram_mod = gensim.models.phrases.Phraser(trigram)\n",
        "\n",
        "# See trigram example\n",
        "print(trigram_mod[bigram_mod[data_words[0]]])"
      ],
      "metadata": {
        "colab": {
          "base_uri": "https://localhost:8080/"
        },
        "id": "R03o7Pz6jR5W",
        "outputId": "ea9cee51-2160-4914-fbf6-ddd5df71b20a"
      },
      "execution_count": 5,
      "outputs": [
        {
          "output_type": "stream",
          "name": "stderr",
          "text": [
            "/usr/local/lib/python3.7/dist-packages/gensim/models/phrases.py:598: UserWarning: For a faster implementation, use the gensim.models.phrases.Phraser class\n",
            "  warnings.warn(\"For a faster implementation, use the gensim.models.phrases.Phraser class\")\n"
          ]
        },
        {
          "output_type": "stream",
          "name": "stdout",
          "text": [
            "['from', 'lerxst', 'wam_umd', 'edu', 'where', 'my', 'thing', 'subject', 'what', 'car', 'is', 'this', 'nntp_posting_host', 'rac_wam_umd', 'edu', 'organization', 'university', 'of', 'maryland_college_park', 'lines', 'was', 'wondering', 'if', 'anyone', 'out', 'there', 'could', 'enlighten', 'me', 'on', 'this', 'car', 'saw', 'the', 'other', 'day', 'it', 'was', 'door', 'sports', 'car', 'looked', 'to', 'be', 'from', 'the', 'late', 'early', 'it', 'was', 'called', 'bricklin', 'the', 'doors', 'were', 'really', 'small', 'in', 'addition', 'the', 'front_bumper', 'was', 'separate', 'from', 'the', 'rest', 'of', 'the', 'body', 'this', 'is', 'all', 'know', 'if', 'anyone', 'can', 'tellme', 'model', 'name', 'engine', 'specs', 'years', 'of', 'production', 'where', 'this', 'car', 'is', 'made', 'history', 'or', 'whatever', 'info', 'you', 'have', 'on', 'this', 'funky', 'looking', 'car', 'please', 'mail', 'thanks', 'il', 'brought', 'to', 'you', 'by', 'your', 'neighborhood', 'lerxst']\n"
          ]
        }
      ]
    },
    {
      "cell_type": "markdown",
      "source": [
        "Next we will remove the stopwords and only filter out the words that are words with the tag of the type ['NOUN', 'ADJ', 'VERB', 'ADV']. \n",
        "\n",
        "The stopwords is already integrated in the nltk package for English."
      ],
      "metadata": {
        "id": "rgXbYltlpJ80"
      }
    },
    {
      "cell_type": "code",
      "source": [
        "import nltk\n",
        "nltk.download('stopwords')\n",
        "\n",
        "# Define functions for stopwords, bigrams, trigrams and lemmatization\n",
        "def remove_stopwords(texts):\n",
        "    return [[word for word in simple_preprocess(str(doc)) if word not in stop_words] for doc in texts]\n",
        "\n",
        "def make_bigrams(texts):\n",
        "    return [bigram_mod[doc] for doc in texts]\n",
        "\n",
        "def make_trigrams(texts):\n",
        "    return [trigram_mod[bigram_mod[doc]] for doc in texts]\n",
        "\n",
        "def lemmatization(texts, allowed_postags=['NOUN', 'ADJ', 'VERB', 'ADV']):\n",
        "    \"\"\"https://spacy.io/api/annotation\"\"\"\n",
        "    texts_out = []\n",
        "    for sent in texts:\n",
        "        doc = nlp(\" \".join(sent)) \n",
        "        texts_out.append([token.lemma_ for token in doc if token.pos_ in allowed_postags])\n",
        "    return texts_out"
      ],
      "metadata": {
        "colab": {
          "base_uri": "https://localhost:8080/"
        },
        "id": "FEPAJfGxjR8u",
        "outputId": "9346f8d9-625b-4621-f0eb-81d9301c40be"
      },
      "execution_count": 6,
      "outputs": [
        {
          "output_type": "stream",
          "name": "stderr",
          "text": [
            "[nltk_data] Downloading package stopwords to /root/nltk_data...\n",
            "[nltk_data]   Package stopwords is already up-to-date!\n"
          ]
        }
      ]
    },
    {
      "cell_type": "code",
      "source": [
        "nlp = spacy.load(\"en_core_web_sm\")"
      ],
      "metadata": {
        "id": "XIwGaYlGqJq_"
      },
      "execution_count": 7,
      "outputs": []
    },
    {
      "cell_type": "code",
      "source": [
        "from gensim.utils import simple_preprocess\n",
        "import spacy\n",
        "\n",
        "# NLTK Stop words\n",
        "from nltk.corpus import stopwords\n",
        "stop_words = stopwords.words('english')\n",
        "stop_words.extend(['from', 'subject', 're', 'edu', 'use'])\n",
        "\n",
        "# Remove Stop Words\n",
        "data_words_nostops = remove_stopwords(data_words)\n",
        "\n",
        "# Form Bigrams\n",
        "data_words_bigrams = make_bigrams(data_words_nostops)\n",
        "\n",
        "# Initialize spacy 'en' model, keeping only tagger component (for efficiency)\n",
        "# python3 -m spacy download en\n",
        "nlp = spacy.load(\"en_core_web_sm\", disable=['parser', 'ner'])\n",
        "\n",
        "# Do lemmatization keeping only noun, adj, vb, adv\n",
        "data_lemmatized = lemmatization(data_words_bigrams, allowed_postags=['NOUN', 'ADJ', 'VERB', 'ADV'])\n",
        "\n",
        "print(data_lemmatized[:1])"
      ],
      "metadata": {
        "colab": {
          "base_uri": "https://localhost:8080/"
        },
        "id": "GLzCWdScpoH0",
        "outputId": "730c716d-2eee-41f1-e9a0-66af8c545d44"
      },
      "execution_count": 8,
      "outputs": [
        {
          "output_type": "stream",
          "name": "stdout",
          "text": [
            "[['thing', 'car', 'nntp_poste', 'host', 'park', 'line', 'wonder', 'enlighten', 'car', 'see', 'day', 'door', 'sport', 'car', 'look', 'late', 'early', 'call', 'door', 'really', 'small', 'addition', 'separate', 'rest', 'body', 'know', 'tellme', 'model', 'name', 'engine', 'spec', 'year', 'production', 'car', 'make', 'history', 'info', 'funky', 'look', 'car', 'mail', 'thank', 'bring', 'neighborhood', 'lerxst']]\n"
          ]
        }
      ]
    },
    {
      "cell_type": "markdown",
      "source": [
        "# Create dictionary and corpus\n",
        "\n",
        "The dictionary and the corpus are the two main inputs for the LDA model."
      ],
      "metadata": {
        "id": "fOF6kYQBrnZt"
      }
    },
    {
      "cell_type": "code",
      "source": [
        "import gensim.corpora as corpora\n",
        "\n",
        "# Create Dictionary\n",
        "id2word = corpora.Dictionary(data_lemmatized)\n",
        "\n",
        "# Create Corpus\n",
        "texts = data_lemmatized\n",
        "\n",
        "# Term Document Frequency\n",
        "corpus = [id2word.doc2bow(text) for text in texts]\n",
        "\n",
        "# View\n",
        "print(corpus[:1])"
      ],
      "metadata": {
        "colab": {
          "base_uri": "https://localhost:8080/"
        },
        "id": "zvck30jBpoMH",
        "outputId": "a3d24cd3-ce48-4e80-8250-1d48e8f7e52a"
      },
      "execution_count": 9,
      "outputs": [
        {
          "output_type": "stream",
          "name": "stdout",
          "text": [
            "[[(0, 1), (1, 1), (2, 1), (3, 1), (4, 5), (5, 1), (6, 2), (7, 1), (8, 1), (9, 1), (10, 1), (11, 1), (12, 1), (13, 1), (14, 1), (15, 1), (16, 1), (17, 1), (18, 2), (19, 1), (20, 1), (21, 1), (22, 1), (23, 1), (24, 1), (25, 1), (26, 1), (27, 1), (28, 1), (29, 1), (30, 1), (31, 1), (32, 1), (33, 1), (34, 1), (35, 1), (36, 1), (37, 1), (38, 1)]]\n"
          ]
        }
      ]
    },
    {
      "cell_type": "markdown",
      "source": [
        "After processing, we have obtained a corpus which is a list of pairs (index, frequency) encoding documents about the index specified in the dictionary with their occurrence frequency in the text."
      ],
      "metadata": {
        "id": "tkxYYWmQt7N6"
      }
    },
    {
      "cell_type": "code",
      "source": [
        "# Human readable format of corpus (term-frequency)\n",
        "[[(id2word[id], freq) for id, freq in cp] for cp in corpus[:1]]"
      ],
      "metadata": {
        "colab": {
          "base_uri": "https://localhost:8080/"
        },
        "id": "ii4US2kXt8KT",
        "outputId": "32c854c1-2a57-47d6-8db9-e76883769c30"
      },
      "execution_count": 11,
      "outputs": [
        {
          "output_type": "execute_result",
          "data": {
            "text/plain": [
              "[[('addition', 1),\n",
              "  ('body', 1),\n",
              "  ('bring', 1),\n",
              "  ('call', 1),\n",
              "  ('car', 5),\n",
              "  ('day', 1),\n",
              "  ('door', 2),\n",
              "  ('early', 1),\n",
              "  ('engine', 1),\n",
              "  ('enlighten', 1),\n",
              "  ('funky', 1),\n",
              "  ('history', 1),\n",
              "  ('host', 1),\n",
              "  ('info', 1),\n",
              "  ('know', 1),\n",
              "  ('late', 1),\n",
              "  ('lerxst', 1),\n",
              "  ('line', 1),\n",
              "  ('look', 2),\n",
              "  ('mail', 1),\n",
              "  ('make', 1),\n",
              "  ('model', 1),\n",
              "  ('name', 1),\n",
              "  ('neighborhood', 1),\n",
              "  ('nntp_poste', 1),\n",
              "  ('park', 1),\n",
              "  ('production', 1),\n",
              "  ('really', 1),\n",
              "  ('rest', 1),\n",
              "  ('see', 1),\n",
              "  ('separate', 1),\n",
              "  ('small', 1),\n",
              "  ('spec', 1),\n",
              "  ('sport', 1),\n",
              "  ('tellme', 1),\n",
              "  ('thank', 1),\n",
              "  ('thing', 1),\n",
              "  ('wonder', 1),\n",
              "  ('year', 1)]]"
            ]
          },
          "metadata": {},
          "execution_count": 11
        }
      ]
    },
    {
      "cell_type": "markdown",
      "source": [
        "\n",
        "# Build LDA model\n",
        "\n",
        "The main parameter specified in the LDA model is the number of topics (num_topics),\n",
        "\n",
        " chunksize: The amount of text to be included in each training batch.\n",
        " \n",
        "  passes is the number of training epochs.\n",
        "\n"
      ],
      "metadata": {
        "id": "2_sBr3Oyu5s7"
      }
    },
    {
      "cell_type": "code",
      "source": [
        "# Build LDA model\n",
        "lda_model = gensim.models.ldamodel.LdaModel(corpus=corpus,\n",
        "                                           id2word=id2word,\n",
        "                                           num_topics=20, \n",
        "                                           random_state=100,\n",
        "                                           update_every=1,\n",
        "                                           chunksize=100,\n",
        "                                           passes=5,\n",
        "                                           alpha='auto',\n",
        "                                           per_word_topics=True)"
      ],
      "metadata": {
        "id": "K521Hd30t8N0"
      },
      "execution_count": 12,
      "outputs": []
    },
    {
      "cell_type": "markdown",
      "source": [
        "\n",
        "After training the model, we  save it to a folder for future use."
      ],
      "metadata": {
        "id": "UFBIExO9v5A8"
      }
    },
    {
      "cell_type": "code",
      "source": [
        "lda_model.save(\"/content/drive/MyDrive/LDA_model_classification/model_lda_100.model\")"
      ],
      "metadata": {
        "id": "1FOt3CBpt8Ri"
      },
      "execution_count": 14,
      "outputs": []
    },
    {
      "cell_type": "markdown",
      "source": [
        "\n",
        "And reload the model from the folder"
      ],
      "metadata": {
        "id": "xrkej_xpw8WM"
      }
    },
    {
      "cell_type": "code",
      "source": [
        "# Load model\n",
        "from gensim.models.ldamodel import LdaModel\n",
        "lda = LdaModel.load(\"/content/drive/MyDrive/LDA_model_classification/model_lda_100.model\")\n"
      ],
      "metadata": {
        "id": "6QdZHjl0w2Md"
      },
      "execution_count": 16,
      "outputs": []
    },
    {
      "cell_type": "markdown",
      "source": [
        "# Topics obtained after training"
      ],
      "metadata": {
        "id": "CHtJu2trxbTT"
      }
    },
    {
      "cell_type": "markdown",
      "source": [
        "\n",
        "After training the LDA model, we can find the distribution of documents by topics and represent topics according to the distribution of words.\n",
        "\n",
        "can find the 10 most important words in each topic with their distribution weights."
      ],
      "metadata": {
        "id": "wQoQc3VTxwUJ"
      }
    },
    {
      "cell_type": "code",
      "source": [
        "from pprint import pprint\n",
        "\n",
        "# Print the Keyword in the 10 topics\n",
        "pprint(lda_model.print_topics())\n",
        "doc_lda = lda_model[corpus]"
      ],
      "metadata": {
        "colab": {
          "base_uri": "https://localhost:8080/"
        },
        "id": "9_VC7DoEw2QL",
        "outputId": "27447d30-ebec-4a35-8378-d059ae0cd1df"
      },
      "execution_count": 17,
      "outputs": [
        {
          "output_type": "stream",
          "name": "stdout",
          "text": [
            "[(0,\n",
            "  '0.021*\"people\" + 0.017*\"make\" + 0.012*\"want\" + 0.010*\"group\" + '\n",
            "  '0.010*\"right\" + 0.009*\"order\" + 0.009*\"name\" + 0.009*\"new\" + 0.009*\"issue\" '\n",
            "  '+ 0.009*\"ask\"'),\n",
            " (1,\n",
            "  '0.032*\"sale\" + 0.019*\"israeli\" + 0.016*\"lebanese\" + 0.015*\"sell\" + '\n",
            "  '0.014*\"price\" + 0.013*\"factory\" + 0.011*\"offer\" + 0.011*\"arab\" + '\n",
            "  '0.009*\"processor\" + 0.009*\"include\"'),\n",
            " (2,\n",
            "  '0.020*\"state\" + 0.016*\"law\" + 0.016*\"patient\" + 0.015*\"government\" + '\n",
            "  '0.013*\"case\" + 0.010*\"report\" + 0.009*\"public\" + 0.009*\"crime\" + '\n",
            "  '0.009*\"citizen\" + 0.009*\"right\"'),\n",
            " (3,\n",
            "  '0.023*\"distribution\" + 0.012*\"library\" + 0.010*\"title\" + 0.009*\"quick\" + '\n",
            "  '0.009*\"imaging\" + 0.008*\"cj\" + 0.008*\"trace\" + 0.008*\"ad\" + '\n",
            "  '0.008*\"conference\" + 0.008*\"astronomy\"'),\n",
            " (4,\n",
            "  '0.017*\"line\" + 0.015*\"use\" + 0.013*\"thank\" + 0.012*\"system\" + 0.012*\"need\" '\n",
            "  '+ 0.010*\"work\" + 0.010*\"mail\" + 0.010*\"program\" + 0.010*\"problem\" + '\n",
            "  '0.010*\"window\"'),\n",
            " (5,\n",
            "  '0.054*\"team\" + 0.051*\"game\" + 0.036*\"play\" + 0.018*\"hockey\" + '\n",
            "  '0.018*\"season\" + 0.016*\"slave\" + 0.014*\"pin\" + 0.014*\"trade\" + 0.012*\"fan\" '\n",
            "  '+ 0.012*\"family\"'),\n",
            " (6,\n",
            "  '0.036*\"_\" + 0.026*\"dn\" + 0.022*\"m\" + 0.017*\"c\" + 0.015*\"rlk\" + 0.010*\"mot\" '\n",
            "  '+ 0.009*\"sc\" + 0.008*\"ei\" + 0.008*\"cx\" + 0.008*\"sy\"'),\n",
            " (7,\n",
            "  '0.045*\"file\" + 0.015*\"format\" + 0.011*\"connection\" + 0.011*\"blank\" + '\n",
            "  '0.010*\"laugh\" + 0.009*\"install\" + 0.008*\"os\" + 0.008*\"gay\" + 0.008*\"cycle\" '\n",
            "  '+ 0.007*\"load\"'),\n",
            " (8,\n",
            "  '0.086*\"drive\" + 0.019*\"scsi\" + 0.017*\"controller\" + 0.013*\"jumper\" + '\n",
            "  '0.013*\"diagnosis\" + 0.013*\"pain\" + 0.013*\"headache\" + 0.011*\"doctor\" + '\n",
            "  '0.011*\"mb\" + 0.010*\"syndrome\"'),\n",
            " (9,\n",
            "  '0.022*\"power\" + 0.018*\"wire\" + 0.012*\"ground\" + 0.011*\"mount\" + '\n",
            "  '0.011*\"external\" + 0.010*\"operate\" + 0.010*\"lead\" + 0.008*\"current\" + '\n",
            "  '0.008*\"encryption\" + 0.007*\"flight\"'),\n",
            " (10,\n",
            "  '0.023*\"get\" + 0.021*\"go\" + 0.018*\"think\" + 0.016*\"time\" + 0.016*\"say\" + '\n",
            "  '0.016*\"know\" + 0.016*\"well\" + 0.016*\"see\" + 0.014*\"good\" + 0.013*\"make\"'),\n",
            " (11,\n",
            "  '0.019*\"book\" + 0.016*\"provide\" + 0.013*\"science\" + 0.013*\"source\" + '\n",
            "  '0.012*\"test\" + 0.012*\"physical\" + 0.012*\"number\" + 0.010*\"reference\" + '\n",
            "  '0.009*\"value\" + 0.009*\"research\"'),\n",
            " (12,\n",
            "  '0.037*\"space\" + 0.013*\"score\" + 0.013*\"earth\" + 0.012*\"nhl\" + '\n",
            "  '0.012*\"launch\" + 0.011*\"sphere\" + 0.009*\"orbit\" + 0.009*\"mission\" + '\n",
            "  '0.008*\"star\" + 0.008*\"first\"'),\n",
            " (13,\n",
            "  '0.738*\"ax\" + 0.006*\"cub\" + 0.004*\"icon\" + 0.004*\"index\" + 0.004*\"film\" + '\n",
            "  '0.004*\"tension\" + 0.003*\"xterm\" + 0.003*\"rob\" + 0.003*\"download\" + '\n",
            "  '0.003*\"deskjet\"'),\n",
            " (14,\n",
            "  '0.036*\"car\" + 0.015*\"drive\" + 0.015*\"buy\" + 0.014*\"price\" + 0.011*\"model\" + '\n",
            "  '0.010*\"self\" + 0.010*\"engine\" + 0.009*\"normal\" + 0.008*\"cost\" + '\n",
            "  '0.008*\"new\"'),\n",
            " (15,\n",
            "  '0.019*\"kill\" + 0.015*\"people\" + 0.015*\"child\" + 0.014*\"woman\" + '\n",
            "  '0.013*\"attack\" + 0.012*\"war\" + 0.012*\"death\" + 0.011*\"soldier\" + '\n",
            "  '0.010*\"village\" + 0.010*\"greek\"'),\n",
            " (16,\n",
            "  '0.094*\"write\" + 0.090*\"com\" + 0.090*\"line\" + 0.069*\"article\" + '\n",
            "  '0.059*\"organization\" + 0.048*\"nntp_poste\" + 0.041*\"host\" + 0.022*\"apr\" + '\n",
            "  '0.018*\"reply\" + 0.012*\"gun\"'),\n",
            " (17,\n",
            "  '0.024*\"bike\" + 0.019*\"black\" + 0.017*\"white\" + 0.016*\"cool\" + '\n",
            "  '0.013*\"period\" + 0.013*\"umich\" + 0.012*\"air\" + 0.010*\"hole\" + 0.010*\"tumor\" '\n",
            "  '+ 0.010*\"gift\"'),\n",
            " (18,\n",
            "  '0.019*\"evidence\" + 0.016*\"believe\" + 0.015*\"say\" + 0.014*\"reason\" + '\n",
            "  '0.013*\"people\" + 0.012*\"claim\" + 0.011*\"sense\" + 0.009*\"faith\" + '\n",
            "  '0.008*\"exist\" + 0.008*\"christian\"'),\n",
            " (19,\n",
            "  '0.039*\"key\" + 0.022*\"chip\" + 0.021*\"system\" + 0.019*\"use\" + 0.015*\"bit\" + '\n",
            "  '0.015*\"datum\" + 0.015*\"entry\" + 0.013*\"ripem\" + 0.012*\"technology\" + '\n",
            "  '0.010*\"device\"')]\n"
          ]
        }
      ]
    },
    {
      "cell_type": "markdown",
      "source": [
        "example For topic 1 we see their representation as:\n",
        "\n"
      ],
      "metadata": {
        "id": "hDFHYx7VySID"
      }
    },
    {
      "cell_type": "markdown",
      "source": [
        "**'0.032*\"sale\" + 0.019*\"israeli\" + 0.016*\"lebanese\" + 0.015*\"sell\" + '\n",
        "  '0.014*\"price\" + 0.013*\"factory\" + 0.011*\"offer\" + 0.011*\"arab\" + '\n",
        "  '0.009*\"processor\" + 0.009*\"include\"''**"
      ],
      "metadata": {
        "id": "K9s9RMFhyjGc"
      }
    },
    {
      "cell_type": "markdown",
      "source": [
        "This means that the 10 most important words contributing to this topic include:\n",
        "\n",
        "\"sale\" , \"israeli\"  ,\"lebanese\"  ,\"sell\" , \"price\"  ,\"factory\" , \"offer\" , \"arab\" , \"processor\" , \"include\""
      ],
      "metadata": {
        "id": "CZ_rOVE7y8ss"
      }
    },
    {
      "cell_type": "markdown",
      "source": [
        "Based on the feeling we can know that this topic is related to sales."
      ],
      "metadata": {
        "id": "W5hZe7ymzyDQ"
      }
    },
    {
      "cell_type": "markdown",
      "source": [
        "# Calculate the model's perplexity and coherence score"
      ],
      "metadata": {
        "id": "cJMSqN6U1W6m"
      }
    },
    {
      "cell_type": "markdown",
      "source": [
        "The perplexity and coherence scores measure the quality of the model as good or bad.\n",
        "\n",
        "It is also used in finding out how many topics match the dataset.\n",
        "\n",
        "Perplexity is built on the logarithm of the maximum rational function (MLE), so the lower the perplexity, the better the quality of the model.\n",
        "\n",
        "In contrast, the higher the model's Coherence score, the better the model will be."
      ],
      "metadata": {
        "id": "3zaV0Nt_2LaP"
      }
    },
    {
      "cell_type": "code",
      "source": [
        "from gensim.models.coherencemodel import CoherenceModel\n",
        "\n",
        "# Compute Perplexity\n",
        "print('\\nPerplexity: ', lda_model.log_perplexity(corpus))  # a measure of how good the model is. lower the better.\n",
        "\n",
        "# Compute Coherence Score\n",
        "coherence_model_lda = CoherenceModel(model=lda_model, texts=data_lemmatized, dictionary=id2word, coherence='c_v')\n",
        "coherence_lda = coherence_model_lda.get_coherence()\n",
        "print('\\nCoherence Score: ', coherence_lda)"
      ],
      "metadata": {
        "colab": {
          "base_uri": "https://localhost:8080/"
        },
        "id": "L5UEpdezyZj-",
        "outputId": "3210ec45-4577-44a2-dac9-82112f2c6964"
      },
      "execution_count": 18,
      "outputs": [
        {
          "output_type": "stream",
          "name": "stdout",
          "text": [
            "\n",
            "Perplexity:  -8.404981361079505\n",
            "\n",
            "Coherence Score:  0.4858610022721634\n"
          ]
        }
      ]
    },
    {
      "cell_type": "code",
      "source": [
        "!pip install pyLDAvis\n"
      ],
      "metadata": {
        "colab": {
          "base_uri": "https://localhost:8080/"
        },
        "id": "4_hPOIJG25-P",
        "outputId": "ea49d7ab-d9c9-40a4-d358-5ec37db48538"
      },
      "execution_count": 22,
      "outputs": [
        {
          "output_type": "stream",
          "name": "stdout",
          "text": [
            "Looking in indexes: https://pypi.org/simple, https://us-python.pkg.dev/colab-wheels/public/simple/\n",
            "Requirement already satisfied: pyLDAvis in /usr/local/lib/python3.7/dist-packages (3.3.1)\n",
            "Requirement already satisfied: numpy>=1.20.0 in /usr/local/lib/python3.7/dist-packages (from pyLDAvis) (1.21.6)\n",
            "Requirement already satisfied: scipy in /usr/local/lib/python3.7/dist-packages (from pyLDAvis) (1.7.3)\n",
            "Requirement already satisfied: joblib in /usr/local/lib/python3.7/dist-packages (from pyLDAvis) (1.1.0)\n",
            "Requirement already satisfied: numexpr in /usr/local/lib/python3.7/dist-packages (from pyLDAvis) (2.8.3)\n",
            "Requirement already satisfied: future in /usr/local/lib/python3.7/dist-packages (from pyLDAvis) (0.16.0)\n",
            "Requirement already satisfied: setuptools in /usr/local/lib/python3.7/dist-packages (from pyLDAvis) (57.4.0)\n",
            "Requirement already satisfied: pandas>=1.2.0 in /usr/local/lib/python3.7/dist-packages (from pyLDAvis) (1.3.5)\n",
            "Requirement already satisfied: sklearn in /usr/local/lib/python3.7/dist-packages (from pyLDAvis) (0.0)\n",
            "Requirement already satisfied: scikit-learn in /usr/local/lib/python3.7/dist-packages (from pyLDAvis) (1.0.2)\n",
            "Requirement already satisfied: funcy in /usr/local/lib/python3.7/dist-packages (from pyLDAvis) (1.17)\n",
            "Requirement already satisfied: gensim in /usr/local/lib/python3.7/dist-packages (from pyLDAvis) (3.6.0)\n",
            "Requirement already satisfied: jinja2 in /usr/local/lib/python3.7/dist-packages (from pyLDAvis) (2.11.3)\n",
            "Requirement already satisfied: python-dateutil>=2.7.3 in /usr/local/lib/python3.7/dist-packages (from pandas>=1.2.0->pyLDAvis) (2.8.2)\n",
            "Requirement already satisfied: pytz>=2017.3 in /usr/local/lib/python3.7/dist-packages (from pandas>=1.2.0->pyLDAvis) (2022.2.1)\n",
            "Requirement already satisfied: six>=1.5 in /usr/local/lib/python3.7/dist-packages (from python-dateutil>=2.7.3->pandas>=1.2.0->pyLDAvis) (1.15.0)\n",
            "Requirement already satisfied: smart-open>=1.2.1 in /usr/local/lib/python3.7/dist-packages (from gensim->pyLDAvis) (5.2.1)\n",
            "Requirement already satisfied: MarkupSafe>=0.23 in /usr/local/lib/python3.7/dist-packages (from jinja2->pyLDAvis) (2.0.1)\n",
            "Requirement already satisfied: packaging in /usr/local/lib/python3.7/dist-packages (from numexpr->pyLDAvis) (21.3)\n",
            "Requirement already satisfied: pyparsing!=3.0.5,>=2.0.2 in /usr/local/lib/python3.7/dist-packages (from packaging->numexpr->pyLDAvis) (3.0.9)\n",
            "Requirement already satisfied: threadpoolctl>=2.0.0 in /usr/local/lib/python3.7/dist-packages (from scikit-learn->pyLDAvis) (3.1.0)\n"
          ]
        }
      ]
    },
    {
      "cell_type": "code",
      "source": [
        "# Plotting tools\n",
        "import pyLDAvis\n",
        "import pyLDAvis.gensim_models as gensimvis  \n",
        "import matplotlib.pyplot as plt\n",
        "%matplotlib inline\n",
        "\n",
        "# Visualize the topics\n",
        "pyLDAvis.enable_notebook()\n",
        "vis = gensimvis.prepare(lda_model, corpus, id2word)\n",
        "vis"
      ],
      "metadata": {
        "colab": {
          "base_uri": "https://localhost:8080/",
          "height": 896
        },
        "id": "R3i3ClOc29Lv",
        "outputId": "eb948146-3dfa-4028-8985-765c5ce41644"
      },
      "execution_count": 24,
      "outputs": [
        {
          "output_type": "stream",
          "name": "stderr",
          "text": [
            "/usr/local/lib/python3.7/dist-packages/pyLDAvis/_prepare.py:247: FutureWarning: In a future version of pandas all arguments of DataFrame.drop except for the argument 'labels' will be keyword-only\n",
            "  by='saliency', ascending=False).head(R).drop('saliency', 1)\n"
          ]
        },
        {
          "output_type": "execute_result",
          "data": {
            "text/plain": [
              "PreparedData(topic_coordinates=              x         y  topics  cluster       Freq\n",
              "topic                                                \n",
              "10    -0.306503  0.024604       1        1  20.627568\n",
              "4     -0.203356 -0.214219       2        1  13.467435\n",
              "0     -0.249540  0.076332       3        1   9.067834\n",
              "18    -0.260259  0.116301       4        1   8.355811\n",
              "16    -0.096864 -0.123526       5        1   7.223555\n",
              "13     0.141209  0.053404       6        1   5.239236\n",
              "11    -0.086216 -0.037947       7        1   4.927812\n",
              "19     0.002864 -0.214772       8        1   3.913549\n",
              "15    -0.047989  0.240950       9        1   3.631932\n",
              "2      0.000013  0.160050      10        1   3.337128\n",
              "14     0.025884 -0.100025      11        1   3.294652\n",
              "12     0.088564 -0.042745      12        1   2.444001\n",
              "1      0.066337  0.036922      13        1   2.215852\n",
              "5      0.101968  0.025699      14        1   2.212504\n",
              "9      0.098756 -0.046245      15        1   2.090358\n",
              "7      0.114052 -0.003444      16        1   2.071360\n",
              "17     0.131355 -0.012493      17        1   1.851556\n",
              "3      0.146998  0.002916      18        1   1.533185\n",
              "8      0.152693  0.011527      19        1   1.435953\n",
              "6      0.180033  0.046711      20        1   1.058719, topic_info=          Term          Freq         Total Category  logprob  loglift\n",
              "4473        ax  50150.000000  50150.000000  Default  30.0000  30.0000\n",
              "17        line  12201.000000  12201.000000  Default  29.0000  29.0000\n",
              "182        com   8974.000000   8974.000000  Default  28.0000  28.0000\n",
              "202      write   9662.000000   9662.000000  Default  27.0000  27.0000\n",
              "43     article   6522.000000   6522.000000  Default  26.0000  26.0000\n",
              "...        ...           ...           ...      ...      ...      ...\n",
              "20405      scx     37.946182     39.093577  Topic20  -5.8914   4.5183\n",
              "4699       umu     94.323523    112.790164  Topic20  -4.9808   4.3693\n",
              "4516        ei    113.021349    179.440998  Topic20  -4.7999   4.0858\n",
              "1087        sc    130.025868    234.704927  Topic20  -4.6598   3.9575\n",
              "4492        ch     52.078488     61.981999  Topic20  -5.5748   4.3740\n",
              "\n",
              "[970 rows x 6 columns], token_table=      Topic      Freq      Term\n",
              "term                           \n",
              "4467     20  0.997914         _\n",
              "1372      3  0.267391    accept\n",
              "1372      4  0.731949    accept\n",
              "4147      6  0.992771  activate\n",
              "3875     18  0.990396        ad\n",
              "...     ...       ...       ...\n",
              "38        9  0.001650      year\n",
              "38       10  0.014852      year\n",
              "38       12  0.070134      year\n",
              "38       13  0.006326      year\n",
              "38       14  0.092137      year\n",
              "\n",
              "[1689 rows x 3 columns], R=30, lambda_step=0.01, plot_opts={'xlab': 'PC1', 'ylab': 'PC2'}, topic_order=[11, 5, 1, 19, 17, 14, 12, 20, 16, 3, 15, 13, 2, 6, 10, 8, 18, 4, 9, 7])"
            ],
            "text/html": [
              "\n",
              "<link rel=\"stylesheet\" type=\"text/css\" href=\"https://cdn.jsdelivr.net/gh/bmabey/pyLDAvis@3.3.1/pyLDAvis/js/ldavis.v1.0.0.css\">\n",
              "\n",
              "\n",
              "<div id=\"ldavis_el3391400767820443686975465206\"></div>\n",
              "<script type=\"text/javascript\">\n",
              "\n",
              "var ldavis_el3391400767820443686975465206_data = {\"mdsDat\": {\"x\": [-0.3065032734498664, -0.20335583250417238, -0.24953993780689254, -0.260258712166992, -0.09686402946617045, 0.14120918279167027, -0.08621590271536511, 0.002863777620608236, -0.0479888933139403, 1.280904464378972e-05, 0.025884268557333227, 0.08856363767440727, 0.06633694689237815, 0.10196767257428198, 0.09875631374975344, 0.11405212384279237, 0.13135496879875896, 0.14699832490515102, 0.15269305889341275, 0.1800334960782079], \"y\": [0.024603552246241812, -0.21421905971679395, 0.07633166806099706, 0.11630144751273445, -0.12352628396880562, 0.05340386033873, -0.03794696762750516, -0.21477190349905778, 0.2409503167650014, 0.1600495867720139, -0.10002480282893669, -0.04274491664216416, 0.03692228628095677, 0.025698919125465288, -0.04624541379408524, -0.0034437101272601707, -0.0124927247937781, 0.002916292702516119, 0.011527064148634901, 0.04671078904509403], \"topics\": [1, 2, 3, 4, 5, 6, 7, 8, 9, 10, 11, 12, 13, 14, 15, 16, 17, 18, 19, 20], \"cluster\": [1, 1, 1, 1, 1, 1, 1, 1, 1, 1, 1, 1, 1, 1, 1, 1, 1, 1, 1, 1], \"Freq\": [20.627567661824234, 13.467435103246594, 9.06783382158686, 8.35581149449086, 7.223555331626606, 5.23923566766002, 4.927811584056236, 3.913548667881124, 3.6319317717209207, 3.337127865329908, 3.294652473846899, 2.444000931405073, 2.2158523905410914, 2.2125037576885926, 2.0903578248701606, 2.0713601598212095, 1.851556182611479, 1.5331851928787585, 1.4359533246829674, 1.058718792230401]}, \"tinfo\": {\"Term\": [\"ax\", \"line\", \"com\", \"write\", \"article\", \"organization\", \"nntp_poste\", \"host\", \"go\", \"drive\", \"get\", \"people\", \"say\", \"system\", \"key\", \"year\", \"file\", \"team\", \"think\", \"game\", \"make\", \"use\", \"apr\", \"well\", \"car\", \"evidence\", \"see\", \"time\", \"reply\", \"space\", \"maybe\", \"lose\", \"guy\", \"hit\", \"goal\", \"chance\", \"wing\", \"police\", \"notice\", \"realize\", \"throw\", \"originator\", \"average\", \"beat\", \"cop\", \"stay\", \"insist\", \"defense\", \"catch\", \"round\", \"aware\", \"mistake\", \"club\", \"walk\", \"bunch\", \"ice\", \"guess\", \"ball\", \"wear\", \"channel\", \"go\", \"day\", \"aid\", \"bad\", \"still\", \"well\", \"stop\", \"remember\", \"back\", \"couple\", \"start\", \"happen\", \"time\", \"rest\", \"last\", \"take\", \"really\", \"see\", \"come\", \"think\", \"lot\", \"little\", \"hand\", \"much\", \"get\", \"year\", \"good\", \"end\", \"first\", \"long\", \"even\", \"know\", \"tell\", \"say\", \"thing\", \"way\", \"give\", \"make\", \"seem\", \"try\", \"look\", \"point\", \"also\", \"mail\", \"window\", \"card\", \"software\", \"info\", \"email\", \"version\", \"image\", \"pc\", \"cpu\", \"memory\", \"color\", \"application\", \"disk\", \"video\", \"screen\", \"network\", \"display\", \"instal\", \"hardware\", \"server\", \"board\", \"advance\", \"mode\", \"appreciate\", \"monitor\", \"package\", \"character\", \"print\", \"fax\", \"machine\", \"thank\", \"computer\", \"slow\", \"program\", \"address\", \"available\", \"driver\", \"send\", \"use\", \"system\", \"need\", \"set\", \"message\", \"help\", \"problem\", \"run\", \"work\", \"do\", \"line\", \"also\", \"information\", \"get\", \"new\", \"find\", \"look\", \"money\", \"player\", \"internet\", \"graphic\", \"church\", \"story\", \"tape\", \"drug\", \"serious\", \"watch\", \"clipper\", \"respect\", \"clearly\", \"tap\", \"raise\", \"owner\", \"trust\", \"announcement\", \"pro\", \"wife\", \"convert\", \"around\", \"pack\", \"hate\", \"worry\", \"court\", \"rational\", \"authority\", \"president\", \"tax\", \"business\", \"decision\", \"name\", \"issue\", \"cover\", \"order\", \"pay\", \"local\", \"group\", \"posting\", \"concern\", \"people\", \"ask\", \"want\", \"make\", \"right\", \"far\", \"new\", \"free\", \"need\", \"reason\", \"government\", \"state\", \"public\", \"know\", \"good\", \"evidence\", \"faith\", \"christian\", \"religion\", \"truth\", \"belief\", \"atheist\", \"conclusion\", \"logic\", \"rutger\", \"revelation\", \"nature\", \"moral\", \"bible\", \"mark_baker\", \"christianity\", \"atheism\", \"interpretation\", \"knowledge\", \"doctrine\", \"universe\", \"reject\", \"sex\", \"teach\", \"assumption\", \"scripture\", \"worship\", \"prayer\", \"blind\", \"marriage\", \"religious\", \"argument\", \"sense\", \"claim\", \"believe\", \"human\", \"reason\", \"word\", \"exist\", \"prove\", \"indeed\", \"accept\", \"die\", \"life\", \"true\", \"explain\", \"man\", \"say\", \"people\", \"mean\", \"law\", \"fact\", \"question\", \"many\", \"think\", \"follow\", \"read\", \"apr\", \"gun\", \"brain\", \"sin\", \"bill\", \"article\", \"sp\", \"dept\", \"employer\", \"ban\", \"unlikely\", \"gun_control\", \"canadian\", \"gang\", \"restriction\", \"bear_arm\", \"funny\", \"jet\", \"glad\", \"curious\", \"sigh\", \"snow\", \"million\", \"regulation\", \"meaning\", \"portal\", \"handgun\", \"sys\", \"spare\", \"impair\", \"com\", \"write\", \"nntp_poste\", \"organization\", \"host\", \"reply\", \"line\", \"news\", \"sorry\", \"university\", \"ignorant\", \"version_pl\", \"weapon\", \"post\", \"exactly\", \"net\", \"tv\", \"opinion\", \"read\", \"wonder\", \"count\", \"possibly\", \"uiuc\", \"hear\", \"speak\", \"choose\", \"license\", \"mean\", \"know\", \"use\", \"ax\", \"cub\", \"icon\", \"index\", \"film\", \"tension\", \"xterm\", \"rob\", \"download\", \"deskjet\", \"hi\", \"bxn\", \"dm\", \"window_manag\", \"rebel\", \"nei\", \"po_andrew\", \"khz\", \"bubblejet\", \"wallpaper\", \"protein\", \"medication\", \"activate\", \"temporal\", \"roster\", \"odometer\", \"qax\", \"shoei\", \"muscle\", \"blade\", \"science\", \"test\", \"physical\", \"publish\", \"community\", \"author\", \"existence\", \"direct\", \"scientific\", \"material\", \"motif\", \"concept\", \"united_state\", \"recent\", \"analysis\", \"warranty\", \"measure\", \"translation\", \"resource\", \"procedure\", \"pm\", \"bitnet\", \"fi\", \"theory\", \"failure\", \"serial\", \"solid\", \"distribute\", \"equivalent\", \"primary\", \"value\", \"industry\", \"reference\", \"useful\", \"book\", \"process\", \"field\", \"describe\", \"provide\", \"purpose\", \"effect\", \"source\", \"research\", \"faq\", \"general\", \"form\", \"level\", \"reality\", \"number\", \"event\", \"result\", \"study\", \"include\", \"base\", \"example\", \"choose\", \"key\", \"chip\", \"entry\", \"ripem\", \"item\", \"input\", \"encrypt\", \"secure\", \"internal\", \"seller\", \"signal\", \"transfer\", \"random\", \"select\", \"commercial\", \"cable\", \"clock\", \"expert\", \"session\", \"socket\", \"workstation\", \"hook\", \"vertical\", \"rsa\", \"resolution\", \"clone\", \"patent\", \"sector\", \"registration\", \"transmit\", \"datum\", \"master\", \"device\", \"security\", \"expensive\", \"block\", \"bus\", \"technology\", \"bit\", \"design\", \"system\", \"unit\", \"use\", \"secret\", \"standard\", \"phone\", \"public\", \"information\", \"build\", \"part\", \"woman\", \"war\", \"soldier\", \"village\", \"greek\", \"armenian\", \"terrorist\", \"turk\", \"terrorism\", \"withdraw\", \"occupy\", \"turkish\", \"northern\", \"girl\", \"lebanese_resistance\", \"inhabitant\", \"aunt\", \"participate\", \"husband\", \"border\", \"troop\", \"escape\", \"proceed\", \"knife\", \"muslim\", \"greece\", \"torture\", \"employ\", \"genocide\", \"argic\", \"attack\", \"kill\", \"eat\", \"civilian\", \"murder\", \"death\", \"child\", \"force\", \"political\", \"destroy\", \"man\", \"people\", \"military\", \"mother\", \"food\", \"say\", \"live\", \"city\", \"government\", \"patient\", \"citizen\", \"disease\", \"national\", \"trial\", \"bomb\", \"health\", \"freedom\", \"gordon_bank\", \"adult\", \"medical\", \"militia\", \"pitt\", \"baby\", \"ethnic\", \"percent\", \"jim_zisfein\", \"exercise\", \"sink\", \"daughter\", \"exchange\", \"immediate\", \"constitution\", \"hicnet_medical\", \"newsletter_page\", \"highly\", \"migraine\", \"researcher\", \"aged\", \"surveillance\", \"vote\", \"crime\", \"treatment\", \"computer_science\", \"law\", \"prevent\", \"state\", \"government\", \"male\", \"report\", \"treat\", \"case\", \"member\", \"risk\", \"public\", \"right\", \"policy\", \"person\", \"rate\", \"control\", \"country\", \"car\", \"engine\", \"normal\", \"dealer\", \"mile\", \"edge\", \"keyboard\", \"benefit\", \"drum\", \"saturn\", \"slip\", \"ticket\", \"circle\", \"plate\", \"seat\", \"auto\", \"shot\", \"blue\", \"overall\", \"gas\", \"ti\", \"excuse\", \"corner\", \"gear\", \"leg\", \"assembly\", \"trivial\", \"left\", \"crack\", \"please_respond\", \"self\", \"vehicle\", \"front\", \"mine\", \"model\", \"price\", \"buy\", \"road\", \"drive\", \"cost\", \"light\", \"experience\", \"speed\", \"low\", \"new\", \"sell\", \"look\", \"high\", \"rate\", \"less\", \"score\", \"nhl\", \"launch\", \"sphere\", \"orbit\", \"star\", \"moon\", \"satellite\", \"plane\", \"stat\", \"rocket\", \"planet\", \"rd\", \"consulting\", \"schedule\", \"mar\", \"devil\", \"talent\", \"metal\", \"bd\", \"spring\", \"gatech\", \"setting\", \"receiver\", \"park\", \"spacecraft\", \"realistic\", \"comet\", \"sky\", \"solar\", \"mission\", \"space\", \"earth\", \"series\", \"pass\", \"division\", \"first\", \"year\", \"technology\", \"man\", \"sale\", \"israeli\", \"lebanese\", \"factory\", \"arab\", \"processor\", \"wave\", \"ship\", \"patrol\", \"opportunity\", \"shipping\", \"drink\", \"soul\", \"invasion\", \"routine\", \"super\", \"combine\", \"advertising\", \"camp\", \"brave\", \"palestinian\", \"drag\", \"gold\", \"opponent\", \"usage\", \"territory\", \"speaker\", \"syrian\", \"stack\", \"incentive\", \"shell\", \"welcome\", \"sell\", \"offer\", \"land\", \"price\", \"condition\", \"include\", \"purchase\", \"interested\", \"pay\", \"state\", \"area\", \"return\", \"game\", \"hockey\", \"season\", \"slave\", \"pin\", \"trade\", \"fan\", \"family\", \"playoff\", \"pen\", \"baseball\", \"telnet\", \"door\", \"coach\", \"distribution_na\", \"sj\", \"production\", \"liar\", \"bat\", \"stanley_cup\", \"penguin\", \"weekend\", \"ranger\", \"origin\", \"electrical\", \"ftp_site\", \"implementation\", \"pitcher\", \"ss\", \"league\", \"team\", \"play\", \"king\", \"next\", \"year\", \"pick\", \"final\", \"wire\", \"mount\", \"external\", \"operate\", \"flight\", \"battery\", \"tube\", \"dual\", \"band\", \"negative\", \"privacy\", \"cco_caltech\", \"neutral\", \"fuel\", \"technique\", \"shuttle\", \"detailed\", \"power_supply\", \"up\", \"resistance\", \"velocity\", \"radar_detector\", \"frequency\", \"grade\", \"amp\", \"space_station\", \"panel\", \"correspond\", \"landing\", \"decrease\", \"ground\", \"power\", \"lead\", \"encryption\", \"current\", \"supply\", \"equipment\", \"low\", \"high\", \"sensitive\", \"control\", \"format\", \"connection\", \"blank\", \"laugh\", \"os\", \"gay\", \"cycle\", \"award\", \"expansion\", \"prediction\", \"opinions_expresse\", \"master_slave\", \"setup\", \"trap\", \"nyx_c\", \"gif\", \"storage\", \"surprise\", \"solve\", \"specification\", \"au\", \"utility\", \"bend\", \"bio\", \"marry\", \"temporary\", \"wide_range\", \"diamond\", \"pathology\", \"menu\", \"file\", \"install\", \"cwru\", \"taste\", \"load\", \"dream\", \"directory\", \"positive\", \"bike\", \"white\", \"period\", \"umich\", \"air\", \"hole\", \"tumor\", \"gift\", \"water\", \"oil\", \"ring\", \"red\", \"middle\", \"probe\", \"cylinder\", \"ordinary\", \"heat\", \"birth\", \"radiation\", \"own\", \"restraint\", \"manufacture\", \"pop\", \"cursor\", \"beautiful\", \"probability\", \"luck\", \"occasional\", \"specifie\", \"methodology\", \"cool\", \"black\", \"hot\", \"lock\", \"clean\", \"fill\", \"cold\", \"remove\", \"distribution\", \"library\", \"quick\", \"imaging\", \"cj\", \"trace\", \"ad\", \"conference\", \"astronomy\", \"cmu\", \"wiring\", \"ip\", \"regularly\", \"reflect\", \"terminal\", \"imake\", \"informed\", \"explanatory\", \"annual\", \"dippold\", \"dirty\", \"strip\", \"bony\", \"consultation\", \"sponsor\", \"gene\", \"dg\", \"suck\", \"regional\", \"administrator\", \"publication\", \"title\", \"ed\", \"international\", \"section\", \"archive\", \"copy\", \"request\", \"name\", \"list\", \"source\", \"relate\", \"program\", \"scsi\", \"controller\", \"jumper\", \"diagnosis\", \"headache\", \"syndrome\", \"associate\", \"corporation\", \"cap\", \"frame\", \"slot\", \"pegasus\", \"maxtor\", \"san_jose\", \"locate\", \"diagnose\", \"differential\", \"chronic\", \"hd\", \"influenza\", \"cm\", \"bust\", \"edition\", \"recipient\", \"mri\", \"ide\", \"salt\", \"hard_drive\", \"digitize\", \"smace\", \"drive\", \"doctor\", \"pain\", \"mb\", \"food\", \"_\", \"dn\", \"m\", \"c\", \"rlk\", \"mot\", \"cx\", \"sy\", \"busmastering\", \"mc\", \"ai\", \"r\", \"et\", \"bf\", \"qr\", \"busmastere\", \"custom\", \"uoregon\", \"gy\", \"pegasus_aaa\", \"rb\", \"css\", \"garbage\", \"mu\", \"gainey\", \"iv\", \"nh\", \"lc\", \"alpha\", \"ws\", \"cx_s\", \"scx\", \"umu\", \"ei\", \"sc\", \"ch\"], \"Freq\": [50150.0, 12201.0, 8974.0, 9662.0, 6522.0, 6318.0, 4928.0, 4392.0, 5779.0, 2262.0, 7856.0, 5779.0, 6523.0, 3678.0, 1977.0, 3635.0, 1726.0, 1573.0, 5635.0, 1478.0, 6104.0, 4430.0, 2081.0, 4437.0, 1541.0, 2085.0, 4834.0, 4777.0, 2108.0, 1244.0, 1089.8227865518443, 989.9496510187797, 586.986863012304, 518.809763196741, 491.7035210454207, 470.464975895114, 431.0748569966486, 409.91838646917034, 399.1969177507532, 388.7084973541586, 371.3176478994874, 313.9731835305672, 308.0346251379276, 292.91211891190244, 290.5330138772685, 285.1037853641321, 280.601361557736, 273.2337391440833, 260.3278083959866, 245.11992587350122, 243.16130143502392, 237.99846503260494, 232.52214094841858, 228.55560057597023, 220.11845394066253, 216.12198047047673, 708.8395513909651, 226.7216610388904, 204.56436290480394, 204.2612474618988, 5737.591623652825, 1907.2837872770474, 241.97667028029022, 1615.9686505234135, 1937.1747731017472, 4217.731328582008, 930.402970337443, 942.235670268015, 1835.577790158505, 644.6346452852482, 1547.20064457135, 1317.3317721604633, 4272.676659839452, 448.47582950726644, 1517.5243298284465, 3139.5539809996567, 2048.9111334725458, 4156.364802772256, 3098.7163896922875, 4732.095201346332, 1343.9837538566296, 1331.5136440279318, 975.58855433926, 2349.010964733032, 6030.504645852796, 2962.1511944273702, 3759.0605850048696, 1403.324547153945, 2208.581939178693, 1514.04947407029, 2347.8153851039438, 4246.981415947764, 1975.4095242641306, 4253.184575448915, 2530.5190398399636, 2437.8379462086414, 2219.9561425445463, 3437.6293256622835, 1651.7990357330932, 1875.0570853928937, 1761.9879701979646, 1617.0030088061033, 1582.5108604446975, 1783.2123097099195, 1727.4808191529119, 1495.5173838701733, 1142.6727234931732, 947.9145365471763, 894.0465540297208, 831.003952595464, 814.0652998120108, 797.4111880876327, 788.6843674927893, 784.5124814731242, 713.5277843144924, 705.8483481326426, 671.9674634329176, 668.6945905021315, 613.2635437420633, 596.4565461055836, 595.3556373881669, 566.3337508653419, 545.8469572997845, 544.9159353753578, 521.9199256722098, 512.6539981965715, 504.1471722541777, 494.99573635676927, 490.19977972383236, 488.27709397688255, 462.6903615205941, 461.03444318451824, 432.2441021518755, 1089.4530520794426, 2321.269365774045, 1435.4107288181922, 596.4807052521088, 1781.2198715449717, 960.6165535445197, 964.6658542651493, 961.834678861744, 1235.4518991989785, 2540.9596292462456, 2179.271175706378, 2052.8086997012174, 1134.0100832572807, 1013.7967731533186, 1421.4597571550282, 1767.9746397984848, 1480.743048970886, 1826.2831059848525, 1157.4136260381779, 3048.0461236556985, 1583.6530414635408, 1055.1285989419996, 1652.2219053135755, 1091.4396334815963, 1053.2763163644695, 994.4355355152693, 1024.4753474244817, 820.4182062122529, 724.2999080989613, 639.8628745217829, 617.4359288702838, 565.4726003861875, 564.4840542463498, 524.4645035483111, 439.3073796407257, 435.17286441677203, 418.11202259654334, 370.23112293942665, 355.61817746658045, 334.5312926718273, 327.32592560187544, 306.82395844801084, 284.54327643806727, 280.84182865982785, 274.8866172724549, 266.4590272880176, 265.40171724555, 264.7337133121171, 262.1389508517103, 257.02122957593684, 253.71064885553733, 253.25071665933325, 252.48111412822738, 443.038512831331, 233.12997701980962, 232.92683459459724, 448.1014092034546, 265.62723327030386, 1114.6666407691614, 1081.0291251089889, 549.8614144598712, 1116.2628615403637, 757.6953397689912, 532.5094146098693, 1193.5859120153623, 410.69017657386786, 424.9583166711615, 2411.688031195341, 1042.3195664643956, 1414.574418452187, 1970.4896305397608, 1153.7791980561683, 760.3406824477004, 1108.9663843533071, 567.3822706315043, 874.5979724594913, 754.414280150557, 596.8987719056348, 627.3641657429372, 494.62392739416396, 543.7507654335786, 532.1312268379384, 2084.8276408800643, 990.6220340106845, 831.2736158537161, 705.3949457212825, 638.2910200871545, 636.4203181228296, 563.618993164558, 456.0412651918315, 372.1053622545668, 356.1065604593904, 342.41373470967307, 331.7376467753276, 308.2994156459817, 292.25655398961567, 291.12818245863326, 290.23595765217135, 268.7360828329976, 253.04622999575074, 251.0149088925529, 231.36751655329462, 230.78371077516027, 222.97262414683195, 221.11456478872472, 217.73151944469936, 213.81922583679625, 207.02908643871476, 194.74075077733218, 194.09021172146814, 184.98470895355038, 181.38670145171056, 437.1818781706541, 653.7491170451541, 1150.2927503046028, 1265.2691030321496, 1748.598108920772, 453.61903268560457, 1535.1954582205844, 722.3119136386728, 880.8446439645448, 531.4132029448726, 350.83590587326404, 541.7154381624226, 501.2601076556632, 693.0833688616435, 689.8434802143701, 497.691965472104, 772.5398525779603, 1645.3889187084737, 1422.0493309296717, 776.2291719971626, 605.2475878100067, 652.0962413819684, 717.4534685786249, 739.2246421192476, 670.2610673382065, 501.3496909931336, 501.63262293108227, 2080.7406607817024, 1140.0755161081693, 440.68125573756095, 410.7440277734555, 269.74341098893274, 6494.043707191724, 202.58663596284427, 168.35646172579607, 159.14572435546793, 157.99435627850426, 155.4249607648292, 153.77332415285224, 150.72569356048533, 133.53213679603226, 129.74605818734756, 128.46292567852097, 126.79238610624449, 117.84546119858491, 117.47928042523478, 110.92786124873716, 110.77679027346387, 107.86517809710114, 106.75868409900204, 106.00495446273061, 99.1731650083684, 97.70970720255858, 94.93533509918419, 93.80559689543112, 92.09749137089172, 91.86645640141421, 8472.749656909742, 8814.158106241164, 4535.084271920806, 5520.002980972169, 3870.94790472517, 1693.6785409073902, 8438.84204374712, 699.4741480112511, 420.53779003182206, 861.0546456438004, 169.53184845168045, 308.74299953804916, 297.7428073772186, 982.5313295206762, 314.0977402526527, 532.4226340975702, 236.5979808926049, 542.5514794144491, 655.5937998420816, 325.0386166038417, 204.6935361391502, 223.35894960117918, 203.08164700976502, 391.5154086264257, 285.51986746706416, 262.4289361340078, 219.03888690624873, 269.67259851445806, 282.59203561270635, 254.4797450299022, 50149.905732467945, 416.87902954241594, 304.92800362452056, 285.40489375519945, 279.8347646285979, 261.59134017034876, 203.24898593513439, 203.21648628956962, 191.42457375078473, 183.22214738217156, 183.13903120001393, 180.63079906066702, 168.4658526154386, 162.21030374871034, 153.46338964729537, 138.8759537985114, 138.84174531082346, 138.03892178778992, 106.23979864654027, 105.26612255641403, 102.47927003792884, 102.04865764550176, 101.81090707380933, 97.13261948676879, 96.06410265880652, 95.72295131604994, 94.20601374557141, 94.03525611415223, 93.90845369956797, 91.62638206843918, 826.7667353167485, 796.6437488361667, 774.6755602576235, 473.8513816165057, 408.8443258302814, 381.5220323323633, 374.032821665471, 346.00970010929535, 333.96838112668695, 332.89148229139363, 317.1905645554114, 313.16703882215506, 301.67736968375567, 286.5385787934479, 260.51114743119774, 256.37121387768127, 255.733932405017, 236.68805336592175, 230.79916002657143, 227.17767434244925, 219.09215263618034, 187.09605985524024, 184.2708114003917, 325.9041259475405, 215.53369266399906, 163.55191595398315, 149.79492845298176, 140.4504104825391, 140.13605579226103, 136.1662395736197, 604.4161905784847, 234.80393430834127, 641.8023583250243, 209.36421212915081, 1206.755434673269, 451.85795298897744, 459.9620922077937, 494.0996453948106, 1011.27613661415, 545.3591191699855, 453.19335397690674, 816.6199379826644, 551.7789613463879, 386.12009658632576, 459.86910881978736, 420.3994166994227, 472.16006022083656, 370.77834355683274, 740.2790882190486, 396.8964664630186, 454.7787147895726, 401.91280714196597, 527.732219016874, 460.4329024611496, 393.5724293986279, 374.95717893113164, 1976.5763159307542, 1125.887495965926, 759.8589473762947, 675.2783511079505, 425.9082711689974, 413.0892343344509, 360.78239867067634, 341.9297587559169, 330.6690107200262, 316.0757754667078, 306.3011020966225, 291.20889200522294, 271.50724554068086, 270.34803733283115, 255.699347298607, 243.5524573928984, 225.48630148082196, 218.2943411612642, 211.54462444612446, 210.34407335174274, 209.1568304592578, 202.69407923439735, 200.23409475269438, 189.72488191574882, 189.56966289664513, 177.22067979001866, 168.26669462891246, 166.53418184787586, 157.55382848212332, 155.01366385684315, 760.5225137060411, 365.5002153381294, 483.5037579009461, 411.14165108279605, 226.9319551426424, 364.83170866345165, 333.4462173499621, 585.0832064720514, 768.0841252889421, 406.1632962247451, 1087.7116305531715, 280.67910227706744, 949.7577223422281, 248.85460576708155, 326.0870417191823, 317.9723478840939, 334.0893367975757, 347.2376511675085, 301.0364908887131, 272.3732005465203, 675.8095431996195, 586.2029852789011, 535.8405984011727, 484.6569328065306, 469.89760789990527, 464.0108045534732, 327.38714790972784, 315.9591153294641, 297.0325873772083, 292.2938587583168, 291.2202602646541, 277.3305852371516, 203.20288697156968, 184.11648190812028, 179.08952258615903, 167.01292156565955, 162.503566584891, 159.27784623954187, 155.445073292724, 154.15572405968302, 143.5405573434043, 143.24790632777888, 138.57792837662623, 120.43509003178465, 116.24015857389449, 112.64578635510847, 108.2095913861169, 106.82684522649707, 106.80072918631102, 106.53989783997572, 624.3834294939853, 907.4845956660564, 333.32986875841465, 220.1217594162342, 386.377743588681, 582.0000687402653, 692.3702935476547, 403.0321212021626, 201.5199873303491, 195.60552138276233, 428.1140495575814, 697.7432437858816, 232.1571626849744, 184.33175003272822, 188.97187167922465, 307.87751162972273, 223.05884322336576, 198.50184617883494, 218.58180149517517, 693.1328407930647, 380.2687775573246, 350.4070219683932, 335.64152748397856, 299.37138531193375, 272.86250674235816, 256.9091751044254, 234.24678377722068, 204.5434575383199, 196.3278677625358, 195.2386155900609, 189.36624830788426, 171.81386868055893, 169.22878947308163, 166.82589393993658, 158.99681332465008, 148.60550078792443, 143.3646740140376, 142.62032818037295, 134.7760798696796, 131.10840010366002, 130.05996465304418, 129.79254961654854, 126.14057169069102, 126.13319444614761, 122.1936954689528, 119.71850898620409, 116.36025020648468, 111.93040634402347, 110.59747330294879, 251.41526449860677, 385.91245025865555, 261.2372795083269, 170.21510288084832, 711.0656725809279, 233.85883343370432, 862.8131740701394, 665.4593855623293, 173.9573008793187, 437.26742485309654, 206.712508528923, 558.7067869892829, 290.8489948826108, 262.3058108955815, 388.73221049951786, 372.1168820240464, 196.20116459532304, 254.13837477338808, 224.40237500059422, 207.14022746119386, 204.2625175534947, 1540.0822236236565, 416.3453117820071, 371.80629762671754, 277.2180200483987, 272.71695200238577, 251.35111712831454, 211.43056024915577, 208.99643018663969, 208.60613437882463, 197.09621887004187, 187.75648177971976, 183.47767518669642, 181.9998325378627, 180.7951750646617, 173.03212319072634, 172.7369287781873, 171.1396671142769, 163.9953215555803, 159.59349407417108, 155.29331503952264, 145.97662197843877, 144.52002242218865, 136.7882929161471, 128.02964146984186, 122.20302434646348, 117.79799298879574, 117.136661189422, 113.69363845304109, 110.92175814333484, 105.30854703856699, 428.444541523831, 253.67319112119281, 270.39656949697314, 225.44584729253833, 491.0876455234999, 600.9698154704311, 650.6743139482506, 289.686969150514, 653.358246859668, 350.6679976665584, 286.27243305304034, 290.48624672767664, 272.45381625228435, 284.031052962201, 334.3281889484354, 226.18972368023702, 237.52227180335439, 221.36538252975478, 200.79781034036682, 195.03306185852705, 401.9323716176294, 375.34782347772176, 371.5273608592544, 340.39163713590114, 297.99608424045516, 260.0117052767405, 230.02438185864943, 226.08422993270642, 223.62211104956015, 202.374528025194, 197.96054933662742, 185.5190761098355, 182.096992295123, 180.34610069788877, 172.67762979645607, 157.73942108241943, 152.83875803542122, 148.82084053575088, 147.49199103283433, 144.0783510123838, 139.15706562170732, 137.59725177434535, 132.50499431174208, 125.3453801096177, 124.00999109471157, 118.2809504973555, 117.95458751581572, 115.49326577408578, 112.12116567855338, 109.17640719156952, 292.7434537343868, 1167.3876233242152, 398.8874980735045, 157.09866700246303, 185.84898932305362, 175.41389151743283, 258.63840775892396, 255.33127468882327, 160.06051974426396, 156.57482699690314, 910.3637221027092, 539.3240406094353, 452.43362121106964, 372.8648639394574, 307.8535869049131, 252.27203550527256, 179.238090411791, 179.06612131805468, 160.12165583053252, 156.64316634494892, 145.90682893129932, 143.47539821373468, 131.9752043064424, 130.5253451769098, 129.11864896490383, 126.48990014095308, 126.22614460120197, 122.97330683329248, 122.77774201130825, 121.05885410496855, 120.88912011424831, 117.5995570608526, 117.57186587438359, 115.40150054264049, 108.96967040138068, 108.518487420686, 108.23055395519476, 98.06170518217982, 97.27441356649402, 96.48283911868155, 181.29668720887832, 151.47513973694376, 427.29834865214144, 311.13214843328336, 219.3698067330704, 390.9863832338392, 170.05228545035163, 244.5980569006986, 144.2503499193555, 149.4648586397855, 134.35846654643237, 137.42889581729673, 132.65505037115028, 127.77470962740401, 1477.6420466878378, 524.1699430030751, 504.39065619958336, 467.14805217283475, 412.4218983953373, 393.9311055388236, 345.42978150761996, 337.75192486951204, 299.15793767889147, 286.3264794343573, 267.4249422152317, 225.1050161506991, 218.5613169602263, 191.33096759000506, 171.58925929860547, 146.82542073860424, 145.37359657299518, 132.27760538149644, 131.1729949076294, 129.53990653931118, 125.61813711198577, 125.54407590501039, 123.93123342780868, 123.83179469790903, 122.0987998728337, 121.0465480797551, 119.69921409410642, 116.94157672416814, 111.6744711730567, 100.70723186436922, 1554.604122360542, 1030.539965809004, 159.7879895031015, 267.20813077135426, 334.6601701598411, 157.9553421301345, 130.21939339060498, 476.18209238958866, 311.3534678287302, 299.32559624415484, 275.94745759235593, 200.76404962575398, 198.15366622488253, 175.7411910280404, 175.26399674591116, 169.3669258901333, 160.92507558876758, 158.03507994892183, 148.82296396241634, 148.64448484157552, 148.62136689659394, 142.02477303493995, 138.50279010069076, 136.4571360516139, 132.52533041056134, 126.27960912730057, 117.97444635863313, 113.88647148684485, 113.23491411340184, 112.65274845247588, 112.22242135318204, 112.10448321878941, 105.41887706214904, 103.85745621072692, 102.66392759353371, 98.40181689586566, 96.32065262272508, 324.93227449011965, 594.738085742133, 257.6602414243368, 203.59427445645568, 204.0134276719108, 139.17746541911535, 126.01017332942683, 151.60061472271755, 160.56102161520192, 120.43922837145021, 131.1775706317502, 413.6333330992538, 306.41223884658353, 297.25077787788365, 273.1987431184916, 227.21455619228524, 220.16406990536328, 208.04811015103292, 174.776612913857, 161.28127818551297, 159.31839752078147, 156.99649802415306, 151.59585190179212, 146.78775700316623, 145.46553278271074, 135.98530122515174, 135.6997976795744, 128.98144384771123, 127.38697785899265, 127.07750302536422, 126.5529872214736, 124.5589914244962, 122.2826824151633, 118.59124167751085, 116.98985704458964, 107.7533043896253, 104.74800423910365, 104.28834603294628, 103.49515412733464, 103.37918238694337, 102.93482526914012, 1208.212170395742, 232.4804826749101, 167.11671042601165, 132.6365022755241, 179.96226811039844, 129.690160734053, 143.97599747921376, 125.61437867649977, 583.229141652202, 411.51009162013224, 321.2410304857008, 305.5739527949268, 277.1376619268054, 242.57662391672983, 241.59160496561228, 229.75375238057018, 169.57601480751987, 167.11504430104583, 161.8139272448447, 146.30889824502302, 141.00102636416108, 133.8209720707695, 133.3824117246209, 128.05341424146712, 125.94560699321127, 119.70771653818852, 119.52192530956258, 118.66452110050551, 113.91183094255199, 108.67429199594808, 107.84701609423574, 103.31978498456364, 102.84513553381169, 102.59952384639321, 96.6308310476791, 96.076342700812, 95.56260697160054, 95.01730026553896, 385.89941995532337, 450.3142778656515, 191.46530370799462, 122.58293449542604, 135.89884113091776, 135.41336606713324, 116.40214691245315, 124.91816908524197, 466.19129022293276, 238.41803011776508, 186.12869507117787, 176.96205048079813, 167.499977128768, 155.8507752559848, 151.44772729165342, 151.37765301921254, 150.39988216475655, 148.67176003858575, 141.4189385635742, 123.4974827439869, 121.54168174081977, 115.69855978620672, 104.7634172499334, 103.32422300801723, 100.60051280786136, 100.39832811244689, 93.87967979973371, 90.07338830300662, 86.41552424630628, 84.0924051492622, 81.35298912565455, 79.98517488796386, 79.58798239169572, 79.34086570607599, 77.76401399622888, 76.36332958144968, 74.91422196453048, 71.52659345444478, 125.79035701827533, 190.05394706794132, 122.30400685081474, 124.61442978986801, 147.18746711730034, 95.24697544891418, 134.4210403833627, 119.53976340228122, 135.57454791921296, 124.46929909108471, 107.84843547355334, 99.96172288940349, 97.52948721350772, 362.82025556794144, 311.6013282693841, 250.44710127849734, 246.77921213066787, 235.57448200486604, 193.5108366576677, 165.0626267431322, 150.94688504843128, 147.78879066986323, 143.05672293814067, 142.13476788390741, 142.11206138307503, 126.24179582802782, 124.97528827109495, 116.31841314568454, 112.24885831410835, 108.2593313217913, 106.66743908753678, 100.42265698485186, 99.93783242792674, 97.06224230646822, 94.16611399021555, 93.59608367921196, 90.45027925926863, 85.20787901838713, 85.11805043583514, 78.10402273657779, 77.8282402281868, 76.09729886431236, 73.97780573161043, 1597.9703603551059, 210.69795783585562, 243.65333010660385, 203.58060601726427, 144.06442148634983, 491.99253150771165, 353.86853012968265, 297.91054404343777, 235.07021271529388, 204.79539080919963, 140.9400654961905, 109.87252973245758, 105.60478965796788, 100.8516463148536, 90.34978637869607, 87.43920844349174, 72.1077564035469, 59.413572384028924, 54.28128667200595, 52.41139986468358, 51.72552562803567, 51.60393021321362, 49.815419290788334, 49.73725674777651, 49.556005081317615, 49.39582718238678, 49.15012003427137, 47.75034674343898, 40.598995226740186, 39.40504207902966, 38.36342052081076, 38.143659909410594, 37.98536525263937, 36.052858245493454, 34.90827545803187, 37.94618166576995, 37.94618166576995, 94.32352325613827, 113.02134899159618, 130.02586825037534, 52.078488053306096], \"Total\": [50150.0, 12201.0, 8974.0, 9662.0, 6522.0, 6318.0, 4928.0, 4392.0, 5779.0, 2262.0, 7856.0, 5779.0, 6523.0, 3678.0, 1977.0, 3635.0, 1726.0, 1573.0, 5635.0, 1478.0, 6104.0, 4430.0, 2081.0, 4437.0, 1541.0, 2085.0, 4834.0, 4777.0, 2108.0, 1244.0, 1090.8388674689359, 990.9654854238702, 588.0026974105278, 519.8255975949648, 492.71935547391155, 471.480810293338, 432.09069141134677, 410.93422087767107, 400.2127521489772, 389.72433175773836, 372.3334822977114, 314.9890179660117, 309.0504595488489, 293.927953313389, 291.5488482754925, 286.1196197623561, 281.6171959975744, 274.2495735455699, 261.3436427942106, 246.13576030708057, 244.17713583748292, 239.02970866496779, 233.5379753535092, 229.57143497419426, 221.13428833888656, 217.1378148866143, 712.1975555695639, 227.84061108383762, 205.58019731102937, 205.27708190084934, 5779.178872004967, 1956.1022413911319, 243.1996715460417, 1658.0333630994023, 2006.0928182772386, 4437.979222827667, 950.2460214108825, 964.551030694998, 1913.145554203888, 658.4823409254086, 1628.9188916198643, 1384.3335925178799, 4777.978652588193, 458.39224595572955, 1632.1407316881384, 3512.121111185687, 2269.3263855586874, 4834.504580821067, 3540.815224822477, 5635.40660593993, 1487.6258526400925, 1476.0621645173483, 1053.1512540026483, 2763.8749935541623, 7856.874337582045, 3635.9082436005406, 4755.108536272728, 1603.3177372036762, 2737.7480043759797, 1783.9190791264648, 3018.8780041954433, 6280.614351425384, 2477.193611105853, 6523.4796427264355, 3397.4187350401676, 3295.8679926436153, 3071.822460619742, 6104.1847357717525, 2267.321212683798, 3124.972820707173, 3069.15115962986, 2759.8664026167735, 4370.4377673064855, 1784.226288666467, 1728.494798112582, 1496.5313628320766, 1143.6867024497208, 948.9285155037232, 895.0752419801223, 832.0179315565326, 815.0843712517831, 798.4251670549462, 789.6983464758612, 785.5264604296711, 714.5420694002082, 706.8623370086877, 672.9814543108135, 669.7085694644495, 614.2775227017328, 597.470525065253, 596.3696163478363, 567.3477298218888, 546.8609362563315, 545.9299143319047, 522.9339046287567, 513.6679771598322, 505.16115140129847, 496.0097153250656, 491.2137586803794, 489.2910729334296, 463.70434048348903, 462.0484221487094, 433.2580811441844, 1094.4455876570842, 2451.701988231464, 1491.5429579739568, 604.9998428523246, 2002.7347028568727, 1044.1659905298661, 1087.5792226064098, 1097.9724386557348, 1588.1754193876432, 4430.242326420572, 3678.423347468671, 3463.9437599886073, 1523.5466953651298, 1309.9954621766217, 2182.2915721583945, 3074.887840636443, 2366.359766666804, 3609.958988575735, 1784.6607771868687, 12201.400886847461, 4370.4377673064855, 1644.3733996475607, 7856.874337582045, 2945.8471509896876, 2930.135256913423, 3069.15115962986, 1025.4914312926587, 821.4342900872958, 725.315991980928, 640.8789583949241, 618.4520127415406, 566.4886842646845, 565.50013814376, 525.480874973306, 440.32346351805813, 436.18894828821107, 419.12810647049076, 371.2472068143168, 356.6342613347569, 335.5473765488572, 328.3420094731323, 307.84004232104564, 285.5593603062437, 281.8579142054985, 275.90270237351916, 267.4751351755829, 266.41780111678094, 265.74979718029357, 263.1550347363724, 258.0373134441133, 254.72673274347406, 254.26680053283567, 253.49719803971732, 444.9394832926095, 234.14606088798604, 233.94291846277366, 477.8659022402364, 270.8335576453377, 1380.3856849466367, 1449.3632652805018, 644.0921816655487, 1529.3370983258233, 959.6267574366949, 641.6715124122312, 1952.7604262160037, 476.1973522645201, 508.0099662241661, 5779.168137176023, 1779.4377411643632, 3493.18319339338, 6104.1847357717525, 2859.9061449049336, 1431.40340686335, 2945.8471509896876, 926.8924099320269, 3463.9437599886073, 2393.9013241760426, 1559.1587685414636, 1995.7446936741496, 1218.3707875963078, 6280.614351425384, 4755.108536272728, 2085.85141186972, 991.6458050003395, 832.2973868433711, 706.4187167109375, 639.3147910821652, 637.4440891124846, 564.642764154213, 457.0650361814865, 373.12913330269123, 357.1303314490454, 343.4375056993281, 332.76604489317253, 309.3231866356367, 293.2803249792707, 292.151953455555, 291.25972864182637, 269.75985382265264, 254.07000099032675, 252.03867989130126, 232.39128754294964, 231.8074817648153, 223.99639514100872, 222.13833578998856, 218.75529043435438, 214.84299684244988, 208.05285742836978, 195.7645217669872, 195.11398271112316, 186.00847994806375, 182.41047244136558, 442.0633234589792, 664.3447784743598, 1229.9460187931065, 1453.3764218960112, 2446.0749236002075, 523.7191763295887, 2393.9013241760426, 962.6420942681772, 1244.7209128991472, 706.6040485125518, 406.98800581768853, 740.4885317175502, 688.4763199835602, 1111.2673255987215, 1188.4395206898453, 737.4962195978181, 1636.7260918576035, 6523.4796427264355, 5779.168137176023, 2276.616349015375, 1327.9623532774488, 1662.4389661967093, 2556.38821883467, 2881.6775172425746, 5635.40660593993, 1676.4090221343247, 1928.0855169230467, 2081.7594806410216, 1141.0943439217529, 441.70007564347935, 411.76284765143595, 270.7622308482515, 6522.2059834075235, 203.60545617780807, 169.37528158837742, 160.16454422749695, 159.013176142744, 156.44378065864788, 154.79214401709197, 151.74451342306668, 134.55095675467703, 130.7648780830556, 129.4817455560849, 127.81120597472123, 118.86428108142962, 118.49810029974395, 111.94668111257768, 111.79561021649221, 108.88399796762339, 107.77750398841457, 107.0237743220494, 100.19198487076761, 98.72852706733806, 95.95415495850298, 94.82441680307393, 93.1163232006096, 92.88527639894791, 8974.419546035995, 9662.538486235653, 4928.830811156339, 6318.7407969351825, 4392.108368345866, 2108.0611564342053, 12201.400886847461, 817.81455037815, 495.28778620282884, 1123.1258768746925, 180.8162753593516, 400.84363005000114, 387.41437974530066, 2025.4745185092502, 435.81226523520877, 912.8878195563532, 317.3124848697082, 1117.8501477169846, 1928.0855169230467, 604.6542426225709, 261.32960455588324, 320.41145293354225, 269.2372579511592, 1538.426339672666, 730.463698974067, 656.7751169063981, 375.1872219186385, 2276.616349015375, 6280.614351425384, 4430.242326420572, 50150.83755993104, 417.8108571160167, 305.85983119918495, 286.33672160255634, 280.7665921965597, 262.5231682370955, 204.18081353613775, 204.14831413192115, 192.35640130261768, 184.15397488221564, 184.07085878699485, 181.5626268488066, 169.3976804374895, 163.14213127507324, 154.3952174538913, 139.80778130804237, 139.7735728829385, 138.97074938082085, 107.17162611459159, 106.19795063195365, 103.41109778167512, 102.9804852488925, 102.74273480459581, 98.06445064506688, 96.99593043572719, 96.65477881179972, 95.1378412086579, 94.9670838579148, 94.84028142118292, 92.5582106786005, 827.7846206420467, 797.6616341626194, 775.6934456102879, 474.86926694407936, 409.86221117246686, 382.53991765458125, 375.0507069907693, 347.0275854315133, 334.98626644890487, 333.90936761361155, 318.20844987762933, 314.18492415766747, 302.6952550154163, 287.5577771490765, 261.5290746327091, 257.3890992672434, 256.7518177272349, 237.7059386881396, 231.81704535239328, 228.19555967382308, 220.11003806502936, 188.11394518053854, 185.28869691297677, 327.8475893892187, 216.8520623699239, 164.56980129333425, 150.8128137902053, 141.46829581052796, 141.1539411202499, 137.18412490116356, 615.9408924397471, 238.8838722509274, 666.8333347104922, 213.0152556947297, 1370.261392470435, 488.6627110016247, 498.71802839505307, 580.7646587751262, 1397.710238243442, 669.6504213863833, 575.9258517687659, 1297.0255042771987, 765.8182297459135, 475.3331710655422, 626.9427700875377, 548.8554569319923, 667.3955161447279, 471.6240086722902, 2256.505142745499, 565.0278508248825, 795.8100978024032, 599.4498567636019, 1742.86021579677, 1176.620736664171, 871.915454537113, 656.7751169063981, 1977.5958572890868, 1126.9070373242587, 760.8784887793782, 676.2978924824589, 426.92781255658764, 414.10877569278335, 361.8019400290088, 342.94930011424935, 331.6885521292195, 317.09531695842384, 307.32064347166283, 292.2284333684764, 272.5267869039343, 271.3675786993472, 256.71888866057276, 244.5719987557526, 226.50584284831237, 219.31388321917322, 212.56416589139312, 211.3636147234485, 210.1763718342031, 203.71362129276733, 201.25363613128485, 190.74442327720368, 190.58920429696832, 178.24022115331596, 169.2862359872449, 167.55372322904267, 158.57336984912467, 156.03320523061257, 797.4619733036908, 383.0952415551938, 535.8958899705293, 521.1931454108358, 247.2098947126305, 479.29902803647417, 423.4107622279425, 957.2956589582949, 1601.6743429688133, 653.5247483836744, 3678.423347468671, 355.00885377911385, 4430.242326420572, 301.6228121314066, 683.1707599368577, 776.6188129787647, 1218.3707875963078, 1644.3733996475607, 1037.351047850977, 1749.5291797184632, 676.8242657306284, 587.2177078148311, 536.8553209321816, 485.6716553375397, 470.9123304309143, 465.02552708448223, 328.4018704495903, 316.97383786047317, 298.04730995077153, 293.3085813041728, 292.2349827989307, 278.34530776816064, 204.21760952215558, 185.13120444398766, 180.10424512841107, 168.0276440999361, 163.5183045784326, 160.2925688069278, 156.45979582733702, 155.170446632823, 144.55527987441332, 144.2626288587879, 139.5926509236918, 121.44981257531892, 117.25488110798395, 113.66050888611751, 109.22431391712594, 107.84156782260186, 107.81545171732006, 107.55462037098476, 723.4446203423568, 1119.8357856034058, 380.1110407327481, 240.21711828428178, 461.16414654443804, 941.9342530056917, 1183.647927347311, 764.3459296868494, 286.33208490942854, 282.31972318117033, 1636.7260918576035, 5779.168137176023, 416.4063920532143, 262.30646837410916, 334.0275004640379, 6523.4796427264355, 1207.5788916278918, 483.4176569502078, 1559.1587685414636, 694.1535169158202, 381.2894539470512, 351.42769808691384, 336.6622036055816, 300.39206143045436, 273.8831828748577, 257.929851222946, 235.2674598995435, 205.56413365684048, 197.3485438843239, 196.2592917085815, 190.38692443176058, 172.8345447990795, 170.24946563445368, 167.84657007243615, 160.01749011146148, 149.6261771426067, 144.38536089008437, 143.64100434955813, 135.79675600043856, 132.12907624729888, 131.0806408850617, 130.81322573506912, 127.16124804895951, 127.1538708044161, 123.21437159995816, 120.73918511319465, 117.38092642214784, 112.95108249689055, 111.61814951859985, 254.74000580878268, 412.8367462839752, 294.41256912708474, 184.9780713516813, 1327.9623532774488, 302.97077925927823, 1995.7446936741496, 1559.1587685414636, 207.51121474929369, 996.5043565818111, 286.2896922579498, 2181.1996292098675, 592.012964579902, 483.67316789457476, 1218.3707875963078, 2859.9061449049336, 337.3046025419394, 1187.9532112312233, 680.6982415515223, 649.1928921934419, 695.6333901768821, 1541.101327348306, 417.3644155066565, 372.8254013813754, 278.2371237730481, 273.73605573239087, 252.37022096109, 212.4496639824033, 210.0155339389224, 209.62523815222264, 198.11532260281697, 188.7755855904141, 184.49677891821239, 183.01893630828653, 181.81427880261907, 174.05122693171438, 173.75603250283666, 172.1587708459911, 165.01442528349227, 160.61259781975127, 156.31241876743954, 146.99572576955876, 145.53912617938002, 137.80739665016372, 129.04874519449123, 123.22212808830605, 118.81709675173323, 118.1557649502174, 114.71274219103937, 111.94086187375525, 106.32765078973526, 433.81693869228934, 264.9284614188954, 297.8379164444285, 245.99642983906705, 609.2631800088316, 1018.8745974878406, 1249.410487143411, 401.5159491875639, 2262.492466632893, 892.7439776978115, 605.8946646373487, 659.9280354097472, 685.8737529701727, 796.8351300187027, 2945.8471509896876, 934.7438232589928, 3069.15115962986, 1471.6501443395723, 680.6982415515223, 1145.3876442168332, 402.95303082046775, 376.3684826805601, 372.5480200588301, 341.41229651385987, 299.0167434400309, 261.0323644795788, 231.04504105822514, 227.10488913228212, 224.64277025449158, 203.39518722969072, 198.9812085410615, 186.5397353094112, 183.11765153155716, 181.36675998360045, 173.69828899603178, 158.76008028735086, 153.85941723825954, 149.8414997385892, 148.51265026392574, 145.0990103630167, 140.17772486733313, 138.61791097392106, 133.5256536482049, 126.36603932554945, 125.03065030005833, 119.30160969693127, 118.97524705303714, 116.51392497366155, 113.14182487812914, 110.19706639441283, 295.63868822988115, 1244.3133055785704, 633.4826754457218, 304.80701952666186, 630.5702478447614, 518.4435702992615, 2737.7480043759797, 3635.9082436005406, 957.2956589582949, 1636.7260918576035, 911.3832360309331, 540.3435545376592, 453.4531351814831, 373.8843779388861, 308.8731008331369, 253.29154946668592, 180.25760434001486, 180.08563524627854, 161.14116985793942, 157.66268029881923, 146.92634285952317, 144.4949121508885, 132.99471824137999, 131.5448591207661, 130.1381629038635, 127.50941410672964, 127.2456585710715, 123.99282077572991, 123.79725595896682, 122.07836805609762, 121.9086340424722, 118.61907099443222, 118.5913798071292, 116.42101450885089, 109.98918434458221, 109.53800134890989, 109.25006788341865, 99.08121913807967, 98.29392752277087, 97.50235309734526, 186.45622283562278, 176.08279330143125, 934.7438232589928, 647.6325156332326, 361.78609264406435, 1018.8745974878406, 439.81471978995404, 1742.86021579677, 296.01069303508496, 751.0212440615472, 959.6267574366949, 1995.7446936741496, 892.2165995739581, 817.4026257960256, 1478.6650977663749, 525.1929940816118, 505.413707283041, 468.1711033354167, 413.4449495003077, 394.9541566211625, 346.4528325861566, 338.77497598122284, 300.1809887574281, 287.3495305128939, 268.4479932937683, 226.12806731657528, 219.58436807030168, 192.35401866854176, 172.61231040828997, 147.84847185913168, 146.3966476865424, 133.30065652475494, 132.1960459892885, 130.56295761784787, 126.6411881905225, 126.56712704099309, 124.95428450994937, 124.85484583422904, 123.12185099151226, 122.06959918505225, 120.72226521515961, 117.96462780270487, 112.69752235464601, 101.73028294290594, 1573.2660969329013, 1043.2627659189975, 242.41598753006244, 1136.197711550328, 3635.9082436005406, 500.9478329504392, 353.0746589137789, 477.20209906442096, 312.37347452828493, 300.34560296682224, 276.9674642908119, 201.7840563041903, 199.17367289971486, 176.7611977077937, 176.28400347521847, 170.38693256496563, 161.94508229457236, 159.05508664146623, 149.84297067996988, 149.66449151640785, 149.64137357503026, 143.04477971977826, 139.52279677912708, 137.4771427851654, 133.5453370945935, 127.29961583397763, 118.99445305233577, 114.90647818733129, 114.25492078823423, 113.6727551380441, 113.2424280446056, 113.1244898936218, 106.4388837405854, 104.87746288555931, 103.68393438381909, 99.4218235838927, 97.34065933784008, 398.98091245293324, 1299.91413261235, 879.284249833646, 623.9918526835039, 725.9449607479129, 242.90966084883482, 203.83928646237362, 796.8351300187027, 1471.6501443395723, 196.78598330527137, 649.1928921934419, 414.6528681326319, 307.43177389801497, 298.27031294836655, 274.2182781692619, 228.2340912466312, 221.18360494896697, 209.0676452103877, 175.7961479849657, 162.3008132257577, 160.33793256790887, 158.01603306646118, 152.6153871025756, 147.80729204150924, 146.48506785461876, 137.00483627617814, 136.71933271295256, 130.0009788868604, 128.4065128972918, 128.09703805874238, 127.57252227230343, 125.5785264632301, 123.30221745339985, 119.61077677762451, 118.00939208716763, 108.7728394283592, 105.7675392972835, 105.3078811801338, 104.51468916071283, 104.39871781194002, 103.95436030748314, 1726.8937165493371, 266.4056586384608, 198.57971001711041, 148.53626435635957, 256.8295633904484, 171.6398299869773, 247.89613796365316, 182.27186180760052, 584.2497675256005, 412.5307174935308, 322.2616563623619, 306.59457869339565, 278.1582878086821, 243.59724979719817, 242.61223099776865, 230.77437831017377, 170.59664068091843, 168.13567017444439, 162.83455314448085, 147.32952411842157, 142.02165223755964, 134.84159794777204, 134.40303766895354, 129.07404014094033, 126.96623287546335, 120.72834243724648, 120.54255121657366, 119.68514697717164, 114.9324571325227, 109.69491789506223, 108.86764196763434, 104.34041086598154, 103.86576144527038, 103.62014979276941, 97.6514569393916, 97.09696871975807, 96.58323299220481, 96.03792614257088, 431.6102111053009, 524.6600488240432, 242.56456163222663, 136.44753162050011, 179.91027226309916, 232.76220939576035, 159.4661936737619, 455.8591023386987, 467.2075143382842, 239.43425422734555, 187.14491918075834, 177.97827474561825, 168.51620129767437, 156.86699937400138, 152.46428139587974, 152.393877132397, 151.416106277941, 149.68798415142882, 142.43516268509063, 124.5137069120328, 122.55790588600615, 116.71478393509828, 105.77964135951387, 104.34044713648672, 101.61673709549058, 101.41455586251386, 94.89590390931419, 91.08961254323354, 87.4317484010071, 85.10862926678354, 82.36921323523502, 81.00140055245186, 80.60420650822309, 80.35708982057747, 78.78023814666848, 77.3795537107923, 75.93044609802614, 72.54281759010816, 128.71067214769022, 245.80736425482863, 143.93622810812371, 210.98402160195513, 546.8410217501909, 149.79461214761585, 893.8388922617258, 555.3764735705522, 1380.3856849466367, 1210.4560373506044, 1297.0255042771987, 420.317594565005, 2002.7347028568727, 363.84463830032973, 312.6257110067372, 251.47148402467593, 247.80359494366186, 236.59886477169508, 194.535219394977, 166.08700950659477, 151.971267807052, 148.8131734175563, 144.08110567549377, 143.1591506162957, 143.1364442072344, 127.26617857747395, 125.99967102013761, 117.34279589460891, 113.27324106366927, 109.2837141051168, 107.69182182484604, 101.44703973909705, 100.96226698052918, 98.08662505044124, 95.19049681329379, 94.62046642461365, 91.47466204047794, 86.23226177200114, 86.14243316822342, 79.12840549815799, 78.85262296057508, 77.12168160743649, 75.00218852713535, 2262.492466632893, 242.6448266758988, 303.6932591211258, 340.2983920691027, 334.0275004640379, 493.02863955172734, 354.9046384301189, 298.9466521647123, 236.10632079897968, 205.83149882231177, 141.97617352655678, 110.90863774556972, 106.64089767108003, 101.8877554530844, 91.38589439180821, 88.47531649591667, 73.14386441665904, 60.4496804737176, 55.31739470147901, 53.44750787779572, 52.76164278408199, 52.64003824011607, 50.851581087472404, 50.77336772847216, 50.59454158897377, 50.43193519549892, 50.186647780736955, 48.786454812183344, 41.63510323985233, 40.44115014414466, 39.399528579871415, 39.179767937291466, 39.021473283776785, 37.08896629061747, 35.94438347892835, 39.09357675050043, 39.09357675050043, 112.79016436862786, 179.4409980013691, 234.70492668590936, 61.981999121399454], \"Category\": [\"Default\", \"Default\", \"Default\", \"Default\", \"Default\", \"Default\", \"Default\", \"Default\", \"Default\", \"Default\", \"Default\", \"Default\", \"Default\", \"Default\", \"Default\", \"Default\", \"Default\", \"Default\", \"Default\", \"Default\", \"Default\", \"Default\", \"Default\", \"Default\", \"Default\", \"Default\", \"Default\", \"Default\", \"Default\", \"Default\", \"Topic1\", \"Topic1\", \"Topic1\", \"Topic1\", \"Topic1\", \"Topic1\", \"Topic1\", \"Topic1\", \"Topic1\", \"Topic1\", \"Topic1\", \"Topic1\", \"Topic1\", \"Topic1\", \"Topic1\", \"Topic1\", \"Topic1\", \"Topic1\", \"Topic1\", \"Topic1\", \"Topic1\", \"Topic1\", \"Topic1\", \"Topic1\", \"Topic1\", \"Topic1\", \"Topic1\", \"Topic1\", \"Topic1\", \"Topic1\", \"Topic1\", \"Topic1\", \"Topic1\", \"Topic1\", \"Topic1\", \"Topic1\", \"Topic1\", \"Topic1\", \"Topic1\", \"Topic1\", \"Topic1\", \"Topic1\", \"Topic1\", \"Topic1\", \"Topic1\", \"Topic1\", \"Topic1\", \"Topic1\", \"Topic1\", \"Topic1\", \"Topic1\", \"Topic1\", \"Topic1\", \"Topic1\", \"Topic1\", \"Topic1\", \"Topic1\", \"Topic1\", \"Topic1\", \"Topic1\", \"Topic1\", \"Topic1\", \"Topic1\", \"Topic1\", \"Topic1\", \"Topic1\", \"Topic1\", \"Topic1\", \"Topic1\", \"Topic1\", \"Topic1\", \"Topic1\", \"Topic1\", \"Topic2\", \"Topic2\", \"Topic2\", \"Topic2\", \"Topic2\", \"Topic2\", \"Topic2\", \"Topic2\", \"Topic2\", \"Topic2\", \"Topic2\", \"Topic2\", \"Topic2\", \"Topic2\", \"Topic2\", \"Topic2\", \"Topic2\", \"Topic2\", \"Topic2\", \"Topic2\", \"Topic2\", \"Topic2\", \"Topic2\", \"Topic2\", \"Topic2\", \"Topic2\", \"Topic2\", \"Topic2\", \"Topic2\", \"Topic2\", \"Topic2\", \"Topic2\", \"Topic2\", \"Topic2\", \"Topic2\", \"Topic2\", \"Topic2\", \"Topic2\", \"Topic2\", \"Topic2\", \"Topic2\", \"Topic2\", \"Topic2\", \"Topic2\", \"Topic2\", \"Topic2\", \"Topic2\", \"Topic2\", \"Topic2\", \"Topic2\", \"Topic2\", \"Topic2\", \"Topic2\", \"Topic2\", \"Topic2\", \"Topic2\", \"Topic3\", \"Topic3\", \"Topic3\", \"Topic3\", \"Topic3\", \"Topic3\", \"Topic3\", \"Topic3\", \"Topic3\", \"Topic3\", \"Topic3\", \"Topic3\", \"Topic3\", \"Topic3\", \"Topic3\", \"Topic3\", \"Topic3\", \"Topic3\", \"Topic3\", \"Topic3\", \"Topic3\", \"Topic3\", \"Topic3\", \"Topic3\", \"Topic3\", \"Topic3\", \"Topic3\", \"Topic3\", \"Topic3\", \"Topic3\", \"Topic3\", \"Topic3\", \"Topic3\", \"Topic3\", \"Topic3\", \"Topic3\", \"Topic3\", \"Topic3\", \"Topic3\", \"Topic3\", \"Topic3\", \"Topic3\", \"Topic3\", \"Topic3\", \"Topic3\", \"Topic3\", \"Topic3\", \"Topic3\", \"Topic3\", \"Topic3\", \"Topic3\", \"Topic3\", \"Topic3\", \"Topic3\", \"Topic3\", \"Topic3\", \"Topic4\", \"Topic4\", \"Topic4\", \"Topic4\", \"Topic4\", \"Topic4\", \"Topic4\", \"Topic4\", \"Topic4\", \"Topic4\", \"Topic4\", \"Topic4\", \"Topic4\", \"Topic4\", \"Topic4\", \"Topic4\", \"Topic4\", \"Topic4\", \"Topic4\", \"Topic4\", \"Topic4\", \"Topic4\", \"Topic4\", \"Topic4\", \"Topic4\", \"Topic4\", \"Topic4\", \"Topic4\", \"Topic4\", \"Topic4\", \"Topic4\", \"Topic4\", \"Topic4\", \"Topic4\", \"Topic4\", \"Topic4\", \"Topic4\", \"Topic4\", \"Topic4\", \"Topic4\", \"Topic4\", \"Topic4\", \"Topic4\", \"Topic4\", \"Topic4\", \"Topic4\", \"Topic4\", \"Topic4\", \"Topic4\", \"Topic4\", \"Topic4\", \"Topic4\", \"Topic4\", \"Topic4\", \"Topic4\", \"Topic4\", \"Topic4\", \"Topic5\", \"Topic5\", \"Topic5\", \"Topic5\", \"Topic5\", \"Topic5\", \"Topic5\", \"Topic5\", \"Topic5\", \"Topic5\", \"Topic5\", \"Topic5\", \"Topic5\", \"Topic5\", \"Topic5\", \"Topic5\", \"Topic5\", \"Topic5\", \"Topic5\", \"Topic5\", \"Topic5\", \"Topic5\", \"Topic5\", \"Topic5\", \"Topic5\", \"Topic5\", \"Topic5\", \"Topic5\", \"Topic5\", \"Topic5\", \"Topic5\", \"Topic5\", \"Topic5\", \"Topic5\", \"Topic5\", \"Topic5\", \"Topic5\", \"Topic5\", \"Topic5\", \"Topic5\", \"Topic5\", \"Topic5\", \"Topic5\", \"Topic5\", \"Topic5\", \"Topic5\", \"Topic5\", \"Topic5\", \"Topic5\", \"Topic5\", \"Topic5\", \"Topic5\", \"Topic5\", \"Topic5\", \"Topic5\", \"Topic5\", \"Topic5\", \"Topic5\", \"Topic5\", \"Topic5\", \"Topic6\", \"Topic6\", \"Topic6\", \"Topic6\", \"Topic6\", \"Topic6\", \"Topic6\", \"Topic6\", \"Topic6\", \"Topic6\", \"Topic6\", \"Topic6\", \"Topic6\", \"Topic6\", \"Topic6\", \"Topic6\", \"Topic6\", \"Topic6\", \"Topic6\", \"Topic6\", \"Topic6\", \"Topic6\", \"Topic6\", \"Topic6\", \"Topic6\", \"Topic6\", \"Topic6\", \"Topic6\", \"Topic6\", \"Topic6\", \"Topic7\", \"Topic7\", \"Topic7\", \"Topic7\", \"Topic7\", \"Topic7\", \"Topic7\", \"Topic7\", \"Topic7\", \"Topic7\", \"Topic7\", \"Topic7\", \"Topic7\", \"Topic7\", \"Topic7\", \"Topic7\", \"Topic7\", \"Topic7\", \"Topic7\", \"Topic7\", \"Topic7\", \"Topic7\", \"Topic7\", \"Topic7\", \"Topic7\", \"Topic7\", \"Topic7\", \"Topic7\", \"Topic7\", \"Topic7\", \"Topic7\", \"Topic7\", \"Topic7\", \"Topic7\", \"Topic7\", \"Topic7\", \"Topic7\", \"Topic7\", \"Topic7\", \"Topic7\", \"Topic7\", \"Topic7\", \"Topic7\", \"Topic7\", \"Topic7\", \"Topic7\", \"Topic7\", \"Topic7\", \"Topic7\", \"Topic7\", \"Topic7\", \"Topic7\", \"Topic7\", \"Topic7\", \"Topic7\", \"Topic7\", \"Topic8\", \"Topic8\", \"Topic8\", \"Topic8\", \"Topic8\", \"Topic8\", \"Topic8\", \"Topic8\", \"Topic8\", \"Topic8\", \"Topic8\", \"Topic8\", \"Topic8\", \"Topic8\", \"Topic8\", \"Topic8\", \"Topic8\", \"Topic8\", \"Topic8\", \"Topic8\", \"Topic8\", \"Topic8\", \"Topic8\", \"Topic8\", \"Topic8\", \"Topic8\", \"Topic8\", \"Topic8\", \"Topic8\", \"Topic8\", \"Topic8\", \"Topic8\", \"Topic8\", \"Topic8\", \"Topic8\", \"Topic8\", \"Topic8\", \"Topic8\", \"Topic8\", \"Topic8\", \"Topic8\", \"Topic8\", \"Topic8\", \"Topic8\", \"Topic8\", \"Topic8\", \"Topic8\", \"Topic8\", \"Topic8\", \"Topic8\", \"Topic9\", \"Topic9\", \"Topic9\", \"Topic9\", \"Topic9\", \"Topic9\", \"Topic9\", \"Topic9\", \"Topic9\", \"Topic9\", \"Topic9\", \"Topic9\", \"Topic9\", \"Topic9\", \"Topic9\", \"Topic9\", \"Topic9\", \"Topic9\", \"Topic9\", \"Topic9\", \"Topic9\", \"Topic9\", \"Topic9\", \"Topic9\", \"Topic9\", \"Topic9\", \"Topic9\", \"Topic9\", \"Topic9\", \"Topic9\", \"Topic9\", \"Topic9\", \"Topic9\", \"Topic9\", \"Topic9\", \"Topic9\", \"Topic9\", \"Topic9\", \"Topic9\", \"Topic9\", \"Topic9\", \"Topic9\", \"Topic9\", \"Topic9\", \"Topic9\", \"Topic9\", \"Topic9\", \"Topic9\", \"Topic9\", \"Topic10\", \"Topic10\", \"Topic10\", \"Topic10\", \"Topic10\", \"Topic10\", \"Topic10\", \"Topic10\", \"Topic10\", \"Topic10\", \"Topic10\", \"Topic10\", \"Topic10\", \"Topic10\", \"Topic10\", \"Topic10\", \"Topic10\", \"Topic10\", \"Topic10\", \"Topic10\", \"Topic10\", \"Topic10\", \"Topic10\", \"Topic10\", \"Topic10\", \"Topic10\", \"Topic10\", \"Topic10\", \"Topic10\", \"Topic10\", \"Topic10\", \"Topic10\", \"Topic10\", \"Topic10\", \"Topic10\", \"Topic10\", \"Topic10\", \"Topic10\", \"Topic10\", \"Topic10\", \"Topic10\", \"Topic10\", \"Topic10\", \"Topic10\", \"Topic10\", \"Topic10\", \"Topic10\", \"Topic10\", \"Topic10\", \"Topic10\", \"Topic10\", \"Topic11\", \"Topic11\", \"Topic11\", \"Topic11\", \"Topic11\", \"Topic11\", \"Topic11\", \"Topic11\", \"Topic11\", \"Topic11\", \"Topic11\", \"Topic11\", \"Topic11\", \"Topic11\", \"Topic11\", \"Topic11\", \"Topic11\", \"Topic11\", \"Topic11\", \"Topic11\", \"Topic11\", \"Topic11\", \"Topic11\", \"Topic11\", \"Topic11\", \"Topic11\", \"Topic11\", \"Topic11\", \"Topic11\", \"Topic11\", \"Topic11\", \"Topic11\", \"Topic11\", \"Topic11\", \"Topic11\", \"Topic11\", \"Topic11\", \"Topic11\", \"Topic11\", \"Topic11\", \"Topic11\", \"Topic11\", \"Topic11\", \"Topic11\", \"Topic11\", \"Topic11\", \"Topic11\", \"Topic11\", \"Topic11\", \"Topic11\", \"Topic12\", \"Topic12\", \"Topic12\", \"Topic12\", \"Topic12\", \"Topic12\", \"Topic12\", \"Topic12\", \"Topic12\", \"Topic12\", \"Topic12\", \"Topic12\", \"Topic12\", \"Topic12\", \"Topic12\", \"Topic12\", \"Topic12\", \"Topic12\", \"Topic12\", \"Topic12\", \"Topic12\", \"Topic12\", \"Topic12\", \"Topic12\", \"Topic12\", \"Topic12\", \"Topic12\", \"Topic12\", \"Topic12\", \"Topic12\", \"Topic12\", \"Topic12\", \"Topic12\", \"Topic12\", \"Topic12\", \"Topic12\", \"Topic12\", \"Topic12\", \"Topic12\", \"Topic12\", \"Topic13\", \"Topic13\", \"Topic13\", \"Topic13\", \"Topic13\", \"Topic13\", \"Topic13\", \"Topic13\", \"Topic13\", \"Topic13\", \"Topic13\", \"Topic13\", \"Topic13\", \"Topic13\", \"Topic13\", \"Topic13\", \"Topic13\", \"Topic13\", \"Topic13\", \"Topic13\", \"Topic13\", \"Topic13\", \"Topic13\", \"Topic13\", \"Topic13\", \"Topic13\", \"Topic13\", \"Topic13\", \"Topic13\", \"Topic13\", \"Topic13\", \"Topic13\", \"Topic13\", \"Topic13\", \"Topic13\", \"Topic13\", \"Topic13\", \"Topic13\", \"Topic13\", \"Topic13\", \"Topic13\", \"Topic13\", \"Topic13\", \"Topic13\", \"Topic14\", \"Topic14\", \"Topic14\", \"Topic14\", \"Topic14\", \"Topic14\", \"Topic14\", \"Topic14\", \"Topic14\", \"Topic14\", \"Topic14\", \"Topic14\", \"Topic14\", \"Topic14\", \"Topic14\", \"Topic14\", \"Topic14\", \"Topic14\", \"Topic14\", \"Topic14\", \"Topic14\", \"Topic14\", \"Topic14\", \"Topic14\", \"Topic14\", \"Topic14\", \"Topic14\", \"Topic14\", \"Topic14\", \"Topic14\", \"Topic14\", \"Topic14\", \"Topic14\", \"Topic14\", \"Topic14\", \"Topic14\", \"Topic14\", \"Topic15\", \"Topic15\", \"Topic15\", \"Topic15\", \"Topic15\", \"Topic15\", \"Topic15\", \"Topic15\", \"Topic15\", \"Topic15\", \"Topic15\", \"Topic15\", \"Topic15\", \"Topic15\", \"Topic15\", \"Topic15\", \"Topic15\", \"Topic15\", \"Topic15\", \"Topic15\", \"Topic15\", \"Topic15\", \"Topic15\", \"Topic15\", \"Topic15\", \"Topic15\", \"Topic15\", \"Topic15\", \"Topic15\", \"Topic15\", \"Topic15\", \"Topic15\", \"Topic15\", \"Topic15\", \"Topic15\", \"Topic15\", \"Topic15\", \"Topic15\", \"Topic15\", \"Topic15\", \"Topic15\", \"Topic16\", \"Topic16\", \"Topic16\", \"Topic16\", \"Topic16\", \"Topic16\", \"Topic16\", \"Topic16\", \"Topic16\", \"Topic16\", \"Topic16\", \"Topic16\", \"Topic16\", \"Topic16\", \"Topic16\", \"Topic16\", \"Topic16\", \"Topic16\", \"Topic16\", \"Topic16\", \"Topic16\", \"Topic16\", \"Topic16\", \"Topic16\", \"Topic16\", \"Topic16\", \"Topic16\", \"Topic16\", \"Topic16\", \"Topic16\", \"Topic16\", \"Topic16\", \"Topic16\", \"Topic16\", \"Topic16\", \"Topic16\", \"Topic16\", \"Topic16\", \"Topic17\", \"Topic17\", \"Topic17\", \"Topic17\", \"Topic17\", \"Topic17\", \"Topic17\", \"Topic17\", \"Topic17\", \"Topic17\", \"Topic17\", \"Topic17\", \"Topic17\", \"Topic17\", \"Topic17\", \"Topic17\", \"Topic17\", \"Topic17\", \"Topic17\", \"Topic17\", \"Topic17\", \"Topic17\", \"Topic17\", \"Topic17\", \"Topic17\", \"Topic17\", \"Topic17\", \"Topic17\", \"Topic17\", \"Topic17\", \"Topic17\", \"Topic17\", \"Topic17\", \"Topic17\", \"Topic17\", \"Topic17\", \"Topic17\", \"Topic17\", \"Topic18\", \"Topic18\", \"Topic18\", \"Topic18\", \"Topic18\", \"Topic18\", \"Topic18\", \"Topic18\", \"Topic18\", \"Topic18\", \"Topic18\", \"Topic18\", \"Topic18\", \"Topic18\", \"Topic18\", \"Topic18\", \"Topic18\", \"Topic18\", \"Topic18\", \"Topic18\", \"Topic18\", \"Topic18\", \"Topic18\", \"Topic18\", \"Topic18\", \"Topic18\", \"Topic18\", \"Topic18\", \"Topic18\", \"Topic18\", \"Topic18\", \"Topic18\", \"Topic18\", \"Topic18\", \"Topic18\", \"Topic18\", \"Topic18\", \"Topic18\", \"Topic18\", \"Topic18\", \"Topic18\", \"Topic18\", \"Topic18\", \"Topic19\", \"Topic19\", \"Topic19\", \"Topic19\", \"Topic19\", \"Topic19\", \"Topic19\", \"Topic19\", \"Topic19\", \"Topic19\", \"Topic19\", \"Topic19\", \"Topic19\", \"Topic19\", \"Topic19\", \"Topic19\", \"Topic19\", \"Topic19\", \"Topic19\", \"Topic19\", \"Topic19\", \"Topic19\", \"Topic19\", \"Topic19\", \"Topic19\", \"Topic19\", \"Topic19\", \"Topic19\", \"Topic19\", \"Topic19\", \"Topic19\", \"Topic19\", \"Topic19\", \"Topic19\", \"Topic19\", \"Topic20\", \"Topic20\", \"Topic20\", \"Topic20\", \"Topic20\", \"Topic20\", \"Topic20\", \"Topic20\", \"Topic20\", \"Topic20\", \"Topic20\", \"Topic20\", \"Topic20\", \"Topic20\", \"Topic20\", \"Topic20\", \"Topic20\", \"Topic20\", \"Topic20\", \"Topic20\", \"Topic20\", \"Topic20\", \"Topic20\", \"Topic20\", \"Topic20\", \"Topic20\", \"Topic20\", \"Topic20\", \"Topic20\", \"Topic20\", \"Topic20\", \"Topic20\", \"Topic20\", \"Topic20\", \"Topic20\", \"Topic20\"], \"logprob\": [30.0, 29.0, 28.0, 27.0, 26.0, 25.0, 24.0, 23.0, 22.0, 21.0, 20.0, 19.0, 18.0, 17.0, 16.0, 15.0, 14.0, 13.0, 12.0, 11.0, 10.0, 9.0, 8.0, 7.0, 6.0, 5.0, 4.0, 3.0, 2.0, 1.0, -5.5033, -5.5994, -6.1221, -6.2456, -6.2992, -6.3434, -6.4308, -6.4811, -6.5076, -6.5343, -6.58, -6.7478, -6.7669, -6.8172, -6.8254, -6.8442, -6.8602, -6.8868, -6.9352, -6.9953, -7.0034, -7.0248, -7.0481, -7.0653, -7.1029, -7.1212, -5.9335, -7.0734, -7.1762, -7.1777, -3.8423, -4.9437, -7.0083, -5.1094, -4.9281, -4.15, -5.6615, -5.6488, -4.982, -6.0284, -5.1529, -5.3137, -4.1371, -6.3912, -5.1723, -4.4453, -4.872, -4.1647, -4.4583, -4.035, -5.2937, -5.303, -5.6141, -4.7353, -3.7925, -4.5034, -4.2652, -5.2505, -4.797, -5.1745, -4.7359, -4.1431, -4.9086, -4.1417, -4.6609, -4.6982, -4.7918, -4.3546, -5.0875, -4.9607, -5.0229, -5.1088, -5.1303, -4.5846, -4.6163, -4.7605, -5.0296, -5.2165, -5.275, -5.3481, -5.3687, -5.3894, -5.4004, -5.4057, -5.5005, -5.5113, -5.5605, -5.5654, -5.6519, -5.6797, -5.6816, -5.7316, -5.7684, -5.7701, -5.8132, -5.8311, -5.8479, -5.8662, -5.8759, -5.8799, -5.9337, -5.9373, -6.0017, -5.0773, -4.3209, -4.8015, -5.6797, -4.5857, -5.2032, -5.199, -5.2019, -4.9515, -4.2304, -4.384, -4.4438, -5.0372, -5.1493, -4.8113, -4.5931, -4.7704, -4.5607, -5.0168, -4.0485, -4.7032, -5.1093, -4.6609, -5.0755, -5.1111, -5.1686, -4.7433, -4.9654, -5.09, -5.2139, -5.2496, -5.3375, -5.3393, -5.4128, -5.59, -5.5995, -5.6394, -5.7611, -5.8013, -5.8625, -5.8842, -5.9489, -6.0243, -6.0374, -6.0588, -6.09, -6.094, -6.0965, -6.1063, -6.126, -6.139, -6.1408, -6.1439, -5.5815, -6.2236, -6.2245, -5.5702, -6.0931, -4.6589, -4.6895, -5.3655, -4.6575, -5.0449, -5.3976, -4.5905, -5.6574, -5.6232, -3.8871, -4.726, -4.4206, -4.0892, -4.6244, -5.0414, -4.664, -5.3342, -4.9014, -5.0493, -5.2834, -5.2337, -5.4714, -5.3767, -5.3983, -3.951, -4.6951, -4.8705, -5.0347, -5.1346, -5.1376, -5.259, -5.4708, -5.6742, -5.7182, -5.7574, -5.7891, -5.8623, -5.9158, -5.9197, -5.9227, -5.9997, -6.0598, -6.0679, -6.1494, -6.1519, -6.1864, -6.1947, -6.2102, -6.2283, -6.2606, -6.3218, -6.3251, -6.3731, -6.3928, -5.5131, -5.1107, -4.5456, -4.4504, -4.1269, -5.4762, -4.257, -5.011, -4.8125, -5.3179, -5.7331, -5.2987, -5.3763, -5.0523, -5.057, -5.3834, -4.9437, -4.1877, -4.3336, -4.939, -5.1878, -5.1132, -5.0177, -4.9878, -5.0858, -5.3761, -5.3756, -3.8073, -4.409, -5.3595, -5.4298, -5.8503, -2.6692, -6.1366, -6.3217, -6.378, -6.3853, -6.4016, -6.4123, -6.4323, -6.5535, -6.5822, -6.5922, -6.6053, -6.6784, -6.6815, -6.7389, -6.7403, -6.7669, -6.7772, -6.7843, -6.8509, -6.8658, -6.8946, -6.9066, -6.925, -6.9275, -2.4032, -2.3637, -3.0282, -2.8317, -3.1866, -4.0132, -2.4072, -4.8975, -5.4063, -4.6897, -6.3148, -5.7153, -5.7516, -4.5577, -5.6981, -5.1704, -5.9814, -5.1515, -4.9623, -5.6639, -6.1263, -6.039, -6.1342, -5.4778, -5.7935, -5.8778, -6.0586, -5.8506, -5.8038, -5.9086, -0.3039, -5.0938, -5.4066, -5.4727, -5.4924, -5.5599, -5.8122, -5.8124, -5.8721, -5.9159, -5.9164, -5.9302, -5.9999, -6.0377, -6.0932, -6.1931, -6.1933, -6.1991, -6.4609, -6.4701, -6.497, -6.5012, -6.5035, -6.5506, -6.5616, -6.5652, -6.5812, -6.583, -6.5843, -6.6089, -4.3478, -4.385, -4.4129, -4.9045, -5.052, -5.1212, -5.141, -5.2189, -5.2543, -5.2575, -5.3059, -5.3186, -5.356, -5.4075, -5.5027, -5.5187, -5.5212, -5.5986, -5.6238, -5.6396, -5.6759, -5.8337, -5.849, -5.2788, -5.6922, -5.9682, -6.0561, -6.1205, -6.1227, -6.1515, -4.6611, -5.6066, -4.6011, -5.7213, -3.9697, -4.952, -4.9342, -4.8626, -4.1464, -4.7639, -4.949, -4.3602, -4.7522, -5.1092, -4.9344, -5.0242, -4.908, -5.1498, -4.4583, -5.0817, -4.9455, -5.0691, -4.7968, -4.9332, -5.0901, -5.1385, -3.2458, -3.8086, -4.2018, -4.3198, -4.7807, -4.8112, -4.9466, -5.0003, -5.0338, -5.0789, -5.1103, -5.1609, -5.2309, -5.2352, -5.2909, -5.3396, -5.4166, -5.4491, -5.4805, -5.4862, -5.4918, -5.5232, -5.5354, -5.5893, -5.5902, -5.6575, -5.7094, -5.7197, -5.7751, -5.7914, -4.2009, -4.9336, -4.6538, -4.816, -5.4103, -4.9355, -5.0254, -4.4632, -4.191, -4.8282, -3.8431, -5.1977, -3.9787, -5.318, -5.0477, -5.0729, -5.0235, -4.9849, -5.1277, -5.2277, -4.2443, -4.3866, -4.4764, -4.5768, -4.6077, -4.6203, -4.9691, -5.0046, -5.0664, -5.0825, -5.0861, -5.135, -5.446, -5.5447, -5.5723, -5.6422, -5.6695, -5.6896, -5.7139, -5.7223, -5.7936, -5.7957, -5.8288, -5.9691, -6.0046, -6.036, -6.0762, -6.089, -6.0893, -6.0917, -4.3235, -3.9496, -4.9511, -5.366, -4.8034, -4.3938, -4.2201, -4.7612, -5.4543, -5.4841, -4.7008, -4.2124, -5.3128, -5.5435, -5.5186, -5.0305, -5.3528, -5.4694, -5.3731, -4.1344, -4.7347, -4.8165, -4.8595, -4.9739, -5.0666, -5.1269, -5.2192, -5.3548, -5.3958, -5.4014, -5.4319, -5.5292, -5.5443, -5.5586, -5.6067, -5.6743, -5.7102, -5.7154, -5.772, -5.7995, -5.8076, -5.8096, -5.8382, -5.8382, -5.87, -5.8904, -5.9189, -5.9577, -5.9697, -5.1485, -4.72, -5.1101, -5.5385, -4.1088, -5.2209, -3.9154, -4.1751, -5.5168, -4.595, -5.3442, -4.3499, -5.0028, -5.1061, -4.7127, -4.7564, -5.3964, -5.1377, -5.2621, -5.3422, -5.3562, -3.3232, -4.6312, -4.7444, -5.038, -5.0543, -5.1359, -5.3089, -5.3204, -5.3223, -5.3791, -5.4276, -5.4507, -5.4588, -5.4654, -5.5093, -5.511, -5.5203, -5.5629, -5.5901, -5.6174, -5.6793, -5.6893, -5.7443, -5.8105, -5.8571, -5.8938, -5.8994, -5.9293, -5.9539, -6.0059, -4.6026, -5.1267, -5.0629, -5.2447, -4.4661, -4.2642, -4.1848, -4.994, -4.1806, -4.8029, -5.0058, -4.9912, -5.0553, -5.0137, -4.8506, -5.2414, -5.1925, -5.2629, -5.3605, -5.3896, -4.3678, -4.4362, -4.4465, -4.534, -4.667, -4.8034, -4.9259, -4.9432, -4.9541, -5.054, -5.076, -5.1409, -5.1596, -5.1692, -5.2127, -5.3032, -5.3347, -5.3614, -5.3703, -5.3937, -5.4285, -5.4398, -5.4775, -5.533, -5.5437, -5.591, -5.5938, -5.6149, -5.6445, -5.6711, -4.6848, -3.3016, -4.3754, -5.3072, -5.1392, -5.197, -4.8087, -4.8215, -5.2885, -5.3106, -3.4523, -3.9758, -4.1515, -4.3449, -4.5365, -4.7356, -5.0774, -5.0783, -5.1902, -5.2121, -5.2831, -5.2999, -5.3835, -5.3945, -5.4054, -5.4259, -5.428, -5.4541, -5.4557, -5.4698, -5.4712, -5.4988, -5.4991, -5.5177, -5.575, -5.5792, -5.5818, -5.6805, -5.6886, -5.6967, -5.066, -5.2457, -4.2086, -4.5259, -4.8753, -4.2974, -5.13, -4.7665, -5.2946, -5.259, -5.3656, -5.343, -5.3783, -5.4158, -2.9664, -4.0028, -4.0412, -4.1179, -4.2425, -4.2884, -4.4198, -4.4423, -4.5636, -4.6075, -4.6757, -4.848, -4.8775, -5.0106, -5.1195, -5.2753, -5.2853, -5.3797, -5.3881, -5.4006, -5.4313, -5.4319, -5.4449, -5.4457, -5.4598, -5.4684, -5.4796, -5.5029, -5.549, -5.6524, -2.9156, -3.3268, -5.1907, -4.6766, -4.4515, -5.2023, -5.3954, -4.042, -4.4669, -4.5063, -4.5876, -4.9057, -4.9188, -5.0388, -5.0415, -5.0757, -5.1269, -5.145, -5.205, -5.2062, -5.2064, -5.2518, -5.2769, -5.2918, -5.321, -5.3693, -5.4373, -5.4726, -5.4783, -5.4835, -5.4873, -5.4884, -5.5499, -5.5648, -5.5763, -5.6187, -5.6401, -4.4242, -3.8197, -4.6562, -4.8917, -4.8896, -5.272, -5.3714, -5.1865, -5.1291, -5.4167, -5.3312, -4.1737, -4.4737, -4.5041, -4.5885, -4.7728, -4.8043, -4.8609, -5.0352, -5.1155, -5.1278, -5.1424, -5.1775, -5.2097, -5.2187, -5.2861, -5.2882, -5.339, -5.3514, -5.3539, -5.358, -5.3739, -5.3923, -5.423, -5.4366, -5.5188, -5.5471, -5.5515, -5.5591, -5.5603, -5.5646, -3.1018, -4.7499, -5.08, -5.3111, -5.0059, -5.3335, -5.229, -5.3655, -3.7179, -4.0667, -4.3143, -4.3643, -4.462, -4.5952, -4.5992, -4.6495, -4.9532, -4.9678, -5.0, -5.1008, -5.1377, -5.19, -5.1933, -5.234, -5.2506, -5.3014, -5.303, -5.3102, -5.3511, -5.3981, -5.4058, -5.4487, -5.4533, -5.4557, -5.5156, -5.5213, -5.5267, -5.5324, -4.1309, -3.9765, -4.8318, -5.2777, -5.1746, -5.1782, -5.3294, -5.2588, -3.7532, -4.4238, -4.6714, -4.7219, -4.7768, -4.8489, -4.8776, -4.878, -4.8845, -4.8961, -4.9461, -5.0816, -5.0976, -5.1468, -5.2461, -5.2599, -5.2867, -5.2887, -5.3558, -5.3972, -5.4386, -5.4659, -5.499, -5.516, -5.5209, -5.5241, -5.5441, -5.5623, -5.5815, -5.6277, -5.0632, -4.6505, -5.0913, -5.0726, -4.9061, -5.3413, -4.9968, -5.1142, -4.9883, -5.0738, -5.2171, -5.293, -5.3177, -3.9384, -4.0906, -4.309, -4.3238, -4.3703, -4.567, -4.726, -4.8154, -4.8365, -4.8691, -4.8755, -4.8757, -4.9941, -5.0042, -5.076, -5.1116, -5.1478, -5.1626, -5.2229, -5.2277, -5.2569, -5.2872, -5.2933, -5.3275, -5.3872, -5.3883, -5.4743, -5.4778, -5.5003, -5.5285, -2.4558, -4.4819, -4.3365, -4.5162, -4.862, -3.3291, -3.6586, -3.8307, -4.0676, -4.2055, -4.5792, -4.8282, -4.8678, -4.9139, -5.0238, -5.0566, -5.2494, -5.443, -5.5333, -5.5684, -5.5816, -5.5839, -5.6192, -5.6208, -5.6244, -5.6277, -5.6326, -5.6615, -5.8238, -5.8536, -5.8804, -5.8862, -5.8903, -5.9425, -5.9748, -5.8914, -5.8914, -4.9808, -4.7999, -4.6598, -5.5748], \"loglift\": [30.0, 29.0, 28.0, 27.0, 26.0, 25.0, 24.0, 23.0, 22.0, 21.0, 20.0, 19.0, 18.0, 17.0, 16.0, 15.0, 14.0, 13.0, 12.0, 11.0, 10.0, 9.0, 8.0, 7.0, 6.0, 5.0, 4.0, 3.0, 2.0, 1.0, 1.5776, 1.5775, 1.5768, 1.5766, 1.5765, 1.5764, 1.5762, 1.5761, 1.576, 1.5759, 1.5758, 1.5753, 1.5752, 1.5751, 1.5751, 1.575, 1.5749, 1.5748, 1.5746, 1.5744, 1.5744, 1.5742, 1.5742, 1.5741, 1.5739, 1.5739, 1.5738, 1.5736, 1.5736, 1.5736, 1.5713, 1.5533, 1.5735, 1.5528, 1.5436, 1.5276, 1.5574, 1.5551, 1.5372, 1.5573, 1.5271, 1.5289, 1.4668, 1.5567, 1.5057, 1.4664, 1.4764, 1.4274, 1.4452, 1.4038, 1.477, 1.4755, 1.502, 1.4159, 1.314, 1.3736, 1.3435, 1.4453, 1.3638, 1.4145, 1.3271, 1.1873, 1.3522, 1.1508, 1.284, 1.277, 1.2538, 1.0043, 1.2618, 1.0678, 1.0236, 1.0439, 0.5627, 2.0043, 2.0043, 2.0042, 2.004, 2.0038, 2.0037, 2.0037, 2.0036, 2.0036, 2.0036, 2.0036, 2.0035, 2.0035, 2.0034, 2.0034, 2.0032, 2.0032, 2.0032, 2.0031, 2.003, 2.003, 2.003, 2.0029, 2.0029, 2.0028, 2.0028, 2.0028, 2.0027, 2.0027, 2.0026, 2.0003, 1.9502, 1.9665, 1.9907, 1.8877, 1.9215, 1.885, 1.8725, 1.7537, 1.449, 1.4814, 1.4817, 1.7096, 1.7486, 1.5762, 1.4515, 1.5361, 1.3235, 1.5719, 0.6178, 0.9898, 1.5612, 0.4456, 1.012, 0.9818, 0.8779, 2.3994, 2.3992, 2.399, 2.3989, 2.3988, 2.3986, 2.3986, 2.3985, 2.3981, 2.3981, 2.398, 2.3977, 2.3976, 2.3974, 2.3973, 2.3971, 2.3969, 2.3968, 2.3967, 2.3966, 2.3966, 2.3966, 2.3966, 2.3965, 2.3964, 2.3964, 2.3964, 2.3962, 2.3961, 2.3961, 2.3361, 2.381, 2.1866, 2.1072, 2.2423, 2.0856, 2.1642, 2.214, 1.9082, 2.2524, 2.2219, 1.5265, 1.8656, 1.4965, 1.2697, 1.4927, 1.7678, 1.4235, 1.9096, 1.024, 1.2457, 1.4403, 1.2432, 1.499, -0.0463, 0.2104, 2.4817, 2.4812, 2.481, 2.4808, 2.4806, 2.4806, 2.4804, 2.48, 2.4795, 2.4793, 2.4792, 2.4791, 2.4789, 2.4787, 2.4787, 2.4787, 2.4784, 2.4782, 2.4781, 2.4778, 2.4778, 2.4776, 2.4776, 2.4775, 2.4774, 2.4773, 2.477, 2.477, 2.4767, 2.4766, 2.4711, 2.4661, 2.4153, 2.3436, 2.1465, 2.3385, 2.0379, 2.195, 2.1364, 2.1973, 2.3337, 2.1696, 2.1649, 2.0101, 1.9383, 2.0889, 1.7314, 1.1048, 1.0801, 1.4062, 1.6964, 1.5464, 1.2116, 1.1217, 0.3531, 1.2751, 1.1358, 2.6273, 2.6269, 2.6255, 2.6253, 2.6241, 2.6235, 2.6228, 2.6218, 2.6214, 2.6214, 2.6213, 2.6212, 2.6211, 2.6202, 2.62, 2.6199, 2.6198, 2.6192, 2.6192, 2.6187, 2.6187, 2.6184, 2.6183, 2.6183, 2.6176, 2.6174, 2.6171, 2.617, 2.6168, 2.6168, 2.5703, 2.5359, 2.5446, 2.4927, 2.5015, 2.409, 2.2591, 2.4715, 2.4642, 2.3621, 2.5634, 2.3668, 2.3646, 1.9044, 2.3003, 2.0886, 2.3343, 1.9049, 1.5491, 2.0071, 2.3836, 2.267, 2.3458, 1.2593, 1.6885, 1.7105, 2.0896, 0.4946, -0.4734, -0.2292, 2.949, 2.9468, 2.9459, 2.9457, 2.9457, 2.9454, 2.9444, 2.9444, 2.9441, 2.9439, 2.9439, 2.9438, 2.9435, 2.9433, 2.9429, 2.9423, 2.9423, 2.9423, 2.9403, 2.9402, 2.9399, 2.9399, 2.9399, 2.9394, 2.9393, 2.9393, 2.9392, 2.9391, 2.9391, 2.9389, 3.009, 3.009, 3.009, 3.0081, 3.0078, 3.0076, 3.0076, 3.0073, 3.0072, 3.0072, 3.0071, 3.007, 3.0069, 3.0067, 3.0064, 3.0063, 3.0063, 3.006, 3.0059, 3.0058, 3.0056, 3.0048, 3.0048, 3.0043, 3.0042, 3.0041, 3.0035, 3.0031, 3.003, 3.0028, 2.9914, 2.993, 2.972, 2.993, 2.8832, 2.932, 2.9294, 2.8487, 2.6867, 2.805, 2.7706, 2.5476, 2.6825, 2.8024, 2.7004, 2.7436, 2.6642, 2.7697, 1.8957, 2.6571, 2.4507, 2.6105, 1.8156, 2.072, 2.2148, 2.4497, 3.2402, 3.2398, 3.2394, 3.2392, 3.2383, 3.2383, 3.2379, 3.2377, 3.2376, 3.2375, 3.2374, 3.2372, 3.237, 3.237, 3.2367, 3.2365, 3.2362, 3.2361, 3.2359, 3.2359, 3.2359, 3.2357, 3.2356, 3.2354, 3.2354, 3.235, 3.2347, 3.2346, 3.2343, 3.2342, 3.1933, 3.1937, 3.1378, 3.0035, 3.1551, 2.9678, 3.0019, 2.7484, 2.5058, 2.7651, 2.0223, 3.0058, 1.7007, 3.0484, 2.5011, 2.3477, 1.9469, 1.6856, 2.0035, 1.3808, 3.3139, 3.3137, 3.3135, 3.3133, 3.3132, 3.3132, 3.3123, 3.3122, 3.312, 3.3119, 3.3119, 3.3118, 3.3104, 3.3099, 3.3098, 3.3093, 3.3092, 3.3091, 3.3089, 3.3088, 3.3084, 3.3083, 3.3081, 3.307, 3.3067, 3.3064, 3.3061, 3.306, 3.3059, 3.3059, 3.1681, 3.1051, 3.1841, 3.228, 3.1385, 2.8339, 2.7792, 2.6754, 2.9641, 2.9485, 1.9743, 1.2012, 2.7312, 2.9626, 2.7458, 0.2619, 1.6265, 2.4253, 1.3507, 3.3986, 3.3974, 3.3972, 3.397, 3.3967, 3.3963, 3.3961, 3.3957, 3.3951, 3.3949, 3.3948, 3.3947, 3.3941, 3.394, 3.394, 3.3937, 3.3932, 3.393, 3.3929, 3.3925, 3.3923, 3.3922, 3.3922, 3.392, 3.392, 3.3917, 3.3916, 3.3913, 3.391, 3.3909, 3.3869, 3.3326, 3.2805, 3.3169, 2.7754, 3.1411, 2.5615, 2.5486, 3.2237, 2.5764, 3.0744, 2.0381, 2.6893, 2.7882, 2.2577, 1.3607, 2.8582, 1.858, 2.2904, 2.2577, 2.1746, 3.4122, 3.4104, 3.4101, 3.4092, 3.4091, 3.4088, 3.4081, 3.408, 3.408, 3.4077, 3.4075, 3.4073, 3.4073, 3.4072, 3.407, 3.407, 3.4069, 3.4067, 3.4065, 3.4063, 3.4059, 3.4058, 3.4054, 3.4049, 3.4046, 3.4043, 3.4042, 3.4039, 3.4037, 3.4032, 3.4004, 3.3695, 3.3162, 3.3256, 3.1972, 2.885, 2.7605, 3.0864, 2.1708, 2.4784, 2.6631, 2.5923, 2.4896, 2.3813, 1.2368, 1.994, 0.854, 1.5185, 2.192, 1.6425, 3.709, 3.7088, 3.7088, 3.7085, 3.7081, 3.7076, 3.7071, 3.707, 3.707, 3.7065, 3.7064, 3.706, 3.7059, 3.7059, 3.7056, 3.7051, 3.7049, 3.7047, 3.7046, 3.7045, 3.7042, 3.7041, 3.7039, 3.7034, 3.7033, 3.7029, 3.7029, 3.7027, 3.7025, 3.7022, 3.7017, 3.6477, 3.249, 3.0487, 2.4898, 2.6279, 1.3521, 1.0555, 1.923, 1.3646, 3.8084, 3.8076, 3.8073, 3.8068, 3.8062, 3.8055, 3.8039, 3.8039, 3.8032, 3.803, 3.8026, 3.8025, 3.8018, 3.8018, 3.8017, 3.8015, 3.8015, 3.8013, 3.8013, 3.8011, 3.8011, 3.8009, 3.8009, 3.8007, 3.8002, 3.8002, 3.8002, 3.7992, 3.7991, 3.799, 3.7815, 3.659, 3.0267, 3.0764, 3.3092, 2.8518, 2.8593, 1.8459, 3.0907, 2.1952, 1.8435, 1.1339, 1.9036, 1.9537, 3.8104, 3.8091, 3.809, 3.8089, 3.8086, 3.8085, 3.8081, 3.808, 3.8076, 3.8075, 3.8072, 3.8065, 3.8064, 3.8057, 3.8051, 3.8041, 3.804, 3.8033, 3.8033, 3.8032, 3.8029, 3.8029, 3.8028, 3.8028, 3.8027, 3.8026, 3.8025, 3.8023, 3.8019, 3.8009, 3.7991, 3.7988, 3.3942, 2.3636, 1.4255, 2.6569, 2.8136, 3.8657, 3.8646, 3.8644, 3.8641, 3.8628, 3.8627, 3.862, 3.862, 3.8618, 3.8615, 3.8614, 3.861, 3.861, 3.861, 3.8607, 3.8605, 3.8604, 3.8602, 3.8598, 3.8592, 3.8589, 3.8589, 3.8588, 3.8588, 3.8588, 3.8582, 3.8581, 3.8579, 3.8575, 3.8573, 3.6625, 3.0859, 2.6404, 2.7478, 2.5985, 3.3109, 3.3869, 2.2084, 1.6524, 3.3769, 2.2687, 3.8745, 3.8736, 3.8735, 3.8732, 3.8725, 3.8723, 3.8721, 3.8711, 3.8707, 3.8706, 3.8705, 3.8703, 3.87, 3.87, 3.8695, 3.8695, 3.8691, 3.869, 3.869, 3.8689, 3.8688, 3.8687, 3.8684, 3.8683, 3.8675, 3.8673, 3.8672, 3.8672, 3.8672, 3.8671, 3.5198, 3.7408, 3.7045, 3.7637, 3.5213, 3.5967, 3.3336, 3.5047, 3.9874, 3.9867, 3.986, 3.9858, 3.9855, 3.9849, 3.9849, 3.9847, 3.9831, 3.9831, 3.9829, 3.9822, 3.9819, 3.9815, 3.9815, 3.9812, 3.9811, 3.9807, 3.9806, 3.9806, 3.9802, 3.9798, 3.9797, 3.9793, 3.9793, 3.9792, 3.9786, 3.9786, 3.9785, 3.9785, 3.8772, 3.8363, 3.7526, 3.882, 3.7086, 3.4475, 3.6744, 2.6946, 4.1756, 4.1736, 4.1724, 4.1721, 4.1718, 4.1713, 4.1711, 4.1711, 4.1711, 4.171, 4.1707, 4.1696, 4.1695, 4.1691, 4.1682, 4.168, 4.1678, 4.1678, 4.1671, 4.1666, 4.1661, 4.1658, 4.1654, 4.1652, 4.1651, 4.1651, 4.1648, 4.1646, 4.1643, 4.1637, 4.1549, 3.9206, 4.015, 3.6513, 2.8654, 3.725, 2.2833, 2.6418, 1.8572, 1.9031, 1.6907, 2.7416, 1.1557, 4.2405, 4.2401, 4.2393, 4.2392, 4.239, 4.2381, 4.2372, 4.2366, 4.2364, 4.2362, 4.2362, 4.2362, 4.2353, 4.2352, 4.2346, 4.2343, 4.2339, 4.2338, 4.2332, 4.2331, 4.2328, 4.2325, 4.2325, 4.2321, 4.2314, 4.2314, 4.2303, 4.2303, 4.23, 4.2296, 3.8956, 4.1022, 4.0231, 3.7296, 3.4024, 4.546, 4.5452, 4.5446, 4.5437, 4.5431, 4.5408, 4.5387, 4.5383, 4.5379, 4.5367, 4.5363, 4.5338, 4.5308, 4.5292, 4.5285, 4.5283, 4.5282, 4.5275, 4.5275, 4.5274, 4.5274, 4.5272, 4.5266, 4.5229, 4.5222, 4.5215, 4.5213, 4.5212, 4.5198, 4.5189, 4.5183, 4.5183, 4.3693, 4.0858, 3.9575, 4.374]}, \"token.table\": {\"Topic\": [20, 3, 4, 6, 18, 2, 10, 13, 18, 18, 10, 2, 13, 10, 20, 1, 17, 20, 1, 2, 3, 4, 7, 8, 9, 11, 15, 7, 3, 18, 2, 2, 5, 13, 8, 18, 1, 2, 9, 10, 11, 13, 17, 18, 9, 1, 4, 9, 3, 1, 2, 5, 11, 1, 2, 3, 4, 13, 11, 19, 4, 18, 4, 4, 1, 8, 9, 10, 16, 9, 7, 3, 10, 11, 2, 7, 8, 1, 16, 1, 6, 10, 1, 3, 11, 1, 3, 1, 5, 15, 1, 2, 4, 7, 12, 14, 14, 15, 12, 5, 1, 17, 4, 1, 3, 4, 5, 16, 11, 20, 4, 17, 5, 16, 17, 1, 2, 8, 7, 10, 17, 6, 16, 4, 1, 8, 11, 2, 10, 18, 4, 7, 9, 5, 13, 6, 1, 2, 8, 15, 16, 18, 1, 1, 8, 3, 10, 13, 20, 20, 19, 2, 3, 11, 6, 20, 8, 13, 5, 19, 11, 2, 1, 2, 3, 4, 5, 7, 8, 10, 15, 1, 15, 16, 20, 1, 1, 2, 4, 9, 10, 8, 5, 7, 10, 16, 4, 4, 19, 3, 11, 10, 1, 9, 10, 13, 9, 10, 18, 1, 4, 5, 9, 1, 8, 17, 3, 3, 8, 8, 1, 19, 18, 14, 5, 17, 2, 2, 5, 13, 1, 2, 3, 4, 9, 12, 8, 7, 2, 8, 10, 12, 7, 3, 4, 7, 4, 3, 10, 13, 15, 18, 16, 10, 18, 12, 1, 2, 8, 10, 11, 13, 15, 17, 19, 3, 5, 17, 1, 2, 18, 11, 19, 15, 2, 3, 8, 11, 12, 13, 15, 4, 5, 16, 3, 9, 10, 1, 2, 3, 3, 3, 7, 9, 17, 2, 11, 5, 9, 10, 20, 6, 5, 2, 3, 15, 18, 17, 20, 4, 16, 20, 20, 16, 17, 2, 8, 10, 1, 3, 12, 11, 4, 5, 9, 3, 4, 10, 15, 1, 5, 4, 7, 9, 8, 11, 15, 6, 3, 9, 15, 8, 15, 19, 12, 18, 19, 19, 16, 4, 10, 19, 19, 18, 7, 2, 16, 18, 10, 2, 2, 7, 18, 14, 1, 12, 16, 6, 20, 1, 2, 3, 16, 9, 19, 4, 14, 6, 13, 4, 16, 13, 2, 11, 19, 2, 11, 3, 11, 15, 4, 12, 9, 10, 14, 11, 18, 11, 19, 7, 10, 11, 16, 17, 6, 20, 14, 2, 9, 5, 8, 3, 15, 1, 2, 4, 6, 8, 18, 11, 8, 8, 15, 7, 9, 20, 10, 1, 3, 4, 5, 9, 1, 4, 7, 9, 4, 2, 5, 8, 9, 1, 2, 3, 4, 7, 10, 11, 10, 2, 4, 7, 7, 16, 8, 10, 2, 4, 11, 8, 1, 3, 4, 7, 18, 15, 1, 3, 4, 5, 9, 13, 7, 4, 14, 14, 7, 8, 2, 3, 4, 5, 9, 11, 12, 14, 2, 7, 7, 12, 2, 8, 16, 18, 2, 10, 17, 6, 1, 12, 14, 1, 2, 3, 4, 5, 9, 11, 16, 1, 2, 3, 4, 7, 8, 9, 12, 15, 1, 2, 4, 7, 9, 13, 14, 18, 9, 19, 1, 3, 4, 9, 3, 4, 7, 10, 16, 19, 2, 3, 4, 7, 10, 10, 15, 9, 11, 14, 15, 5, 20, 14, 5, 20, 11, 12, 16, 11, 18, 1, 2, 3, 4, 7, 10, 16, 9, 1, 2, 3, 5, 11, 16, 17, 9, 1, 2, 3, 4, 9, 5, 1, 3, 1, 13, 1, 2, 3, 4, 11, 14, 10, 3, 8, 9, 10, 15, 3, 9, 9, 1, 10, 15, 2, 3, 4, 5, 7, 10, 1, 3, 5, 5, 1, 20, 1, 3, 4, 9, 11, 5, 1, 3, 9, 19, 2, 3, 19, 19, 10, 1, 2, 3, 5, 17, 1, 2, 3, 9, 6, 10, 1, 2, 3, 7, 8, 11, 12, 15, 17, 10, 1, 14, 17, 8, 2, 5, 1, 17, 4, 7, 9, 10, 9, 1, 6, 19, 5, 10, 2, 18, 18, 10, 5, 14, 13, 2, 3, 7, 13, 18, 1, 3, 4, 6, 7, 17, 19, 2, 2, 8, 10, 18, 18, 9, 8, 1, 2, 8, 16, 2, 4, 11, 13, 8, 13, 18, 3, 4, 13, 18, 13, 3, 4, 7, 10, 18, 8, 20, 5, 10, 19, 8, 11, 6, 1, 5, 9, 1, 14, 9, 1, 2, 3, 4, 5, 4, 9, 13, 15, 1, 9, 12, 14, 16, 12, 4, 5, 10, 20, 1, 4, 14, 15, 14, 13, 9, 11, 11, 1, 3, 4, 7, 8, 10, 11, 1, 3, 7, 14, 18, 5, 10, 1, 4, 5, 9, 10, 1, 4, 11, 15, 17, 1, 2, 3, 4, 5, 6, 11, 12, 14, 2, 3, 7, 14, 18, 1, 3, 5, 11, 1, 3, 4, 9, 10, 13, 8, 16, 2, 3, 10, 19, 8, 17, 4, 1, 2, 3, 4, 5, 1, 2, 3, 11, 1, 1, 2, 3, 11, 1, 2, 8, 11, 12, 15, 17, 17, 20, 2, 8, 2, 1, 2, 3, 4, 5, 7, 8, 10, 11, 1, 4, 5, 9, 12, 16, 17, 1, 2, 3, 4, 5, 7, 9, 12, 4, 4, 16, 8, 10, 16, 7, 19, 1, 2, 19, 20, 1, 2, 3, 4, 5, 7, 5, 7, 10, 6, 3, 4, 9, 10, 13, 18, 2, 16, 2, 3, 4, 12, 17, 17, 10, 11, 1, 9, 10, 13, 10, 5, 4, 11, 16, 12, 15, 1, 2, 8, 11, 3, 2, 12, 4, 20, 3, 9, 7, 15, 19, 20, 1, 2, 3, 4, 11, 4, 9, 10, 6, 9, 2, 3, 7, 18, 10, 4, 1, 2, 3, 4, 8, 15, 15, 6, 1, 2, 5, 12, 14, 2, 15, 1, 2, 3, 4, 8, 10, 11, 13, 1, 3, 5, 7, 10, 10, 1, 2, 3, 12, 14, 20, 12, 2, 5, 11, 9, 1, 1, 2, 3, 5, 7, 8, 9, 14, 16, 16, 17, 9, 6, 2, 4, 13, 17, 15, 1, 3, 4, 5, 11, 16, 13, 13, 12, 2, 3, 8, 9, 17, 1, 2, 3, 5, 6, 12, 14, 1, 16, 11, 17, 3, 3, 2, 4, 10, 19, 13, 15, 12, 1, 2, 3, 4, 6, 7, 8, 9, 11, 9, 2, 12, 8, 16, 10, 13, 3, 11, 13, 2, 19, 20, 14, 14, 1, 3, 4, 5, 9, 10, 10, 17, 1, 3, 4, 10, 2, 8, 7, 1, 14, 14, 14, 10, 12, 12, 11, 1, 14, 3, 14, 11, 7, 6, 1, 2, 3, 4, 5, 7, 11, 14, 1, 9, 10, 15, 1, 9, 17, 5, 9, 16, 5, 8, 11, 1, 2, 3, 4, 5, 3, 4, 5, 18, 1, 4, 10, 11, 15, 15, 4, 16, 3, 8, 9, 10, 15, 17, 8, 11, 13, 7, 2, 15, 3, 17, 17, 1, 2, 4, 11, 16, 19, 7, 9, 2, 7, 13, 14, 2, 7, 8, 18, 6, 1, 4, 7, 2, 3, 4, 7, 8, 10, 15, 3, 8, 10, 9, 18, 7, 3, 13, 3, 4, 7, 10, 6, 20, 1, 2, 3, 4, 5, 7, 18, 20, 15, 17, 3, 8, 14, 5, 8, 10, 11, 3, 20, 12, 1, 2, 3, 4, 5, 7, 16, 12, 7, 9, 1, 1, 3, 4, 5, 11, 1, 3, 4, 6, 12, 7, 19, 17, 2, 4, 7, 16, 18, 18, 8, 18, 5, 4, 4, 5, 10, 18, 4, 4, 9, 1, 3, 5, 3, 7, 15, 17, 2, 4, 5, 6, 9, 1, 9, 10, 15, 16, 2, 18, 2, 5, 7, 10, 12, 15, 18, 10, 15, 8, 7, 3, 1, 3, 17, 5, 2, 4, 5, 7, 9, 10, 12, 17, 1, 2, 9, 13, 4, 1, 3, 4, 5, 10, 17, 8, 1, 10, 13, 17, 20, 9, 11, 6, 12, 6, 1, 13, 8, 1, 2, 4, 13, 19, 19, 12, 11, 1, 3, 4, 5, 9, 11, 20, 12, 7, 7, 12, 2, 4, 19, 20, 14, 11, 8, 10, 2, 8, 10, 16, 18, 8, 8, 3, 8, 13, 1, 2, 3, 4, 1, 2, 3, 4, 5, 8, 2, 11, 2, 3, 8, 11, 13, 8, 2, 3, 9, 12, 13, 18, 1, 4, 15, 5, 15, 7, 1, 2, 12, 3, 2, 8, 1, 2, 4, 12, 16, 4, 13, 17, 13, 13, 6, 11, 15, 5, 8, 5, 10, 14, 12, 14, 11, 19, 2, 19, 19, 5, 8, 2, 12, 9, 7, 16, 3, 5, 13, 2, 7, 9, 18, 5, 8, 12, 18, 15, 12, 5, 4, 5, 9, 13, 16, 17, 2, 8, 11, 19, 12, 18, 12, 14, 13, 2, 4, 8, 18, 14, 12, 1, 2, 12, 1, 3, 4, 5, 10, 13, 1, 1, 2, 3, 4, 9, 1, 9, 16, 3, 18, 4, 7, 10, 18, 13, 2, 13, 15, 16, 10, 20, 19, 13, 5, 2, 3, 4, 7, 8, 1, 3, 4, 9, 12, 3, 3, 4, 16, 3, 4, 12, 14, 15, 2, 8, 12, 15, 1, 2, 3, 4, 14, 6, 16, 6, 18, 13, 9, 9, 7, 2, 5, 4, 7, 1, 2, 3, 4, 1, 3, 4, 5, 1, 11, 11, 1, 2, 3, 4, 7, 8, 14, 18, 9, 18, 14, 8, 7, 8, 16, 3, 4, 9, 10, 10, 19, 10, 11, 9, 1, 2, 3, 4, 7, 3, 4, 1, 2, 3, 4, 5, 15, 17, 9, 9, 1, 5, 5, 16, 17, 6, 12, 16, 17, 18, 19, 20, 8, 15, 7, 4, 2, 5, 6, 12, 13, 5, 20, 15, 13, 1, 2, 3, 4, 5, 7, 8, 11, 15, 17, 7, 8, 16, 7, 8, 11, 15, 15, 2, 2, 5, 8, 2, 9, 10, 12, 1, 6, 1, 2, 3, 9, 7, 3, 17, 13, 1, 2, 3, 4, 9, 5, 9, 1, 14, 11, 13, 1, 2, 3, 4, 11, 17, 16, 3, 2, 6, 1, 15, 18, 9, 9, 1, 2, 5, 1, 2, 3, 4, 1, 2, 3, 7, 9, 11, 13, 8, 3, 4, 1, 2, 3, 4, 5, 16, 20, 6, 1, 9, 10, 12, 13, 14], \"Freq\": [0.9979136312392266, 0.2673910418852031, 0.7319492156655559, 0.9927709262751434, 0.990395905306649, 0.9203517531846989, 0.00574621281905119, 0.0363926811873242, 0.03735038332383273, 0.9925172800266008, 0.9931666894633164, 0.9986995935321381, 0.991992917255059, 0.9915796956003787, 0.983325106319515, 0.9950671333624125, 0.9958358680670383, 0.970639076805628, 0.3622062787031991, 0.36243508873396546, 0.09815950319878232, 0.08717662172199549, 0.07573612018367587, 0.0036609604922622774, 0.009152401230655693, 0.0018304802461311387, 0.9900597130234202, 0.9979769949729216, 0.9969562174334654, 0.9905590876696813, 0.998780049574664, 0.9979643234923254, 0.9996351736845278, 0.997173270088001, 0.36049360671788, 0.6342017155221963, 0.2656305656195701, 0.22976483524055644, 0.11880523188048284, 0.1356172929956455, 0.09302673817056675, 0.14906694188777564, 0.0022416081486883554, 0.005604020371720889, 0.9948433608052194, 0.015052425072060602, 0.9844285997127633, 0.9977946864747149, 0.997178559727047, 0.0036797365892852728, 0.00015332235788688637, 0.99567539211744, 0.0004599670736606591, 0.11576690503664673, 0.08991604274691009, 0.5855782283892519, 0.19107159083718392, 0.01742123328221383, 0.9931230708873442, 0.9934551804513548, 0.9960762191235487, 0.9906475849052572, 0.9971832212544414, 0.9988616445742012, 0.0013822758119713, 0.1313162021372735, 0.8625401066700912, 0.0027645516239426, 0.9953931099565856, 0.9968302962792523, 0.9985885978700169, 0.9956410177890775, 0.0022474966541514165, 0.9956488848649079, 0.8872916840828885, 0.07447733306809738, 0.03769840315792583, 0.9966010095879413, 0.9954711864048705, 0.9951791725566541, 0.9999832991835872, 0.9926609717698824, 0.9596760664475472, 0.028225766660221977, 0.012022085799724176, 0.9746486626657329, 0.024728091070108323, 0.9963105300681963, 0.9936283510126578, 0.9918601001609274, 0.18187678776315794, 0.26091670020228735, 0.11218568217166752, 0.39095010453762924, 0.05269327495941959, 0.994606056554933, 0.9909524828799688, 0.9941072889673235, 0.9924257900845282, 0.9885563362640715, 0.9968429225498003, 0.9916646117717379, 0.9977345634901169, 0.20195620143675558, 0.009402819095233559, 0.7150230694592824, 0.0735872798757409, 0.994893630874415, 0.9951644817891531, 0.9761848021117345, 0.9956344668556911, 0.9978609019719537, 0.9971848701132963, 0.9914465105758529, 0.9939670965198162, 0.14047799478572345, 0.37960275924319936, 0.47949822220193605, 0.9940783487398053, 0.13913771434211533, 0.8576982390952315, 0.9939690852436761, 0.995741068107618, 0.994578311976178, 0.23576096213447947, 0.7615287714963275, 0.9938525054294526, 0.9982141057971375, 0.9967753300309014, 0.983377123788657, 0.11895540580482121, 0.880853833168216, 0.9924570260753801, 0.9984150429622194, 0.9911665918109088, 0.9890677583510877, 0.24196244898964808, 0.3672816456775136, 0.2901621400234425, 0.06265959834393277, 0.0009639938206758887, 0.035667771365007886, 0.9948705904117942, 0.21019777468973969, 0.7864703255245317, 0.9375014996880402, 0.008370549104357502, 0.050223294626145006, 0.9855644603940995, 0.9912869269802183, 0.9874935329350278, 0.35536759501286014, 0.1232581298017578, 0.5210457305256125, 0.996901196801503, 0.9953143109628073, 0.9976612254932592, 0.9935599868285363, 0.9950936386016741, 0.9945356086502194, 0.9992853634418698, 0.9996449370555983, 0.1389143826829646, 0.16550525461567728, 0.19301305316675937, 0.07335412946955226, 0.04676325753683957, 0.11415736398699071, 0.00045846330918470165, 0.2562809898342482, 0.011461582729617541, 0.9948587125370842, 0.9943743061409916, 0.14520344822006112, 0.8389532563825755, 0.996859235283793, 0.9937787409630746, 0.9984810569537593, 0.25683312831147215, 0.5846333052353248, 0.1571413219274139, 0.9991951090070283, 0.39891888906220474, 0.5709716923600259, 0.0030451823592534716, 0.025884050053654507, 0.998441197985384, 0.9956748959160932, 0.9935759112147694, 0.9976521820422187, 0.9944326181277211, 0.9966181756833216, 0.3599372043994704, 0.41165231997410695, 0.21927209003645898, 0.008274418491941849, 0.9158381449720161, 0.07909511252031048, 0.9910026378116839, 0.06192476955322417, 0.8703870387203175, 0.05160397462768681, 0.015825218885823954, 0.10560819991542546, 0.13339983147211637, 0.7559323783419928, 0.9982215356079837, 0.9973084447139786, 0.993351858700966, 0.993041855843249, 0.9976964116748256, 0.9889217816406423, 0.9954038785722918, 0.9929607986466092, 0.26337870762704835, 0.7274269067794669, 0.9992413751080279, 0.055825337497319466, 0.9441279134027701, 0.9902106006204073, 0.875222174338502, 0.001412104185767186, 0.017792512740666545, 0.09828245132939616, 0.007342941765989368, 0.9870064889325136, 0.9971997048432099, 0.9978963389427867, 0.9620909624683139, 0.03687456650575419, 0.9190278542627633, 0.07568464682163933, 0.9962285772914017, 0.8365977603920927, 0.12991871102559557, 0.03149544509711408, 0.9976698366814836, 0.16825266793103422, 0.38197902989748306, 0.38652639930102456, 0.06138948694780978, 0.9908534571163511, 0.9953427914107215, 0.9937833064623288, 0.9876372439782272, 0.9924641098306877, 0.02464598764465898, 0.2865096063691607, 0.040049729922570845, 0.3188574651527756, 0.0446708526059444, 0.07701871138955932, 0.2017890238406454, 0.006161496911164745, 0.9979985299202606, 0.9946782793385511, 0.10426073999676817, 0.8943254586389447, 0.9981174740399802, 0.8480275433999008, 0.14991515938731756, 0.9941411225392105, 0.993608872117293, 0.9934036609636427, 0.08289050595539112, 0.24531109194906292, 0.08289050595539112, 0.39316983230192276, 0.14897888232523, 0.026883407336883606, 0.020162555502662705, 0.08418487464284008, 0.784449968262828, 0.1301038971752983, 0.47726288687146073, 0.22856867172458512, 0.2932579184390903, 0.9795251290923596, 0.018223723331950877, 0.0015186436109959063, 0.9950178295782973, 0.8539150383377779, 0.04502461111235556, 0.058997766285155566, 0.04036689272142223, 0.9991156794502893, 0.9915950095612419, 0.019378119976018546, 0.04360076994604173, 0.9349942888428949, 0.9763553089674097, 0.9980592722706784, 0.9915434642352133, 0.34024618029654136, 0.3058083077968914, 0.28101303959714347, 0.07163077479927187, 0.9871534829616186, 0.987841227675471, 0.15107283617956277, 0.840972121399566, 0.9918073311146948, 0.9720266897685069, 0.9948933025513665, 0.989560967569726, 0.045143218366715046, 0.9542774771408375, 0.9941327317094674, 0.9748979167079674, 0.01431418021385584, 0.010224414438468457, 0.9955537070097907, 0.22931536814883702, 0.1518152668763134, 0.6178775197343664, 0.9821530327062817, 0.003692304634234142, 0.011076913902702426, 0.986227139337663, 0.9954436627579213, 0.9918802698039512, 0.09125899656459942, 0.850602722696455, 0.05682163937041096, 0.6212465572331219, 0.20351180323153997, 0.1744386884841771, 0.9937336411937145, 0.30461917088524504, 0.6942483429477677, 0.98925535725256, 0.9031605001236653, 0.07464136364658391, 0.022392409093975173, 0.994414269508582, 0.9900960169069827, 0.9887595600539618, 0.9967571295975567, 0.9855074040512747, 0.7276938733520467, 0.2701617972923766, 0.9882533814335589, 0.9854556904873256, 0.9880380153915312, 0.9970388940976104, 0.4154965900077959, 0.5808884365157535, 0.9836243878546228, 0.9959374343721742, 0.9985416324558027, 0.9977034102504688, 0.9896210256714021, 0.99741546464638, 0.9964526840128515, 0.5940858709506475, 0.3375487903128679, 0.06558090783221433, 0.9917491170252165, 0.9974510380193382, 0.24150247795515414, 0.6483024756243929, 0.10646280930737653, 0.002801652876509909, 0.12775875102998493, 0.8695837570105426, 0.9940131682316511, 0.9973387537763408, 0.992948499278255, 0.9947810163303228, 0.23887229440340718, 0.7573999578644618, 0.9896542229159776, 0.004419904219562901, 0.28861974553745745, 0.7063006942861516, 0.876160426374447, 0.12295390598809808, 0.9971818670405822, 0.9970173526921954, 0.9927162791296661, 0.36938658162254606, 0.6298514789204952, 0.8760597938909347, 0.09733997709899275, 0.02367729172678202, 0.14589794575014828, 0.8475975895960994, 0.9945705917446525, 0.9934425769808692, 0.7865595868092398, 0.1371704356687195, 0.0017363346287179685, 0.0017363346287179685, 0.07118971977743671, 0.36780892179108604, 0.6297334570059504, 0.9908882868274163, 0.998798713303986, 0.9921962575322882, 0.992729076006717, 0.9977834833363677, 0.6714831262588965, 0.3269273454816584, 0.8750604870416718, 0.03555128136947633, 0.0018711200720777017, 0.00436594683484797, 0.06798402928548983, 0.014345253885929046, 0.9967308772478838, 0.998845428288047, 0.37774857504818293, 0.6181340318970266, 0.9918249457925737, 0.991247706569774, 0.9760183931104831, 0.9949562861363755, 0.7777724031037028, 0.10566839718487274, 0.11461211732277732, 0.0006624977879929325, 0.0009937466819893988, 0.10795928007963904, 0.1061894558160384, 0.7026202326494541, 0.08141191612562944, 0.9995918156658357, 0.043596753730062325, 0.7204937195389247, 0.036713055772684064, 0.19733267477817684, 0.09978031648284869, 0.0894582147777264, 0.047022907767779266, 0.3119568515325844, 0.4518786746464642, 0.9914547480436051, 0.9962956615617196, 0.9904051153001654, 0.13657680066131753, 0.7077891846036515, 0.15505483839784873, 0.9971984935071855, 0.9919851712391096, 0.9182480347879136, 0.07685776502630114, 0.27730296362750506, 0.2818489138509068, 0.4394418549288332, 0.9940091197151428, 0.20881462969936504, 0.03254253969340754, 0.6752576986382064, 0.08271228838741083, 0.9860517472025263, 0.9955198179912397, 0.24241491458899955, 0.27369425840693495, 0.39219484940949806, 0.016842723594272923, 0.07398767864627033, 0.997634621848173, 0.9960707665833937, 0.9993487543666468, 0.9977124166890479, 0.9958065501288829, 0.812061988299099, 0.18513330303191897, 0.007684765836979821, 0.5309474578276967, 0.16068146750048717, 0.17185930871791238, 0.011876456293514269, 0.07754627344588728, 0.018862607054405015, 0.01956122213049409, 0.9970962315558848, 0.9930449243021984, 0.9223648911998363, 0.07619536057737779, 0.29880240749909404, 0.0005790744331377791, 0.6995219152304372, 0.0005790744331377791, 0.3479946345683526, 0.06873968090239065, 0.5799910576139211, 0.9972696459697633, 0.5183039773032501, 0.11045822467118444, 0.36819408223728145, 0.370631354794175, 0.3593690760573354, 0.055287550162666996, 0.1327583766251695, 0.06006548659647772, 0.010579716389152326, 0.005119217607654351, 0.005801779955341598, 0.8068675409384516, 0.024107405025775377, 0.0062094831126997185, 0.0040179008376292295, 0.022281086463216637, 0.013149493650422932, 0.028490569575916353, 0.09460330154054276, 0.9961143793094914, 0.059054800286124615, 0.41159406260026243, 0.2988530802358427, 0.1276538107195017, 0.013719802086675415, 0.06859901043337707, 0.011333749549862299, 0.008947697013049184, 0.5658216755729312, 0.4311022290079476, 0.0470990929653398, 0.3938007495157578, 0.030091087172300426, 0.5272481795842205, 0.12389418587565534, 0.07470090618973337, 0.7652287951143418, 0.03461749311231546, 0.9984255067725154, 0.9924965478962335, 0.2222480169139662, 0.6117214834476642, 0.07660004466452233, 0.053943693425719946, 0.03344508992394637, 0.994612685068795, 0.9940816501084442, 0.08729580273185653, 0.906533336061587, 0.991237792274301, 0.9957139288439593, 0.993653091929344, 0.9643642641465944, 0.9995502039188052, 0.9959052186029299, 0.9838796482505029, 0.991603873973749, 0.9955423439180431, 0.9946487672572293, 0.9918732631385865, 0.9831117599752853, 0.08932234754406837, 0.03987604801074481, 0.05582646721504274, 0.009570251522578755, 0.7337192833977045, 0.05582646721504274, 0.014355377283868131, 0.9924365969410573, 0.7676080513534141, 0.2102617311948002, 0.015145972162337304, 0.0008909395389610178, 0.005982022618738263, 0.994738617438524, 0.9966444355051713, 0.9938897148787799, 0.7226980167180996, 0.0644568501397224, 0.13054139851529636, 0.0817104514397491, 0.00032553964717031513, 0.9873576007045305, 0.99287461542254, 0.007094433466769631, 0.9985400300071028, 0.995013298537457, 0.790518233458973, 0.057411938742830446, 0.11187967549884907, 0.016824011353210388, 0.02124031433342811, 0.0021030014191512985, 0.9972556805177784, 0.382898786220772, 0.04938560559296389, 0.1404603587644038, 0.42651204830287, 0.9890285993857689, 0.9986285110730965, 0.9941887565646982, 0.9980626321037729, 0.11529373602659877, 0.0676724102764819, 0.8145753088835783, 0.15362867660183505, 0.6114421328753035, 0.07681433830091752, 0.02611687502231196, 0.068620808882153, 0.06298775740675237, 0.9955102969048992, 0.002808209582242311, 0.9990409698132481, 0.9948825308795742, 0.998294740117786, 0.9847682404561382, 0.9267424753002722, 0.009495312246929018, 0.01994015571855094, 0.03893078021240898, 0.004747656123464509, 0.9900561371322, 0.9513602841960868, 0.013725015489541116, 0.03395135410570697, 0.9891871325447047, 0.9984256760736556, 0.9959799866528297, 0.9857360082382042, 0.9974688603334046, 0.9963949452979668, 0.7429669985000376, 0.0013000297436571086, 0.0006500148718285543, 0.2548058297567933, 0.9923898437121381, 0.21491170381789806, 0.6511503861945269, 0.11959905052552536, 0.013747017301784525, 0.9941823556751368, 0.9908679093137526, 0.31189478135510523, 0.1454149961002016, 0.05775829284353801, 0.015628714534133815, 0.1420174494623464, 0.15017156139319882, 0.04009105032669109, 0.1094010017389367, 0.02785988243041245, 0.990144237362985, 0.9984117796453569, 0.9977284653545352, 0.9975482079633682, 0.9964969387503954, 0.11839416434887279, 0.8813534811432434, 0.2061306881085514, 0.7874192285746663, 0.8668767929824422, 0.013365941742020035, 0.06301086821238017, 0.055373187216940144, 0.9906698342560284, 0.9947599413432043, 0.9971888064025478, 0.9867378581471873, 0.9401808529798797, 0.05530475605763998, 0.9986696208514982, 0.9945034035922841, 0.9871531398103625, 0.9917559078307431, 0.9904691417922299, 0.994017133344273, 0.9845916221545409, 0.4963106003338051, 0.03155732140850784, 0.30295028552167524, 0.14057352263789855, 0.0286884740077344, 0.09828299465394594, 0.03931319786157837, 0.8624332780883756, 0.9953316445230111, 0.983741588687713, 0.012558403259843144, 0.9904690434425888, 0.9990215116433397, 0.641581772258125, 0.21102263030670082, 0.11432926368201658, 0.032231122208228075, 0.9939307528157392, 0.9938840771978871, 0.9973225013381365, 0.9978083866811183, 0.9976245083023212, 0.12387124270803988, 0.8708523729777349, 0.7376622224478632, 0.06124993182780091, 0.0013315202571261067, 0.19839651831178992, 0.9979241004104621, 0.40287411034548376, 0.5924619269786525, 0.9981856294422328, 0.9957885583258312, 0.9958579976107932, 0.9878430499776043, 0.9975135179713418, 0.7458447622451568, 0.08693472714420884, 0.15317070973027272, 0.006209623367443489, 0.007589539671319819, 0.9978267694694529, 0.964478545040602, 0.9927288410482411, 0.9958150561982887, 0.9941485054244499, 0.9996986961279826, 0.9931764355131041, 0.9930147215500673, 0.058044224729767654, 0.13037625862378582, 0.8099401819984502, 0.3382615182912845, 0.6600224747147013, 0.9880624552267646, 0.6762077342061521, 0.11543456729443378, 0.0866157304940303, 0.07658486464637607, 0.04505928626803415, 0.9958788869559656, 0.38973305736967584, 0.6053300678294966, 0.9856990796121039, 0.9300668566918971, 0.004288845847722846, 0.004288845847722846, 0.06065653413208025, 0.9955572685475403, 0.9985289948427493, 0.455585204284476, 0.008283367350626836, 0.5354067442086983, 0.9738227904326343, 0.45150359519701333, 0.11941530855336624, 0.13533734969381508, 0.2934204724454142, 0.9928213809911862, 0.9967954016220407, 0.9938688556306724, 0.9937867217065356, 0.9900819105523788, 0.4330411651499379, 0.05936854683507213, 0.031430407147979365, 0.2627931264317164, 0.02706507282187112, 0.014842136708768033, 0.17024803871822156, 0.23074772945673247, 0.05993447518356687, 0.7072268071660891, 0.9902426847799253, 0.9940098202240365, 0.58370857855999, 0.4131270761497646, 0.3293536951631407, 0.6236123244482419, 0.008098861356470675, 0.03599493936209189, 0.0017997469681045942, 0.3218381203549878, 0.0016504518992563478, 0.47202924318731543, 0.18980196841448, 0.013203615194050783, 0.05097775294560536, 0.24980738099389893, 0.002212860658410522, 0.00016391560432670534, 0.6916418924565332, 0.000245873406490058, 0.0008195780216335266, 0.000491746812980116, 0.003442227690860812, 0.6162966493461536, 0.190837166218447, 0.003304539674778303, 0.08591803154423588, 0.1024407299181274, 0.9024010180733448, 0.06436043297069652, 0.01016217362695208, 0.023034260221091382, 0.5299860774621855, 0.009937238952415979, 0.24097804459608746, 0.18466702386573025, 0.0066248259682773186, 0.02732740711914394, 0.29591608924109736, 0.7008538955710201, 0.14960925978949552, 0.8306430777895949, 0.01870115747368694, 0.9885566396780341, 0.0952747172895494, 0.9014454020472751, 0.9969738806168875, 0.8486932045938784, 0.040921138662716725, 0.09417467527858096, 0.0005605635433248866, 0.01513521566977194, 0.5741001040211058, 0.32386804960100973, 0.024110901076936336, 0.07754587103122768, 0.9990257123602472, 0.9034529734844287, 0.06789341541810066, 0.01613308881222194, 0.012099816609166454, 0.1669103117942081, 0.05521844901462523, 0.12424151028290677, 0.3564099890943992, 0.048943625262963274, 0.19075464205052353, 0.056473413764957625, 0.9933287535095772, 0.996833374256385, 0.9950243413482605, 0.0036548185173489824, 0.9993127056392698, 0.5632201758004844, 0.044068128938432316, 0.32272942010673483, 0.05995886688277408, 0.008354924073829175, 0.0013105763253065373, 0.00016382204066331716, 0.8385088979900169, 0.1590275496187963, 0.1386915019741429, 0.472284277647632, 0.023217079625627444, 0.2614976336781196, 0.09592319740061865, 0.008553660914704848, 0.9936649946196503, 0.4216294129825504, 0.07148613915588921, 0.1454014189627067, 0.2564478487194278, 0.007287421952784822, 0.08224376203857156, 0.014921863998559397, 0.9952123966807327, 0.9960570058083482, 0.9922675906570059, 0.9928949227360363, 0.9553760013155088, 0.04437538803924494, 0.99596772570408, 0.9972766034684483, 0.9900509421149692, 0.9992309886510715, 0.399649258326155, 0.5994738874892325, 0.9848347012300791, 0.41552894953475156, 0.013177450830911782, 0.10146637139802073, 0.3408567281595848, 0.11859705747820604, 0.010102712303699033, 0.9881029917482412, 0.997071811471911, 0.9935835307586284, 0.9904789218411354, 0.21114402467300894, 0.08107930547443544, 0.13851048018549386, 0.4915432894387648, 0.006756608789536286, 0.06925524009274693, 0.9993297992414117, 0.990819429751092, 0.7740484828208407, 0.18091665722735625, 0.044274962528213765, 0.9898146705938008, 0.9891925389868368, 0.9928063628224046, 0.9938778358285121, 0.9973110749681056, 0.0072045003565089786, 0.5571480275700277, 0.18491550915039712, 0.2473545122401416, 0.9927152327508831, 0.9927860271425646, 0.0325207971726812, 0.9146474204816587, 0.04471609611243665, 0.9910746179883284, 0.0067650144572582145, 0.995692131029574, 0.9977014237969855, 0.19203523836497724, 0.8058914704034514, 0.9985456423650672, 0.997529062126354, 0.9954768946633147, 0.9957223166810468, 0.993124384871704, 0.29354975680653195, 0.7014695487324919, 0.9962023325336142, 0.9956031012865, 0.9857099680945486, 0.9847459669742233, 0.8498937200409848, 0.06404052296605121, 0.02098503012446876, 0.019175975803393867, 0.045588168891087306, 0.10191598881261046, 0.8370121634397371, 0.05854748293490388, 0.9911400366111183, 0.9892978348011945, 0.08982996661892623, 0.8077452643556673, 0.004346611288012559, 0.09852318919495136, 0.9980330325219476, 0.9976979475372301, 0.12500202947908834, 0.592677058938957, 0.25260225356628707, 0.0037529477672705504, 0.006351142375380932, 0.01963080370572288, 0.9941641803432272, 0.9942222006494578, 0.055866667193330576, 0.26290196326273213, 0.5827660185657229, 0.04162614418326592, 0.055866667193330576, 0.9975387487690838, 0.9955601257875185, 0.03394609254129291, 0.37035186962550565, 0.3764621662829384, 0.008147062209910298, 0.0885993015327745, 0.00373407017954222, 0.11337994908791832, 0.004752452955781007, 0.05869301295483828, 0.02078710875483856, 0.8547170011548324, 0.030569277580644937, 0.033014819787096535, 0.990925397731769, 0.5826450742421484, 0.10385516429089654, 0.033444883415712445, 0.04400642554699006, 0.23499431242092694, 0.9698883377977193, 0.9963639817265953, 0.0797349341167179, 0.9200965043748491, 0.9977860913491485, 0.9940376859517421, 0.9969697313679656, 0.19056016840130807, 0.30578259580675016, 0.011079079558215585, 0.09217794192435366, 0.3279407549231813, 0.012851732287530079, 0.019056016840130807, 0.01816969047547356, 0.02215815911643117, 0.9926656875516966, 0.9887023381448277, 0.9957740076595128, 0.9932255929830985, 0.4894751148960586, 0.02779353964709481, 0.48021060168036034, 0.9932455131426537, 0.9965069388446433, 0.14402646037021566, 0.08766828022534866, 0.2701614349801561, 0.4857538383914727, 0.011629465744178905, 0.993570063450246, 0.9877941751766571, 0.9957968474367983, 0.9965997106772891, 0.2125103748256548, 0.7297279332474793, 0.04511758727067748, 0.011769805374959343, 0.991678883377575, 0.004114743876281638, 0.11078156589989026, 0.006805153333850402, 0.8735917768105632, 0.0007912968992849304, 0.003798225116567666, 0.9931532826898523, 0.9968601509589187, 0.9945928706798773, 0.9961858669365478, 0.9942754218507805, 0.9972711726690527, 0.9956108203001721, 0.9973613396915475, 0.14817582757756267, 0.04609914635746395, 0.8034422650872288, 0.9925465981174423, 0.9916334466775117, 0.9917568188473395, 0.18119160496140574, 0.03429494100215882, 0.1588998933100025, 0.2377782576149678, 0.009145317600575683, 0.1646157168103623, 0.1554703992097866, 0.021148546951331268, 0.03715285275233871, 0.9919361900770042, 0.7041245626756993, 0.2949711005803606, 0.9924020049253041, 0.9866021552634429, 0.9983382394705059, 0.9929181980064719, 0.7898904382624033, 0.06981881182530479, 0.13963762365060958, 0.9982150273892254, 0.9920604133103303, 0.9882488985906073, 0.9953035228194557, 0.9949369695619258, 0.1912039888391196, 0.4173611050497344, 0.2460561738726046, 0.012112469881211197, 0.12077862824407737, 0.012458540449245803, 0.9936413818842381, 0.9960849938630513, 0.1683567989960776, 0.27442158236360653, 0.34260608595701797, 0.21381313472501856, 0.5897359069159238, 0.40946728908136193, 0.9991060313655966, 0.6827058178607501, 0.31540210298829974, 0.9965050981949252, 0.991822736860424, 0.9951714236291728, 0.9971387004631246, 0.9971065933565524, 0.9955213704447105, 0.011502375424497533, 0.9882457552214131, 0.9982539198757536, 0.9960657443287241, 0.9875135886114825, 0.9949568948568288, 0.9944655283042211, 0.5858979255180026, 0.0032610274147569715, 0.09167110399261265, 0.1413111879728021, 0.00869607310601859, 0.10942558658406727, 0.022102519144463918, 0.03732064707999645, 0.9977265926510677, 0.3231500524409455, 0.5810771585176635, 0.09486974016614914, 0.2933656562678631, 0.7054745543584326, 0.9920303043957516, 0.9926209061455847, 0.307233379001261, 0.6912751027528372, 0.6959801154369263, 0.2902517970207809, 0.00936296119421874, 0.06615733684895925, 0.3080759566697804, 0.018761035822839188, 0.12145302137943265, 0.4853183740487085, 0.8630875372269942, 0.04619933289292912, 0.0797988477241503, 0.01049984838475662, 0.3492538380882334, 0.02077060270568789, 0.090775226639673, 0.08154384765936727, 0.4577225411068257, 0.9959164647268275, 0.9942906054417818, 0.9916555455937278, 0.995105359092356, 0.07921556018925881, 0.10562074691901174, 0.7723517118452734, 0.016503241706095587, 0.02310453838853382, 0.025518351388979732, 0.5898665071068007, 0.38375674588811826, 0.9913683532841961, 0.9977309258111221, 0.9933665331694512, 0.9967281858214746, 0.9940151621667248, 0.9937586178109665, 0.3752982416949374, 0.5749803217648608, 0.025691994015511314, 0.0003252151141203964, 0.011057313880093476, 0.012032959222454667, 0.9947608109661206, 0.9957544260405531, 0.07367044628023665, 0.9249733810740824, 0.9949009374003779, 0.9904598383322764, 0.8892840362028125, 0.05292762933043128, 0.008488393383182377, 0.048933091267757224, 0.9863544840742888, 0.1599198309688042, 0.751481683579071, 0.08632840432829253, 0.027902779083175958, 0.005723646991420709, 0.006439102865348298, 0.7233258885407922, 0.17814851260796957, 0.055805558166351917, 0.0028618234957103546, 0.4062802597036759, 0.2741365792748035, 0.3192788303529897, 0.015538727027274647, 0.9789398027183027, 0.9981694605134728, 0.5101167071086266, 0.4864689127393525, 0.04181286101788952, 0.12543858305366856, 0.8138574733839211, 0.016426481114170884, 0.9880400774896461, 0.9729172053988868, 0.13339132041355006, 0.31137680659585293, 0.1627295873666769, 0.28047383207189264, 0.07197654825833785, 0.039508866163544154, 0.9938821786572122, 0.9843614440420717, 0.9890164836702293, 0.9954990896484439, 0.995912769507363, 0.9980670270621141, 0.9923629308615393, 0.20714024422718838, 0.16600601133100912, 0.32907386316943404, 0.29528502900471537, 0.9940938280529525, 0.9716065784517679, 0.9938965385247716, 0.050827621046806166, 0.2811078633404994, 0.048234375075030346, 0.2603618955662928, 0.34023387149698825, 0.0077797379153274745, 0.01141028227581363, 0.9918029415597482, 0.7866435829771143, 0.21203331077550253, 0.9981414253647662, 0.9029111074719007, 0.04847253383206885, 0.010575825563360477, 0.029964839096188016, 0.007491209774047004, 0.043026000679226656, 0.3149670340984165, 0.6412127285690574, 0.9909633376156359, 0.989189822417159, 0.9980602953792227, 0.983879010781965, 0.990975847330146, 0.028492876721960683, 0.0059985003625180385, 0.9627593081841452, 0.0029992501812590193, 0.9938758063803147, 0.9877460735997134, 0.9963841983703178, 0.9954478180581424, 0.9904341411192552, 0.9955517358197596, 0.29263585819502785, 0.12609512588891444, 0.3402189245682031, 0.2379153318658763, 0.9979916773474761, 0.9885461580043317, 0.00904847741880395, 0.9766201787387557, 0.00829401425680472, 0.01451452494940826, 0.1601371994668689, 0.48041159840060677, 0.08335909013343862, 0.27420753333367964, 0.16318312158546552, 0.0023718476974631617, 0.8035819999005193, 0.0028462172369557942, 0.02798780283006531, 0.3261400693869602, 0.0511789031961076, 0.43853295483723576, 0.0672350296890041, 0.11540340916769361, 0.7832524795358293, 0.21606964952712532, 0.014363721798121242, 0.13841404641825925, 0.7207976756875387, 0.013057928907382948, 0.011752136016644653, 0.07181860899060621, 0.027421650705504192, 0.988235512665989, 0.9916428621097289, 0.9969085116906714, 0.9964754733580904, 0.9966404950894604, 0.9773289228877288, 0.019633839968726693, 0.9918869120543771, 0.9941507376119008, 0.17089504188946383, 0.04649350404345707, 0.01884871785545557, 0.5717444416154855, 0.0062829059518185225, 0.03015794856872891, 0.09801333284836895, 0.05780273475673041, 0.3205274753611807, 0.45387669220991617, 0.06728630207963716, 0.15659357574897376, 0.9958143601806071, 0.37693544661264883, 0.4035097452606649, 0.020280385810328046, 0.06888337939025216, 0.13007419864555228, 0.9948748399626193, 0.9980808864009693, 0.4031648082709102, 0.5416881013691204, 0.024810142047440628, 0.02894516572201407, 0.9959602936038979, 0.27645228097314645, 0.7222627160559681, 0.9943750986296213, 0.9950688381669015, 0.98973224514417, 0.9953856347177525, 0.9912541957065716, 0.9960972737005169, 0.37399215980019357, 0.6258558064000979, 0.9968349609386044, 0.9984822674191847, 0.9857395648117254, 0.9920660822997082, 0.995134894997181, 0.9943703364880414, 0.6519526744813283, 0.04675418897644137, 0.25216603562703627, 0.0016862166516093608, 0.04721406624506211, 0.44310957366130016, 0.5538869670766252, 0.9959798740674543, 0.9990521439726217, 0.9970558003485934, 0.9976348836028675, 0.9979202841476049, 0.9949394714334444, 0.9976785742830363, 0.9720266897685069, 0.9972028711080262, 0.9939602440600617, 0.8255343759991182, 0.1724007532206994, 0.10057767762917615, 0.2048127253539587, 0.3255059385089701, 0.09874899258137294, 0.2688167020270708, 0.9966952496287669, 0.997231952029256, 0.11128312125878193, 0.7885752213337823, 0.09785239972754962, 0.85965375159375, 0.05253899251800108, 0.011997092779701034, 0.07549894594122203, 0.7286131275791089, 0.07894779045802694, 0.022934553652611177, 0.1508387951767889, 0.018524062565570567, 0.9949604197159369, 0.009220479062107899, 0.9865912596455452, 0.08237551089831094, 0.17437932826525562, 0.043862285023775954, 0.24177747354569185, 0.45680965134517887, 0.996545780086158, 0.7776219080863134, 0.07618805739145257, 0.06737291025525144, 0.06926187035586596, 0.002518613467486035, 0.0069261870355865965, 0.05447393542177098, 0.9350003841050243, 0.009756525747182863, 0.38112470583666286, 0.6097995293386606, 0.9965376315164979, 0.30183031920612524, 0.18044203865583575, 0.5150800012539312, 0.9969943379635415, 0.9982966415514294, 0.997345903111057, 0.19953441592884294, 0.7443158804714076, 0.05513450966454871, 0.9960632759784886, 0.9945382123550269, 0.9948755545235346, 0.9707372446323076, 0.02145275678745431, 0.9939715611142784, 0.9936951887490397, 0.9898166415285352, 0.9932691733317048, 0.9962529651698805, 0.992883350115881, 0.9957027179926994, 0.9981473616286972, 0.9955374556697041, 0.9942612064334349, 0.9899080213761882, 0.9974985569868081, 0.9958914941887831, 0.9919030630504191, 0.9851242228264159, 0.013223143930555917, 0.9866378762164686, 0.9918812866525507, 0.9935484888199292, 0.999399571186541, 0.9891370393642936, 0.9984067943469453, 0.9946104460902374, 0.9914358827076134, 0.14940808568555278, 0.850010865859699, 0.9925206184536245, 0.25211531995450565, 0.6299028024551411, 0.03469476880107876, 0.08326744512258903, 0.9970263263609236, 0.027324307991861394, 0.937866689014772, 0.0337535569311229, 0.9864815968561614, 0.989089755785879, 0.9880115197610992, 0.5202175009294894, 0.39153211912061575, 0.08761557910391402, 0.9885577381539697, 0.9955121819173459, 0.9939613432462766, 0.4986340394554694, 0.0029159885348273066, 0.3965744407365137, 0.10060160445154208, 0.9958633695145701, 0.9925040325511865, 0.9915983451119088, 0.9938106682376655, 0.9868361397760699, 0.2576222671126423, 0.2298107723675275, 0.477186699310917, 0.03513030915172395, 0.9956882286666972, 0.9960450709564806, 0.9497096558697279, 0.04911232868104605, 0.9931405101138644, 0.021545842079047372, 0.3141684414782024, 0.07265458375492719, 0.08969083098022046, 0.4324200398655321, 0.06864605499603466, 0.9960868822512556, 0.965558513719932, 0.014455961227608687, 0.013458998384325328, 0.0009969628432833577, 0.004984814216416789, 0.9786939161493967, 0.019994821942837138, 0.9923002203873285, 0.9973720847281939, 0.9869739499233573, 0.101759970932908, 0.6706148904103117, 0.2268746892930408, 0.9821715990253911, 0.9881623320340394, 0.22642162443356695, 0.1976043267783857, 0.572229196295742, 0.9890464053142162, 0.994461926476421, 0.993990132443776, 0.9972487275227511, 0.9890875470903029, 0.9913058594941213, 0.5923733605865382, 0.0005437112075140323, 0.1095578083140775, 0.001631133622542097, 0.2957788968876336, 0.8940466175837372, 0.08570319487028819, 0.01509059577450257, 0.0051251079988876656, 0.9943840675643446, 0.9983687056221776, 0.9973472364680862, 0.10098543991932415, 0.8954042339513409, 0.9959694507148602, 0.9965473272310137, 0.011441166904372494, 0.9883896964610683, 0.9926961352813786, 0.18698507438630121, 0.6110964721563475, 0.16713749665814634, 0.03447210868574268, 0.797273168776797, 0.005247874022328284, 0.13967418551735278, 0.05732293162850895, 0.9950113785963773, 0.9891453973579116, 0.9927431487734043, 0.9980071540328852, 0.9926295707804104, 0.9950884501973319, 0.9964860949392749, 0.9957312348809977, 0.9991705327995197, 0.9466892840733282, 0.052616509110495195, 0.0030501978125354037, 0.9943644868865416, 0.7449773482131798, 0.011773644381085418, 0.10596279942976877, 0.13716295703964512, 0.8396909630287004, 0.03211835678533279, 0.11889115495123188, 0.00904992373509377, 0.9964185807586191, 0.9932261583502112, 0.9918872355008652, 0.8943112371766981, 0.06843898304628605, 0.014441253303344764, 0.01088326335904243, 0.01088326335904243, 0.0010464676306771567, 0.2237524500811191, 0.7729630093711387, 0.9887908298691179, 0.9944730288877759, 0.9975841332337775, 0.9957963249697629, 0.9970302017188314, 0.99337829900318, 0.9898619847308079, 0.01397186174763135, 0.1606764100977605, 0.10129599767032729, 0.7230438454399224, 0.8865110642994932, 0.1086910117148804, 0.9953658514681599, 0.990218294040038, 0.9961587022286856, 0.23560307035015995, 0.08330251415952085, 0.08246107462255599, 0.5805932805057513, 0.01682879073929714, 0.9980411767779426, 0.9979434370978033, 0.6000052184696097, 0.29696258279455884, 0.016320141942373384, 0.08512074032688864, 0.0012800111327351674, 0.9956936379835349, 0.9974765039864198, 0.9969277027181599, 0.9951667668517654, 0.2521174041823436, 0.7468978098901928, 0.753981828313023, 0.2414227529081108, 0.9980607005644733, 0.07092817041966444, 0.008866021302458055, 0.01773204260491611, 0.008866021302458055, 0.03546408520983222, 0.008866021302458055, 0.8334060024310571, 0.7915295548511528, 0.2056286743919365, 0.9977031188831127, 0.9965165845439168, 0.17896480184333394, 0.7666104198363707, 0.005342232890845789, 0.025820792305754646, 0.022259303711857453, 0.9907712492464106, 0.9832535966579377, 0.9897908895838887, 0.9910065307741239, 0.05530171533482425, 0.5735577904726058, 0.007900245047832035, 0.04085555296164567, 0.05733320691855249, 0.02460362029181977, 0.21443522272686955, 0.0011286064354045766, 0.006997359899508375, 0.017606260392311394, 0.9811503843626866, 0.014083498340134257, 0.9894388156166616, 0.9806135741492188, 0.017858856482850013, 0.9587493870595667, 0.03774603886061286, 0.9921111655179836, 0.9987765509396795, 0.22702119524426193, 0.7708741684667795, 0.9937708646890382, 0.9989419734243268, 0.9986170588088512, 0.985318341353929, 0.007851142162182701, 0.9975108620362176, 0.9887196445428091, 0.3715808556662283, 0.2230057677688689, 0.4050746616084076, 0.9979263094443074, 0.9946031153953372, 0.997274235642886, 0.996502623506905, 0.9930232938320722, 0.7397140921425316, 0.0722116299958665, 0.04672517235026656, 0.12075726360653306, 0.02032848407446662, 0.7692022175220117, 0.2297281790585874, 0.99717775681404, 0.9955191600358488, 0.13629951882302926, 0.8575511392615591, 0.9504325703698299, 0.023884744537506393, 0.016674255620523333, 0.006759833359671621, 0.0020279500079014865, 0.9987135079376505, 0.9875804055168804, 0.994484963342052, 0.999135202423395, 0.9929991641880203, 0.9974757812815078, 0.9974809434686525, 0.9899240983894994, 0.9955385509065086, 0.9987821569462515, 0.37542116468980913, 0.08599956195537478, 0.5374972622210924, 0.020776153587179734, 0.08829865274551386, 0.1402390367134632, 0.7500191444971883, 0.35152753923685665, 0.5058229209192279, 0.09556895274760878, 0.01689769889160619, 0.02548505406602901, 0.002216091657915566, 0.0019390802006761202, 0.9944029301489176, 0.9971470103053302, 0.996094686820234, 0.02131944936555216, 0.02214738914673865, 0.0019663569803179174, 0.0379817374619303, 0.9121826539222171, 0.0042431913785807695, 0.9737265356218454, 0.9942168242172825, 0.814652021324612, 0.001650206660346952, 0.014851859943122568, 0.07013378306474546, 0.00632579219799665, 0.09213653853603815], \"Term\": [\"_\", \"accept\", \"accept\", \"activate\", \"ad\", \"address\", \"address\", \"address\", \"address\", \"administrator\", \"adult\", \"advance\", \"advertising\", \"aged\", \"ai\", \"aid\", \"air\", \"alpha\", \"also\", \"also\", \"also\", \"also\", \"also\", \"also\", \"also\", \"also\", \"amp\", \"analysis\", \"announcement\", \"annual\", \"application\", \"appreciate\", \"apr\", \"arab\", \"archive\", \"archive\", \"area\", \"area\", \"area\", \"area\", \"area\", \"area\", \"area\", \"area\", \"argic\", \"argument\", \"argument\", \"armenian\", \"around\", \"article\", \"article\", \"article\", \"article\", \"ask\", \"ask\", \"ask\", \"ask\", \"ask\", \"assembly\", \"associate\", \"assumption\", \"astronomy\", \"atheism\", \"atheist\", \"attack\", \"attack\", \"attack\", \"attack\", \"au\", \"aunt\", \"author\", \"authority\", \"authority\", \"auto\", \"available\", \"available\", \"available\", \"average\", \"award\", \"aware\", \"ax\", \"baby\", \"back\", \"back\", \"back\", \"bad\", \"bad\", \"ball\", \"ban\", \"band\", \"base\", \"base\", \"base\", \"base\", \"base\", \"baseball\", \"bat\", \"battery\", \"bd\", \"bear_arm\", \"beat\", \"beautiful\", \"belief\", \"believe\", \"believe\", \"believe\", \"believe\", \"bend\", \"benefit\", \"bf\", \"bible\", \"bike\", \"bill\", \"bio\", \"birth\", \"bit\", \"bit\", \"bit\", \"bitnet\", \"black\", \"black\", \"blade\", \"blank\", \"blind\", \"block\", \"block\", \"blue\", \"board\", \"bomb\", \"bony\", \"book\", \"book\", \"border\", \"brain\", \"brave\", \"bubblejet\", \"build\", \"build\", \"build\", \"build\", \"build\", \"build\", \"bunch\", \"bus\", \"bus\", \"business\", \"business\", \"business\", \"busmastere\", \"busmastering\", \"bust\", \"buy\", \"buy\", \"buy\", \"bxn\", \"c\", \"cable\", \"camp\", \"canadian\", \"cap\", \"car\", \"card\", \"case\", \"case\", \"case\", \"case\", \"case\", \"case\", \"case\", \"case\", \"case\", \"catch\", \"cco_caltech\", \"ch\", \"ch\", \"chance\", \"channel\", \"character\", \"child\", \"child\", \"child\", \"chip\", \"choose\", \"choose\", \"choose\", \"choose\", \"christian\", \"christianity\", \"chronic\", \"church\", \"circle\", \"citizen\", \"city\", \"city\", \"city\", \"city\", \"civilian\", \"civilian\", \"cj\", \"claim\", \"claim\", \"claim\", \"claim\", \"clean\", \"clean\", \"clean\", \"clearly\", \"clipper\", \"clock\", \"clone\", \"club\", \"cm\", \"cmu\", \"coach\", \"cold\", \"cold\", \"color\", \"com\", \"com\", \"combine\", \"come\", \"come\", \"come\", \"come\", \"come\", \"comet\", \"commercial\", \"community\", \"computer\", \"computer\", \"computer_science\", \"computer_science\", \"concept\", \"concern\", \"concern\", \"concern\", \"conclusion\", \"condition\", \"condition\", \"condition\", \"condition\", \"conference\", \"connection\", \"constitution\", \"consultation\", \"consulting\", \"control\", \"control\", \"control\", \"control\", \"control\", \"control\", \"control\", \"control\", \"controller\", \"convert\", \"cool\", \"cool\", \"cop\", \"copy\", \"copy\", \"corner\", \"corporation\", \"correspond\", \"cost\", \"cost\", \"cost\", \"cost\", \"cost\", \"cost\", \"cost\", \"count\", \"count\", \"count\", \"country\", \"country\", \"country\", \"couple\", \"couple\", \"couple\", \"court\", \"cover\", \"cover\", \"cover\", \"cover\", \"cpu\", \"crack\", \"crime\", \"crime\", \"crime\", \"css\", \"cub\", \"curious\", \"current\", \"current\", \"current\", \"current\", \"cursor\", \"custom\", \"cwru\", \"cwru\", \"cx\", \"cx_s\", \"cycle\", \"cylinder\", \"datum\", \"datum\", \"daughter\", \"day\", \"day\", \"day\", \"dealer\", \"death\", \"death\", \"death\", \"decision\", \"decision\", \"decision\", \"decrease\", \"defense\", \"dept\", \"describe\", \"describe\", \"describe\", \"design\", \"design\", \"design\", \"deskjet\", \"destroy\", \"destroy\", \"detailed\", \"device\", \"device\", \"device\", \"devil\", \"dg\", \"diagnose\", \"diagnosis\", \"diamond\", \"die\", \"die\", \"differential\", \"digitize\", \"dippold\", \"direct\", \"directory\", \"directory\", \"dirty\", \"disease\", \"disk\", \"display\", \"distribute\", \"distribution\", \"distribution_na\", \"division\", \"division\", \"division\", \"dm\", \"dn\", \"do\", \"do\", \"do\", \"do\", \"doctor\", \"doctor\", \"doctrine\", \"door\", \"download\", \"drag\", \"dream\", \"dream\", \"drink\", \"drive\", \"drive\", \"drive\", \"driver\", \"driver\", \"drug\", \"drum\", \"dual\", \"earth\", \"earth\", \"eat\", \"eat\", \"eat\", \"ed\", \"ed\", \"edge\", \"edition\", \"effect\", \"effect\", \"effect\", \"effect\", \"effect\", \"ei\", \"ei\", \"electrical\", \"email\", \"employ\", \"employer\", \"encrypt\", \"encryption\", \"encryption\", \"end\", \"end\", \"end\", \"end\", \"end\", \"end\", \"engine\", \"entry\", \"equipment\", \"equipment\", \"equivalent\", \"escape\", \"et\", \"ethnic\", \"even\", \"even\", \"even\", \"even\", \"even\", \"event\", \"event\", \"event\", \"event\", \"evidence\", \"exactly\", \"exactly\", \"exactly\", \"exactly\", \"example\", \"example\", \"example\", \"example\", \"example\", \"exchange\", \"excuse\", \"exercise\", \"exist\", \"exist\", \"exist\", \"existence\", \"expansion\", \"expensive\", \"expensive\", \"experience\", \"experience\", \"experience\", \"expert\", \"explain\", \"explain\", \"explain\", \"explain\", \"explanatory\", \"external\", \"fact\", \"fact\", \"fact\", \"fact\", \"fact\", \"factory\", \"failure\", \"faith\", \"family\", \"fan\", \"faq\", \"faq\", \"far\", \"far\", \"far\", \"far\", \"far\", \"far\", \"far\", \"far\", \"fax\", \"fi\", \"field\", \"field\", \"file\", \"file\", \"file\", \"file\", \"fill\", \"fill\", \"fill\", \"film\", \"final\", \"final\", \"final\", \"find\", \"find\", \"find\", \"find\", \"find\", \"find\", \"find\", \"find\", \"first\", \"first\", \"first\", \"first\", \"first\", \"first\", \"first\", \"first\", \"flight\", \"follow\", \"follow\", \"follow\", \"follow\", \"follow\", \"follow\", \"follow\", \"follow\", \"food\", \"food\", \"force\", \"force\", \"force\", \"force\", \"form\", \"form\", \"form\", \"form\", \"format\", \"frame\", \"free\", \"free\", \"free\", \"free\", \"free\", \"freedom\", \"frequency\", \"front\", \"front\", \"ftp_site\", \"fuel\", \"funny\", \"gainey\", \"game\", \"gang\", \"garbage\", \"gas\", \"gatech\", \"gay\", \"gear\", \"gene\", \"general\", \"general\", \"general\", \"general\", \"general\", \"general\", \"general\", \"genocide\", \"get\", \"get\", \"get\", \"get\", \"get\", \"gif\", \"gift\", \"girl\", \"give\", \"give\", \"give\", \"give\", \"give\", \"glad\", \"go\", \"go\", \"goal\", \"gold\", \"good\", \"good\", \"good\", \"good\", \"good\", \"good\", \"gordon_bank\", \"government\", \"government\", \"government\", \"government\", \"grade\", \"graphic\", \"greece\", \"greek\", \"ground\", \"ground\", \"ground\", \"group\", \"group\", \"group\", \"group\", \"group\", \"group\", \"guess\", \"guess\", \"gun\", \"gun_control\", \"guy\", \"gy\", \"hand\", \"hand\", \"hand\", \"hand\", \"hand\", \"handgun\", \"happen\", \"happen\", \"happen\", \"hard_drive\", \"hardware\", \"hate\", \"hd\", \"headache\", \"health\", \"hear\", \"hear\", \"hear\", \"hear\", \"heat\", \"help\", \"help\", \"help\", \"help\", \"hi\", \"hicnet_medical\", \"high\", \"high\", \"high\", \"high\", \"high\", \"high\", \"high\", \"high\", \"high\", \"highly\", \"hit\", \"hockey\", \"hole\", \"hook\", \"host\", \"host\", \"hot\", \"hot\", \"human\", \"human\", \"human\", \"human\", \"husband\", \"ice\", \"icon\", \"ide\", \"ignorant\", \"ignorant\", \"image\", \"imaging\", \"imake\", \"immediate\", \"impair\", \"implementation\", \"incentive\", \"include\", \"include\", \"include\", \"include\", \"include\", \"indeed\", \"indeed\", \"indeed\", \"index\", \"industry\", \"industry\", \"influenza\", \"info\", \"information\", \"information\", \"information\", \"information\", \"informed\", \"inhabitant\", \"input\", \"insist\", \"instal\", \"install\", \"install\", \"interested\", \"interested\", \"interested\", \"interested\", \"internal\", \"international\", \"international\", \"internet\", \"interpretation\", \"invasion\", \"ip\", \"israeli\", \"issue\", \"issue\", \"issue\", \"issue\", \"issue\", \"item\", \"iv\", \"jet\", \"jim_zisfein\", \"jumper\", \"key\", \"keyboard\", \"khz\", \"kill\", \"kill\", \"kill\", \"king\", \"king\", \"knife\", \"know\", \"know\", \"know\", \"know\", \"know\", \"knowledge\", \"land\", \"land\", \"landing\", \"last\", \"last\", \"last\", \"last\", \"laugh\", \"launch\", \"law\", \"law\", \"law\", \"lc\", \"lead\", \"lead\", \"lead\", \"lead\", \"league\", \"lebanese\", \"lebanese_resistance\", \"left\", \"leg\", \"less\", \"less\", \"less\", \"less\", \"less\", \"less\", \"less\", \"level\", \"level\", \"level\", \"liar\", \"library\", \"license\", \"license\", \"life\", \"life\", \"life\", \"life\", \"life\", \"light\", \"light\", \"light\", \"light\", \"light\", \"line\", \"line\", \"line\", \"line\", \"line\", \"line\", \"line\", \"line\", \"line\", \"list\", \"list\", \"list\", \"list\", \"list\", \"little\", \"little\", \"little\", \"little\", \"live\", \"live\", \"live\", \"live\", \"live\", \"live\", \"load\", \"load\", \"local\", \"local\", \"local\", \"locate\", \"lock\", \"lock\", \"logic\", \"long\", \"long\", \"long\", \"long\", \"long\", \"look\", \"look\", \"look\", \"look\", \"lose\", \"lot\", \"lot\", \"lot\", \"lot\", \"low\", \"low\", \"low\", \"low\", \"low\", \"low\", \"low\", \"luck\", \"m\", \"machine\", \"machine\", \"mail\", \"make\", \"make\", \"make\", \"make\", \"make\", \"make\", \"make\", \"male\", \"male\", \"man\", \"man\", \"man\", \"man\", \"man\", \"man\", \"manufacture\", \"many\", \"many\", \"many\", \"many\", \"many\", \"many\", \"many\", \"mar\", \"mark_baker\", \"marriage\", \"marry\", \"master\", \"master\", \"master_slave\", \"material\", \"maxtor\", \"maybe\", \"mb\", \"mb\", \"mc\", \"mean\", \"mean\", \"mean\", \"mean\", \"mean\", \"mean\", \"meaning\", \"measure\", \"medical\", \"medication\", \"member\", \"member\", \"member\", \"member\", \"member\", \"member\", \"memory\", \"menu\", \"message\", \"message\", \"message\", \"metal\", \"methodology\", \"middle\", \"migraine\", \"mile\", \"military\", \"military\", \"military\", \"military\", \"militia\", \"million\", \"mine\", \"mine\", \"mine\", \"mission\", \"mission\", \"mistake\", \"mode\", \"model\", \"model\", \"money\", \"monitor\", \"moon\", \"moral\", \"mot\", \"mother\", \"mother\", \"motif\", \"mount\", \"mri\", \"mu\", \"much\", \"much\", \"much\", \"much\", \"much\", \"murder\", \"murder\", \"murder\", \"muscle\", \"muslim\", \"name\", \"name\", \"name\", \"name\", \"national\", \"nature\", \"need\", \"need\", \"need\", \"need\", \"need\", \"need\", \"negative\", \"nei\", \"net\", \"net\", \"net\", \"net\", \"net\", \"network\", \"neutral\", \"new\", \"new\", \"new\", \"new\", \"new\", \"new\", \"new\", \"new\", \"news\", \"news\", \"news\", \"news\", \"news\", \"newsletter_page\", \"next\", \"next\", \"next\", \"next\", \"next\", \"nh\", \"nhl\", \"nntp_poste\", \"nntp_poste\", \"normal\", \"northern\", \"notice\", \"number\", \"number\", \"number\", \"number\", \"number\", \"number\", \"number\", \"number\", \"number\", \"nyx_c\", \"occasional\", \"occupy\", \"odometer\", \"offer\", \"offer\", \"offer\", \"oil\", \"operate\", \"opinion\", \"opinion\", \"opinion\", \"opinion\", \"opinion\", \"opinions_expresse\", \"opponent\", \"opportunity\", \"orbit\", \"order\", \"order\", \"order\", \"order\", \"ordinary\", \"organization\", \"organization\", \"organization\", \"organization\", \"organization\", \"organization\", \"origin\", \"originator\", \"os\", \"overall\", \"own\", \"owner\", \"pack\", \"package\", \"pain\", \"pain\", \"pain\", \"palestinian\", \"panel\", \"park\", \"part\", \"part\", \"part\", \"part\", \"part\", \"part\", \"part\", \"part\", \"part\", \"participate\", \"pass\", \"pass\", \"patent\", \"pathology\", \"patient\", \"patrol\", \"pay\", \"pay\", \"pay\", \"pc\", \"pegasus\", \"pegasus_aaa\", \"pen\", \"penguin\", \"people\", \"people\", \"people\", \"people\", \"people\", \"people\", \"percent\", \"period\", \"person\", \"person\", \"person\", \"person\", \"phone\", \"phone\", \"physical\", \"pick\", \"pick\", \"pin\", \"pitcher\", \"pitt\", \"plane\", \"planet\", \"plate\", \"play\", \"play\", \"player\", \"playoff\", \"please_respond\", \"pm\", \"po_andrew\", \"point\", \"point\", \"point\", \"point\", \"point\", \"point\", \"point\", \"point\", \"police\", \"policy\", \"policy\", \"policy\", \"political\", \"political\", \"pop\", \"portal\", \"positive\", \"positive\", \"possibly\", \"possibly\", \"possibly\", \"post\", \"post\", \"post\", \"post\", \"post\", \"posting\", \"posting\", \"posting\", \"posting\", \"power\", \"power\", \"power\", \"power\", \"power\", \"power_supply\", \"prayer\", \"prediction\", \"president\", \"prevent\", \"prevent\", \"prevent\", \"prevent\", \"prevent\", \"price\", \"price\", \"price\", \"primary\", \"print\", \"privacy\", \"pro\", \"probability\", \"probe\", \"problem\", \"problem\", \"problem\", \"problem\", \"problem\", \"problem\", \"procedure\", \"proceed\", \"process\", \"process\", \"processor\", \"production\", \"program\", \"program\", \"program\", \"program\", \"protein\", \"prove\", \"prove\", \"prove\", \"provide\", \"provide\", \"provide\", \"provide\", \"provide\", \"provide\", \"provide\", \"public\", \"public\", \"public\", \"publication\", \"publication\", \"publish\", \"purchase\", \"purchase\", \"purpose\", \"purpose\", \"purpose\", \"purpose\", \"qax\", \"qr\", \"question\", \"question\", \"question\", \"question\", \"question\", \"question\", \"quick\", \"r\", \"radar_detector\", \"radiation\", \"raise\", \"random\", \"ranger\", \"rate\", \"rate\", \"rate\", \"rate\", \"rational\", \"rb\", \"rd\", \"read\", \"read\", \"read\", \"read\", \"read\", \"read\", \"read\", \"realistic\", \"reality\", \"reality\", \"realize\", \"really\", \"really\", \"really\", \"really\", \"really\", \"reason\", \"reason\", \"reason\", \"rebel\", \"receiver\", \"recent\", \"recipient\", \"red\", \"reference\", \"reference\", \"reference\", \"reference\", \"reflect\", \"regional\", \"registration\", \"regularly\", \"regulation\", \"reject\", \"relate\", \"relate\", \"relate\", \"relate\", \"religion\", \"religious\", \"religious\", \"remember\", \"remember\", \"remember\", \"remove\", \"remove\", \"remove\", \"remove\", \"reply\", \"reply\", \"reply\", \"reply\", \"reply\", \"report\", \"report\", \"report\", \"report\", \"report\", \"request\", \"request\", \"research\", \"research\", \"research\", \"research\", \"research\", \"research\", \"research\", \"researcher\", \"resistance\", \"resolution\", \"resource\", \"respect\", \"rest\", \"rest\", \"restraint\", \"restriction\", \"result\", \"result\", \"result\", \"result\", \"result\", \"result\", \"result\", \"result\", \"return\", \"return\", \"return\", \"return\", \"revelation\", \"right\", \"right\", \"right\", \"right\", \"right\", \"ring\", \"ripem\", \"risk\", \"risk\", \"risk\", \"risk\", \"rlk\", \"road\", \"road\", \"rob\", \"rocket\", \"roster\", \"round\", \"routine\", \"rsa\", \"run\", \"run\", \"rutger\", \"sale\", \"salt\", \"san_jose\", \"satellite\", \"saturn\", \"say\", \"say\", \"say\", \"say\", \"say\", \"sc\", \"sc\", \"schedule\", \"science\", \"scientific\", \"score\", \"screen\", \"scripture\", \"scsi\", \"scx\", \"season\", \"seat\", \"secret\", \"secret\", \"section\", \"section\", \"section\", \"section\", \"section\", \"sector\", \"secure\", \"security\", \"security\", \"security\", \"see\", \"see\", \"see\", \"see\", \"seem\", \"seem\", \"seem\", \"seem\", \"seem\", \"select\", \"self\", \"self\", \"sell\", \"sell\", \"sell\", \"sell\", \"sell\", \"seller\", \"send\", \"send\", \"send\", \"send\", \"send\", \"send\", \"sense\", \"sense\", \"sense\", \"sensitive\", \"sensitive\", \"serial\", \"series\", \"series\", \"series\", \"serious\", \"server\", \"session\", \"set\", \"set\", \"set\", \"setting\", \"setup\", \"sex\", \"shell\", \"shell\", \"ship\", \"shipping\", \"shoei\", \"shot\", \"shuttle\", \"sigh\", \"signal\", \"sin\", \"sink\", \"sj\", \"sky\", \"slave\", \"slip\", \"slot\", \"slow\", \"slow\", \"smace\", \"snow\", \"socket\", \"software\", \"solar\", \"soldier\", \"solid\", \"solve\", \"sorry\", \"sorry\", \"soul\", \"source\", \"source\", \"source\", \"source\", \"sp\", \"space\", \"space\", \"space\", \"space_station\", \"spacecraft\", \"spare\", \"speak\", \"speak\", \"speak\", \"speaker\", \"specification\", \"specifie\", \"speed\", \"speed\", \"speed\", \"speed\", \"sphere\", \"sponsor\", \"spring\", \"ss\", \"stack\", \"standard\", \"standard\", \"standard\", \"standard\", \"stanley_cup\", \"star\", \"start\", \"start\", \"stat\", \"state\", \"state\", \"state\", \"state\", \"state\", \"state\", \"stay\", \"still\", \"still\", \"still\", \"still\", \"still\", \"stop\", \"stop\", \"storage\", \"story\", \"strip\", \"study\", \"study\", \"study\", \"suck\", \"super\", \"supply\", \"supply\", \"supply\", \"surprise\", \"surveillance\", \"sy\", \"syndrome\", \"syrian\", \"sys\", \"system\", \"system\", \"system\", \"system\", \"system\", \"take\", \"take\", \"take\", \"take\", \"talent\", \"tap\", \"tape\", \"taste\", \"taste\", \"tax\", \"teach\", \"team\", \"team\", \"technique\", \"technology\", \"technology\", \"technology\", \"technology\", \"tell\", \"tell\", \"tell\", \"tell\", \"telnet\", \"temporal\", \"temporary\", \"tension\", \"terminal\", \"territory\", \"terrorism\", \"terrorist\", \"test\", \"thank\", \"thank\", \"theory\", \"theory\", \"thing\", \"thing\", \"thing\", \"thing\", \"think\", \"think\", \"think\", \"think\", \"throw\", \"ti\", \"ticket\", \"time\", \"time\", \"time\", \"time\", \"time\", \"time\", \"title\", \"title\", \"torture\", \"trace\", \"trade\", \"transfer\", \"translation\", \"transmit\", \"trap\", \"treat\", \"treat\", \"treat\", \"treat\", \"treatment\", \"treatment\", \"trial\", \"trivial\", \"troop\", \"true\", \"true\", \"true\", \"true\", \"true\", \"trust\", \"truth\", \"try\", \"try\", \"try\", \"try\", \"try\", \"tube\", \"tumor\", \"turk\", \"turkish\", \"tv\", \"tv\", \"uiuc\", \"uiuc\", \"umich\", \"umu\", \"umu\", \"umu\", \"umu\", \"umu\", \"umu\", \"umu\", \"unit\", \"unit\", \"united_state\", \"universe\", \"university\", \"university\", \"university\", \"university\", \"university\", \"unlikely\", \"uoregon\", \"up\", \"usage\", \"use\", \"use\", \"use\", \"use\", \"use\", \"use\", \"use\", \"use\", \"use\", \"use\", \"useful\", \"useful\", \"utility\", \"value\", \"value\", \"vehicle\", \"vehicle\", \"velocity\", \"version\", \"version_pl\", \"version_pl\", \"vertical\", \"video\", \"village\", \"vote\", \"vote\", \"walk\", \"wallpaper\", \"want\", \"want\", \"want\", \"war\", \"warranty\", \"watch\", \"water\", \"wave\", \"way\", \"way\", \"way\", \"way\", \"way\", \"weapon\", \"weapon\", \"wear\", \"weekend\", \"welcome\", \"welcome\", \"well\", \"well\", \"well\", \"well\", \"well\", \"white\", \"wide_range\", \"wife\", \"window\", \"window_manag\", \"wing\", \"wire\", \"wiring\", \"withdraw\", \"woman\", \"wonder\", \"wonder\", \"wonder\", \"word\", \"word\", \"word\", \"word\", \"work\", \"work\", \"work\", \"work\", \"work\", \"work\", \"work\", \"workstation\", \"worry\", \"worship\", \"write\", \"write\", \"write\", \"write\", \"write\", \"write\", \"ws\", \"xterm\", \"year\", \"year\", \"year\", \"year\", \"year\", \"year\"]}, \"R\": 30, \"lambda.step\": 0.01, \"plot.opts\": {\"xlab\": \"PC1\", \"ylab\": \"PC2\"}, \"topic.order\": [11, 5, 1, 19, 17, 14, 12, 20, 16, 3, 15, 13, 2, 6, 10, 8, 18, 4, 9, 7]};\n",
              "\n",
              "function LDAvis_load_lib(url, callback){\n",
              "  var s = document.createElement('script');\n",
              "  s.src = url;\n",
              "  s.async = true;\n",
              "  s.onreadystatechange = s.onload = callback;\n",
              "  s.onerror = function(){console.warn(\"failed to load library \" + url);};\n",
              "  document.getElementsByTagName(\"head\")[0].appendChild(s);\n",
              "}\n",
              "\n",
              "if(typeof(LDAvis) !== \"undefined\"){\n",
              "   // already loaded: just create the visualization\n",
              "   !function(LDAvis){\n",
              "       new LDAvis(\"#\" + \"ldavis_el3391400767820443686975465206\", ldavis_el3391400767820443686975465206_data);\n",
              "   }(LDAvis);\n",
              "}else if(typeof define === \"function\" && define.amd){\n",
              "   // require.js is available: use it to load d3/LDAvis\n",
              "   require.config({paths: {d3: \"https://d3js.org/d3.v5\"}});\n",
              "   require([\"d3\"], function(d3){\n",
              "      window.d3 = d3;\n",
              "      LDAvis_load_lib(\"https://cdn.jsdelivr.net/gh/bmabey/pyLDAvis@3.3.1/pyLDAvis/js/ldavis.v3.0.0.js\", function(){\n",
              "        new LDAvis(\"#\" + \"ldavis_el3391400767820443686975465206\", ldavis_el3391400767820443686975465206_data);\n",
              "      });\n",
              "    });\n",
              "}else{\n",
              "    // require.js not available: dynamically load d3 & LDAvis\n",
              "    LDAvis_load_lib(\"https://d3js.org/d3.v5.js\", function(){\n",
              "         LDAvis_load_lib(\"https://cdn.jsdelivr.net/gh/bmabey/pyLDAvis@3.3.1/pyLDAvis/js/ldavis.v3.0.0.js\", function(){\n",
              "                 new LDAvis(\"#\" + \"ldavis_el3391400767820443686975465206\", ldavis_el3391400767820443686975465206_data);\n",
              "            })\n",
              "         });\n",
              "}\n",
              "</script>"
            ]
          },
          "metadata": {},
          "execution_count": 24
        }
      ]
    },
    {
      "cell_type": "markdown",
      "source": [
        "# Find out the main topics of the document"
      ],
      "metadata": {
        "id": "qq0Kcz7O38Tq"
      }
    },
    {
      "cell_type": "markdown",
      "source": [
        "As we know topics in LDA are hidden topics, so is there any way we can similarly identify the main topic of these documents?\n",
        "\n",
        " The answer is yes, based on the distribution of topics according to words, we can find out which words are most important for each topic and it is likely that the topic will be related to this word the most, so assign a hidden meaning to the topic Relativity is the word."
      ],
      "metadata": {
        "id": "D_lNsUfM4OZ2"
      }
    },
    {
      "cell_type": "code",
      "source": [
        "def format_topics_sentences(ldamodel=lda_model, corpus=corpus, texts=data):\n",
        "    # Init output\n",
        "    sent_topics_df = pd.DataFrame()\n",
        "\n",
        "    # Get main topic in each document\n",
        "    for i, row in enumerate(ldamodel[corpus]):\n",
        "        row = sorted(row[0], key=lambda x: (x[1]), reverse=True)\n",
        "        # Get the Dominant topic, Perc Contribution and Keywords for each document\n",
        "        for j, (topic_num, prop_topic) in enumerate(row):\n",
        "            if j == 0:  # => dominant topic\n",
        "                wp = ldamodel.show_topic(topic_num)\n",
        "                topic_keywords = \", \".join([word for word, prop in wp])\n",
        "                sent_topics_df = sent_topics_df.append(pd.Series([int(topic_num), round(prop_topic,4), topic_keywords]), ignore_index=True)\n",
        "            else:\n",
        "                break\n",
        "    sent_topics_df.columns = ['Dominant_Topic', 'Perc_Contribution', 'Topic_Keywords']\n",
        "\n",
        "    # Add original text to the end of the output\n",
        "    contents = pd.Series(texts)\n",
        "    sent_topics_df = pd.concat([sent_topics_df, contents], axis=1)\n",
        "    return(sent_topics_df)\n",
        "\n",
        "\n",
        "df_topic_sents_keywords = format_topics_sentences(ldamodel=lda_model, corpus=corpus, texts=data)\n",
        "\n",
        "# Format\n",
        "df_dominant_topic = df_topic_sents_keywords.reset_index()\n",
        "df_dominant_topic.columns = ['Document_No', 'Dominant_Topic', 'Topic_Perc_Contrib', 'Keywords', 'Text']\n",
        "\n",
        "# Show\n",
        "df_dominant_topic.head(10)"
      ],
      "metadata": {
        "colab": {
          "base_uri": "https://localhost:8080/",
          "height": 363
        },
        "id": "kGKiU-C93-Iv",
        "outputId": "2001ce3f-0e67-4048-f4f5-434d85a57349"
      },
      "execution_count": 27,
      "outputs": [
        {
          "output_type": "execute_result",
          "data": {
            "text/plain": [
              "   Document_No  Dominant_Topic  Topic_Perc_Contrib  \\\n",
              "0            0            10.0              0.2658   \n",
              "1            1             4.0              0.3911   \n",
              "2            2            10.0              0.4889   \n",
              "3            3             4.0              0.2778   \n",
              "4            4            16.0              0.2270   \n",
              "5            5            16.0              0.5125   \n",
              "6            6             4.0              0.2819   \n",
              "7            7             8.0              0.3791   \n",
              "8            8            10.0              0.2454   \n",
              "9            9             4.0              0.3532   \n",
              "\n",
              "                                            Keywords  \\\n",
              "0  get, go, think, time, say, know, well, see, go...   \n",
              "1  line, use, thank, system, need, work, mail, pr...   \n",
              "2  get, go, think, time, say, know, well, see, go...   \n",
              "3  line, use, thank, system, need, work, mail, pr...   \n",
              "4  write, com, line, article, organization, nntp_...   \n",
              "5  write, com, line, article, organization, nntp_...   \n",
              "6  line, use, thank, system, need, work, mail, pr...   \n",
              "7  drive, scsi, controller, jumper, diagnosis, pa...   \n",
              "8  get, go, think, time, say, know, well, see, go...   \n",
              "9  line, use, thank, system, need, work, mail, pr...   \n",
              "\n",
              "                                                Text  \n",
              "0  From: lerxst@wam.umd.edu (where's my thing)\\nS...  \n",
              "1  From: guykuo@carson.u.washington.edu (Guy Kuo)...  \n",
              "2  From: twillis@ec.ecn.purdue.edu (Thomas E Will...  \n",
              "3  From: jgreen@amber (Joe Green)\\nSubject: Re: W...  \n",
              "4  From: jcm@head-cfa.harvard.edu (Jonathan McDow...  \n",
              "5  From: dfo@vttoulu.tko.vtt.fi (Foxvog Douglas)\\...  \n",
              "6  From: bmdelane@quads.uchicago.edu (brian manni...  \n",
              "7  From: bgrubb@dante.nmsu.edu (GRUBB)\\nSubject: ...  \n",
              "8  From: holmes7000@iscsvax.uni.edu\\nSubject: WIn...  \n",
              "9  From: kerr@ux1.cso.uiuc.edu (Stan Kerr)\\nSubje...  "
            ],
            "text/html": [
              "\n",
              "  <div id=\"df-25ba643b-bd4c-4546-9675-3b46d1d13280\">\n",
              "    <div class=\"colab-df-container\">\n",
              "      <div>\n",
              "<style scoped>\n",
              "    .dataframe tbody tr th:only-of-type {\n",
              "        vertical-align: middle;\n",
              "    }\n",
              "\n",
              "    .dataframe tbody tr th {\n",
              "        vertical-align: top;\n",
              "    }\n",
              "\n",
              "    .dataframe thead th {\n",
              "        text-align: right;\n",
              "    }\n",
              "</style>\n",
              "<table border=\"1\" class=\"dataframe\">\n",
              "  <thead>\n",
              "    <tr style=\"text-align: right;\">\n",
              "      <th></th>\n",
              "      <th>Document_No</th>\n",
              "      <th>Dominant_Topic</th>\n",
              "      <th>Topic_Perc_Contrib</th>\n",
              "      <th>Keywords</th>\n",
              "      <th>Text</th>\n",
              "    </tr>\n",
              "  </thead>\n",
              "  <tbody>\n",
              "    <tr>\n",
              "      <th>0</th>\n",
              "      <td>0</td>\n",
              "      <td>10.0</td>\n",
              "      <td>0.2658</td>\n",
              "      <td>get, go, think, time, say, know, well, see, go...</td>\n",
              "      <td>From: lerxst@wam.umd.edu (where's my thing)\\nS...</td>\n",
              "    </tr>\n",
              "    <tr>\n",
              "      <th>1</th>\n",
              "      <td>1</td>\n",
              "      <td>4.0</td>\n",
              "      <td>0.3911</td>\n",
              "      <td>line, use, thank, system, need, work, mail, pr...</td>\n",
              "      <td>From: guykuo@carson.u.washington.edu (Guy Kuo)...</td>\n",
              "    </tr>\n",
              "    <tr>\n",
              "      <th>2</th>\n",
              "      <td>2</td>\n",
              "      <td>10.0</td>\n",
              "      <td>0.4889</td>\n",
              "      <td>get, go, think, time, say, know, well, see, go...</td>\n",
              "      <td>From: twillis@ec.ecn.purdue.edu (Thomas E Will...</td>\n",
              "    </tr>\n",
              "    <tr>\n",
              "      <th>3</th>\n",
              "      <td>3</td>\n",
              "      <td>4.0</td>\n",
              "      <td>0.2778</td>\n",
              "      <td>line, use, thank, system, need, work, mail, pr...</td>\n",
              "      <td>From: jgreen@amber (Joe Green)\\nSubject: Re: W...</td>\n",
              "    </tr>\n",
              "    <tr>\n",
              "      <th>4</th>\n",
              "      <td>4</td>\n",
              "      <td>16.0</td>\n",
              "      <td>0.2270</td>\n",
              "      <td>write, com, line, article, organization, nntp_...</td>\n",
              "      <td>From: jcm@head-cfa.harvard.edu (Jonathan McDow...</td>\n",
              "    </tr>\n",
              "    <tr>\n",
              "      <th>5</th>\n",
              "      <td>5</td>\n",
              "      <td>16.0</td>\n",
              "      <td>0.5125</td>\n",
              "      <td>write, com, line, article, organization, nntp_...</td>\n",
              "      <td>From: dfo@vttoulu.tko.vtt.fi (Foxvog Douglas)\\...</td>\n",
              "    </tr>\n",
              "    <tr>\n",
              "      <th>6</th>\n",
              "      <td>6</td>\n",
              "      <td>4.0</td>\n",
              "      <td>0.2819</td>\n",
              "      <td>line, use, thank, system, need, work, mail, pr...</td>\n",
              "      <td>From: bmdelane@quads.uchicago.edu (brian manni...</td>\n",
              "    </tr>\n",
              "    <tr>\n",
              "      <th>7</th>\n",
              "      <td>7</td>\n",
              "      <td>8.0</td>\n",
              "      <td>0.3791</td>\n",
              "      <td>drive, scsi, controller, jumper, diagnosis, pa...</td>\n",
              "      <td>From: bgrubb@dante.nmsu.edu (GRUBB)\\nSubject: ...</td>\n",
              "    </tr>\n",
              "    <tr>\n",
              "      <th>8</th>\n",
              "      <td>8</td>\n",
              "      <td>10.0</td>\n",
              "      <td>0.2454</td>\n",
              "      <td>get, go, think, time, say, know, well, see, go...</td>\n",
              "      <td>From: holmes7000@iscsvax.uni.edu\\nSubject: WIn...</td>\n",
              "    </tr>\n",
              "    <tr>\n",
              "      <th>9</th>\n",
              "      <td>9</td>\n",
              "      <td>4.0</td>\n",
              "      <td>0.3532</td>\n",
              "      <td>line, use, thank, system, need, work, mail, pr...</td>\n",
              "      <td>From: kerr@ux1.cso.uiuc.edu (Stan Kerr)\\nSubje...</td>\n",
              "    </tr>\n",
              "  </tbody>\n",
              "</table>\n",
              "</div>\n",
              "      <button class=\"colab-df-convert\" onclick=\"convertToInteractive('df-25ba643b-bd4c-4546-9675-3b46d1d13280')\"\n",
              "              title=\"Convert this dataframe to an interactive table.\"\n",
              "              style=\"display:none;\">\n",
              "        \n",
              "  <svg xmlns=\"http://www.w3.org/2000/svg\" height=\"24px\"viewBox=\"0 0 24 24\"\n",
              "       width=\"24px\">\n",
              "    <path d=\"M0 0h24v24H0V0z\" fill=\"none\"/>\n",
              "    <path d=\"M18.56 5.44l.94 2.06.94-2.06 2.06-.94-2.06-.94-.94-2.06-.94 2.06-2.06.94zm-11 1L8.5 8.5l.94-2.06 2.06-.94-2.06-.94L8.5 2.5l-.94 2.06-2.06.94zm10 10l.94 2.06.94-2.06 2.06-.94-2.06-.94-.94-2.06-.94 2.06-2.06.94z\"/><path d=\"M17.41 7.96l-1.37-1.37c-.4-.4-.92-.59-1.43-.59-.52 0-1.04.2-1.43.59L10.3 9.45l-7.72 7.72c-.78.78-.78 2.05 0 2.83L4 21.41c.39.39.9.59 1.41.59.51 0 1.02-.2 1.41-.59l7.78-7.78 2.81-2.81c.8-.78.8-2.07 0-2.86zM5.41 20L4 18.59l7.72-7.72 1.47 1.35L5.41 20z\"/>\n",
              "  </svg>\n",
              "      </button>\n",
              "      \n",
              "  <style>\n",
              "    .colab-df-container {\n",
              "      display:flex;\n",
              "      flex-wrap:wrap;\n",
              "      gap: 12px;\n",
              "    }\n",
              "\n",
              "    .colab-df-convert {\n",
              "      background-color: #E8F0FE;\n",
              "      border: none;\n",
              "      border-radius: 50%;\n",
              "      cursor: pointer;\n",
              "      display: none;\n",
              "      fill: #1967D2;\n",
              "      height: 32px;\n",
              "      padding: 0 0 0 0;\n",
              "      width: 32px;\n",
              "    }\n",
              "\n",
              "    .colab-df-convert:hover {\n",
              "      background-color: #E2EBFA;\n",
              "      box-shadow: 0px 1px 2px rgba(60, 64, 67, 0.3), 0px 1px 3px 1px rgba(60, 64, 67, 0.15);\n",
              "      fill: #174EA6;\n",
              "    }\n",
              "\n",
              "    [theme=dark] .colab-df-convert {\n",
              "      background-color: #3B4455;\n",
              "      fill: #D2E3FC;\n",
              "    }\n",
              "\n",
              "    [theme=dark] .colab-df-convert:hover {\n",
              "      background-color: #434B5C;\n",
              "      box-shadow: 0px 1px 3px 1px rgba(0, 0, 0, 0.15);\n",
              "      filter: drop-shadow(0px 1px 2px rgba(0, 0, 0, 0.3));\n",
              "      fill: #FFFFFF;\n",
              "    }\n",
              "  </style>\n",
              "\n",
              "      <script>\n",
              "        const buttonEl =\n",
              "          document.querySelector('#df-25ba643b-bd4c-4546-9675-3b46d1d13280 button.colab-df-convert');\n",
              "        buttonEl.style.display =\n",
              "          google.colab.kernel.accessAllowed ? 'block' : 'none';\n",
              "\n",
              "        async function convertToInteractive(key) {\n",
              "          const element = document.querySelector('#df-25ba643b-bd4c-4546-9675-3b46d1d13280');\n",
              "          const dataTable =\n",
              "            await google.colab.kernel.invokeFunction('convertToInteractive',\n",
              "                                                     [key], {});\n",
              "          if (!dataTable) return;\n",
              "\n",
              "          const docLinkHtml = 'Like what you see? Visit the ' +\n",
              "            '<a target=\"_blank\" href=https://colab.research.google.com/notebooks/data_table.ipynb>data table notebook</a>'\n",
              "            + ' to learn more about interactive tables.';\n",
              "          element.innerHTML = '';\n",
              "          dataTable['output_type'] = 'display_data';\n",
              "          await google.colab.output.renderOutput(dataTable, element);\n",
              "          const docLink = document.createElement('div');\n",
              "          docLink.innerHTML = docLinkHtml;\n",
              "          element.appendChild(docLink);\n",
              "        }\n",
              "      </script>\n",
              "    </div>\n",
              "  </div>\n",
              "  "
            ]
          },
          "metadata": {},
          "execution_count": 27
        }
      ]
    }
  ]
}