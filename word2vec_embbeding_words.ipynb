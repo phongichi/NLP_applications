{
  "nbformat": 4,
  "nbformat_minor": 0,
  "metadata": {
    "colab": {
      "provenance": [],
      "collapsed_sections": []
    },
    "kernelspec": {
      "name": "python3",
      "display_name": "Python 3"
    },
    "language_info": {
      "name": "python"
    },
    "accelerator": "GPU",
    "gpuClass": "standard"
  },
  "cells": [
    {
      "cell_type": "code",
      "execution_count": 11,
      "metadata": {
        "id": "2Suenfq3_kdi"
      },
      "outputs": [],
      "source": []
    },
    {
      "cell_type": "markdown",
      "source": [],
      "metadata": {
        "id": "EdzL8421Eumk"
      }
    },
    {
      "cell_type": "markdown",
      "source": [
        "# create vocabulary"
      ],
      "metadata": {
        "id": "mspBfpU6Al4v"
      }
    },
    {
      "cell_type": "code",
      "source": [
        "from keras.preprocessing import text\n",
        "from keras.utils import np_utils\n",
        "from keras.preprocessing import sequence\n",
        "from nltk.corpus import gutenberg\n",
        "from string import punctuation\n",
        "import nltk\n",
        "\n",
        "# download data: bible-kjv.txt\n",
        "nltk.download('gutenberg')\n",
        "nltk.download('punkt')\n",
        "norm_bible = gutenberg.sents('bible-kjv.txt') \n",
        "\n",
        "# convert word to index:\n",
        "norm_bible = [' '.join(doc) for doc in norm_bible]\n",
        "tokenizer = text.Tokenizer()\n",
        "tokenizer.fit_on_texts(norm_bible)\n",
        "word2id = tokenizer.word_index\n",
        "\n",
        "# build vocabulary of unique words :\n",
        "word2id['PAD'] = 0\n",
        "id2word = {v:k for k, v in word2id.items()}\n",
        "vocab_size = len(word2id)\n",
        "\n",
        "print('Vocabulary Size:', vocab_size)\n",
        "print('Vocabulary Sample:', list(word2id.items())[:10])"
      ],
      "metadata": {
        "colab": {
          "base_uri": "https://localhost:8080/"
        },
        "id": "jsdG0t7wAoJp",
        "outputId": "b25896f9-65d0-4769-ebc3-524939d573a5"
      },
      "execution_count": 3,
      "outputs": [
        {
          "output_type": "stream",
          "name": "stderr",
          "text": [
            "[nltk_data] Downloading package gutenberg to /root/nltk_data...\n",
            "[nltk_data]   Package gutenberg is already up-to-date!\n",
            "[nltk_data] Downloading package punkt to /root/nltk_data...\n",
            "[nltk_data]   Package punkt is already up-to-date!\n"
          ]
        },
        {
          "output_type": "stream",
          "name": "stdout",
          "text": [
            "Vocabulary Size: 12746\n",
            "Vocabulary Sample: [('the', 1), ('and', 2), ('of', 3), ('to', 4), ('that', 5), ('in', 6), ('he', 7), ('shall', 8), ('unto', 9), ('for', 10)]\n"
          ]
        }
      ]
    },
    {
      "cell_type": "markdown",
      "source": [
        "# Embedding sentence by index"
      ],
      "metadata": {
        "id": "RCKxmWWEAt9K"
      }
    },
    {
      "cell_type": "code",
      "source": [
        "wids = [[word2id[w] for w in text.text_to_word_sequence(doc)] for doc in norm_bible]\n",
        "print('Embedding sentence by index: ', wids[:5])"
      ],
      "metadata": {
        "colab": {
          "base_uri": "https://localhost:8080/"
        },
        "id": "C6DLTuM-Atf0",
        "outputId": "3246eb85-30c1-4a17-ab6e-23cf4f484a3c"
      },
      "execution_count": 4,
      "outputs": [
        {
          "output_type": "stream",
          "name": "stdout",
          "text": [
            "Embedding sentence by index:  [[1, 53, 1342, 6058], [1, 280, 2678, 3, 1, 53, 1342, 6058], [1, 254, 448, 3, 162, 194, 8769], [43, 43, 6, 1, 734, 27, 1368, 1, 205, 2, 1, 139], [43, 48, 2, 1, 139, 26, 258, 2085, 2, 2086, 2, 551, 26, 46, 1, 266, 3, 1, 1030]]\n"
          ]
        }
      ]
    },
    {
      "cell_type": "markdown",
      "source": [
        "# Context --> Target"
      ],
      "metadata": {
        "id": "BvAAPF6bA2Mq"
      }
    },
    {
      "cell_type": "code",
      "source": [
        "import numpy as np\n",
        "def generate_context_word_pairs(corpus, window_size, vocab_size):\n",
        "    context_length = window_size*2\n",
        "    for words in corpus:\n",
        "        sentence_length = len(words)\n",
        "        # print('words: ', words)\n",
        "        for index, word in enumerate(words):\n",
        "            context_words = []\n",
        "            label_word   = [] \n",
        "            # Start index of context\n",
        "            start = index - window_size\n",
        "            # End index of context\n",
        "            end = index + window_size + 1\n",
        "            # List of context_words\n",
        "            context_words.append([words[i] for i in range(start, end) if 0 <= i < sentence_length and i != index])\n",
        "            # List of label_word (also is target word).\n",
        "            # print('context words {}: {}'.format(context_words, index))\n",
        "            label_word.append(word)\n",
        "            # Padding the input 0 in the left in case it does not satisfy number of context_words = 2*window_size.\n",
        "            x = sequence.pad_sequences(context_words, maxlen=context_length)\n",
        "            # print('context words padded: ', x)\n",
        "            # Convert label_word into one-hot vector corresponding with its index\n",
        "            y = np_utils.to_categorical(label_word, vocab_size)\n",
        "            yield (x, y)"
      ],
      "metadata": {
        "id": "IZ2Dd49CA21y"
      },
      "execution_count": 5,
      "outputs": []
    },
    {
      "cell_type": "code",
      "source": [
        "# Test this out for some samples\n",
        "i = 0\n",
        "window_size = 2 # context window size\n",
        "for x, y in generate_context_word_pairs(corpus=wids, window_size=window_size, vocab_size=vocab_size):\n",
        "    if 0 not in x[0]:\n",
        "        print('Context (X):', [id2word[w] for w in x[0]], '-> Target (Y):', id2word[np.argwhere(y[0])[0][0]])\n",
        "    \n",
        "        if i == 10:\n",
        "            break\n",
        "        i += 1"
      ],
      "metadata": {
        "colab": {
          "base_uri": "https://localhost:8080/"
        },
        "id": "2scrgsICBBOD",
        "outputId": "bd60fa00-8b95-4d32-eb21-c72398c32049"
      },
      "execution_count": 6,
      "outputs": [
        {
          "output_type": "stream",
          "name": "stdout",
          "text": [
            "Context (X): ['the', 'old', 'of', 'the'] -> Target (Y): testament\n",
            "Context (X): ['old', 'testament', 'the', 'king'] -> Target (Y): of\n",
            "Context (X): ['testament', 'of', 'king', 'james'] -> Target (Y): the\n",
            "Context (X): ['of', 'the', 'james', 'bible'] -> Target (Y): king\n",
            "Context (X): ['the', 'first', 'of', 'moses'] -> Target (Y): book\n",
            "Context (X): ['first', 'book', 'moses', 'called'] -> Target (Y): of\n",
            "Context (X): ['book', 'of', 'called', 'genesis'] -> Target (Y): moses\n",
            "Context (X): ['1', '1', 'the', 'beginning'] -> Target (Y): in\n",
            "Context (X): ['1', 'in', 'beginning', 'god'] -> Target (Y): the\n",
            "Context (X): ['in', 'the', 'god', 'created'] -> Target (Y): beginning\n",
            "Context (X): ['the', 'beginning', 'created', 'the'] -> Target (Y): god\n"
          ]
        }
      ]
    },
    {
      "cell_type": "markdown",
      "source": [
        "# CBOW "
      ],
      "metadata": {
        "id": "OOXsnyCqBKjS"
      }
    },
    {
      "cell_type": "code",
      "source": [
        "import keras.backend as K\n",
        "from keras.models import Sequential\n",
        "from keras.layers import Dense, Embedding, Lambda\n",
        "\n",
        "embed_size = 100\n",
        "\n",
        "# build CBOW architecture\n",
        "cbow = Sequential()\n",
        "cbow.add(Embedding(input_dim=vocab_size, output_dim=embed_size, input_length=window_size*2))\n",
        "cbow.add(Lambda(lambda x: K.mean(x, axis=1), output_shape=(embed_size,)))\n",
        "cbow.add(Dense(vocab_size, activation='softmax'))\n",
        "cbow.compile(loss='categorical_crossentropy', optimizer='rmsprop')\n",
        "\n",
        "# view model summary\n",
        "print(cbow.summary())"
      ],
      "metadata": {
        "colab": {
          "base_uri": "https://localhost:8080/"
        },
        "id": "pCeGzr8jBNiS",
        "outputId": "46e70e15-c85b-4dcf-b34f-70dc7b9f6066"
      },
      "execution_count": 7,
      "outputs": [
        {
          "output_type": "stream",
          "name": "stdout",
          "text": [
            "Model: \"sequential\"\n",
            "_________________________________________________________________\n",
            " Layer (type)                Output Shape              Param #   \n",
            "=================================================================\n",
            " embedding (Embedding)       (None, 4, 100)            1274600   \n",
            "                                                                 \n",
            " lambda (Lambda)             (None, 100)               0         \n",
            "                                                                 \n",
            " dense (Dense)               (None, 12746)             1287346   \n",
            "                                                                 \n",
            "=================================================================\n",
            "Total params: 2,561,946\n",
            "Trainable params: 2,561,946\n",
            "Non-trainable params: 0\n",
            "_________________________________________________________________\n",
            "None\n"
          ]
        }
      ]
    },
    {
      "cell_type": "markdown",
      "source": [
        "![image.png](data:image/png;base64,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)"
      ],
      "metadata": {
        "id": "FblIo12SFquU"
      }
    },
    {
      "cell_type": "code",
      "source": [
        "print('number of window: ', len(wids))"
      ],
      "metadata": {
        "colab": {
          "base_uri": "https://localhost:8080/"
        },
        "id": "M_awOPpoBTYR",
        "outputId": "dd1c92ad-6d20-4b59-f25a-9faffc3370fc"
      },
      "execution_count": 8,
      "outputs": [
        {
          "output_type": "stream",
          "name": "stdout",
          "text": [
            "number of window:  30103\n"
          ]
        }
      ]
    },
    {
      "cell_type": "markdown",
      "source": [
        "training"
      ],
      "metadata": {
        "id": "hBcqj0QABWex"
      }
    },
    {
      "cell_type": "code",
      "source": [
        "for epoch in range(1, 6):\n",
        "    loss = 0.\n",
        "    i = 0\n",
        "    for x, y in generate_context_word_pairs(corpus=wids[:100], window_size=window_size, vocab_size=vocab_size):\n",
        "        i += 1\n",
        "        loss += cbow.train_on_batch(x, y)\n",
        "        if i % 500 == 0:\n",
        "            print('Processed {} (context, word) pairs'.format(i))\n",
        "\n",
        "    print('Epoch:', epoch, '\\tLoss:', loss)"
      ],
      "metadata": {
        "colab": {
          "base_uri": "https://localhost:8080/"
        },
        "id": "YgJf3EHIBXRd",
        "outputId": "28eec869-676e-4952-ad7c-8fdf3959244e"
      },
      "execution_count": 9,
      "outputs": [
        {
          "output_type": "stream",
          "name": "stdout",
          "text": [
            "Processed 500 (context, word) pairs\n",
            "Processed 1000 (context, word) pairs\n",
            "Processed 1500 (context, word) pairs\n",
            "Processed 2000 (context, word) pairs\n",
            "Processed 2500 (context, word) pairs\n",
            "Epoch: 1 \tLoss: 20400.14939892292\n",
            "Processed 500 (context, word) pairs\n",
            "Processed 1000 (context, word) pairs\n",
            "Processed 1500 (context, word) pairs\n",
            "Processed 2000 (context, word) pairs\n",
            "Processed 2500 (context, word) pairs\n",
            "Epoch: 2 \tLoss: 17194.029533088207\n",
            "Processed 500 (context, word) pairs\n",
            "Processed 1000 (context, word) pairs\n",
            "Processed 1500 (context, word) pairs\n",
            "Processed 2000 (context, word) pairs\n",
            "Processed 2500 (context, word) pairs\n",
            "Epoch: 3 \tLoss: 16342.732397705317\n",
            "Processed 500 (context, word) pairs\n",
            "Processed 1000 (context, word) pairs\n",
            "Processed 1500 (context, word) pairs\n",
            "Processed 2000 (context, word) pairs\n",
            "Processed 2500 (context, word) pairs\n",
            "Epoch: 4 \tLoss: 15539.928414106369\n",
            "Processed 500 (context, word) pairs\n",
            "Processed 1000 (context, word) pairs\n",
            "Processed 1500 (context, word) pairs\n",
            "Processed 2000 (context, word) pairs\n",
            "Processed 2500 (context, word) pairs\n",
            "Epoch: 5 \tLoss: 15054.835356447846\n"
          ]
        }
      ]
    },
    {
      "cell_type": "markdown",
      "source": [
        "extract embbeding words matrix"
      ],
      "metadata": {
        "id": "DH1VrV5cCrS6"
      }
    },
    {
      "cell_type": "code",
      "source": [
        "import pandas as pd\n",
        "weights = cbow.get_weights()[0]\n",
        "weights = weights[1:]\n",
        "print(weights.shape)\n",
        "\n",
        "pd.DataFrame(weights, index=list(id2word.values())[1:]).head()"
      ],
      "metadata": {
        "colab": {
          "base_uri": "https://localhost:8080/",
          "height": 267
        },
        "id": "sllzpUnbCmtq",
        "outputId": "af509c5f-dc16-4b84-ae0c-f65897507e03"
      },
      "execution_count": 10,
      "outputs": [
        {
          "output_type": "stream",
          "name": "stdout",
          "text": [
            "(12745, 100)\n"
          ]
        },
        {
          "output_type": "execute_result",
          "data": {
            "text/plain": [
              "            0         1         2         3         4         5         6   \\\n",
              "and   0.012835 -0.151183  0.064633  0.027602  0.423209  0.044332 -0.654585   \n",
              "of   -0.227910  0.176314  0.051103  0.412257  0.345423 -0.052475 -0.347550   \n",
              "to    0.008982  0.469110  0.112339  0.432284 -0.144922  0.036024 -0.279666   \n",
              "that -0.000031  0.124963  0.056811  0.114742 -0.003151 -0.027078  0.072979   \n",
              "in   -0.065593 -0.066591  0.036698 -0.038307 -0.037915 -0.075284  0.091576   \n",
              "\n",
              "            7         8         9   ...        90        91        92  \\\n",
              "and   0.414508  0.121194 -0.015842  ... -0.401650  0.000550 -0.078026   \n",
              "of    0.368479  0.114847  0.102570  ... -0.751142 -0.013073 -0.185662   \n",
              "to    0.148662  0.002813  0.001415  ... -0.100858  0.312399 -0.004509   \n",
              "that  0.089627 -0.016849  0.012977  ... -0.115683  0.042742 -0.073022   \n",
              "in    0.205930  0.070198 -0.037988  ... -0.257351 -0.175083 -0.046118   \n",
              "\n",
              "            93        94        95        96        97        98        99  \n",
              "and   0.193919 -0.259821  0.041686 -0.032755 -0.184637 -0.635207 -0.291807  \n",
              "of   -0.172678 -0.152381  1.036813 -0.100437 -0.032841 -0.168807 -0.024059  \n",
              "to    0.039721  0.042371  0.540059 -0.011876 -0.175170 -0.066842  0.094016  \n",
              "that -0.025205 -0.043722  0.113014 -0.010762 -0.003832 -0.033299 -0.068375  \n",
              "in   -0.022871 -0.018633  0.246460  0.001434  0.056261 -0.071921 -0.059995  \n",
              "\n",
              "[5 rows x 100 columns]"
            ],
            "text/html": [
              "\n",
              "  <div id=\"df-3aa52184-a3ab-4c1b-aa40-94adff407c56\">\n",
              "    <div class=\"colab-df-container\">\n",
              "      <div>\n",
              "<style scoped>\n",
              "    .dataframe tbody tr th:only-of-type {\n",
              "        vertical-align: middle;\n",
              "    }\n",
              "\n",
              "    .dataframe tbody tr th {\n",
              "        vertical-align: top;\n",
              "    }\n",
              "\n",
              "    .dataframe thead th {\n",
              "        text-align: right;\n",
              "    }\n",
              "</style>\n",
              "<table border=\"1\" class=\"dataframe\">\n",
              "  <thead>\n",
              "    <tr style=\"text-align: right;\">\n",
              "      <th></th>\n",
              "      <th>0</th>\n",
              "      <th>1</th>\n",
              "      <th>2</th>\n",
              "      <th>3</th>\n",
              "      <th>4</th>\n",
              "      <th>5</th>\n",
              "      <th>6</th>\n",
              "      <th>7</th>\n",
              "      <th>8</th>\n",
              "      <th>9</th>\n",
              "      <th>...</th>\n",
              "      <th>90</th>\n",
              "      <th>91</th>\n",
              "      <th>92</th>\n",
              "      <th>93</th>\n",
              "      <th>94</th>\n",
              "      <th>95</th>\n",
              "      <th>96</th>\n",
              "      <th>97</th>\n",
              "      <th>98</th>\n",
              "      <th>99</th>\n",
              "    </tr>\n",
              "  </thead>\n",
              "  <tbody>\n",
              "    <tr>\n",
              "      <th>and</th>\n",
              "      <td>0.012835</td>\n",
              "      <td>-0.151183</td>\n",
              "      <td>0.064633</td>\n",
              "      <td>0.027602</td>\n",
              "      <td>0.423209</td>\n",
              "      <td>0.044332</td>\n",
              "      <td>-0.654585</td>\n",
              "      <td>0.414508</td>\n",
              "      <td>0.121194</td>\n",
              "      <td>-0.015842</td>\n",
              "      <td>...</td>\n",
              "      <td>-0.401650</td>\n",
              "      <td>0.000550</td>\n",
              "      <td>-0.078026</td>\n",
              "      <td>0.193919</td>\n",
              "      <td>-0.259821</td>\n",
              "      <td>0.041686</td>\n",
              "      <td>-0.032755</td>\n",
              "      <td>-0.184637</td>\n",
              "      <td>-0.635207</td>\n",
              "      <td>-0.291807</td>\n",
              "    </tr>\n",
              "    <tr>\n",
              "      <th>of</th>\n",
              "      <td>-0.227910</td>\n",
              "      <td>0.176314</td>\n",
              "      <td>0.051103</td>\n",
              "      <td>0.412257</td>\n",
              "      <td>0.345423</td>\n",
              "      <td>-0.052475</td>\n",
              "      <td>-0.347550</td>\n",
              "      <td>0.368479</td>\n",
              "      <td>0.114847</td>\n",
              "      <td>0.102570</td>\n",
              "      <td>...</td>\n",
              "      <td>-0.751142</td>\n",
              "      <td>-0.013073</td>\n",
              "      <td>-0.185662</td>\n",
              "      <td>-0.172678</td>\n",
              "      <td>-0.152381</td>\n",
              "      <td>1.036813</td>\n",
              "      <td>-0.100437</td>\n",
              "      <td>-0.032841</td>\n",
              "      <td>-0.168807</td>\n",
              "      <td>-0.024059</td>\n",
              "    </tr>\n",
              "    <tr>\n",
              "      <th>to</th>\n",
              "      <td>0.008982</td>\n",
              "      <td>0.469110</td>\n",
              "      <td>0.112339</td>\n",
              "      <td>0.432284</td>\n",
              "      <td>-0.144922</td>\n",
              "      <td>0.036024</td>\n",
              "      <td>-0.279666</td>\n",
              "      <td>0.148662</td>\n",
              "      <td>0.002813</td>\n",
              "      <td>0.001415</td>\n",
              "      <td>...</td>\n",
              "      <td>-0.100858</td>\n",
              "      <td>0.312399</td>\n",
              "      <td>-0.004509</td>\n",
              "      <td>0.039721</td>\n",
              "      <td>0.042371</td>\n",
              "      <td>0.540059</td>\n",
              "      <td>-0.011876</td>\n",
              "      <td>-0.175170</td>\n",
              "      <td>-0.066842</td>\n",
              "      <td>0.094016</td>\n",
              "    </tr>\n",
              "    <tr>\n",
              "      <th>that</th>\n",
              "      <td>-0.000031</td>\n",
              "      <td>0.124963</td>\n",
              "      <td>0.056811</td>\n",
              "      <td>0.114742</td>\n",
              "      <td>-0.003151</td>\n",
              "      <td>-0.027078</td>\n",
              "      <td>0.072979</td>\n",
              "      <td>0.089627</td>\n",
              "      <td>-0.016849</td>\n",
              "      <td>0.012977</td>\n",
              "      <td>...</td>\n",
              "      <td>-0.115683</td>\n",
              "      <td>0.042742</td>\n",
              "      <td>-0.073022</td>\n",
              "      <td>-0.025205</td>\n",
              "      <td>-0.043722</td>\n",
              "      <td>0.113014</td>\n",
              "      <td>-0.010762</td>\n",
              "      <td>-0.003832</td>\n",
              "      <td>-0.033299</td>\n",
              "      <td>-0.068375</td>\n",
              "    </tr>\n",
              "    <tr>\n",
              "      <th>in</th>\n",
              "      <td>-0.065593</td>\n",
              "      <td>-0.066591</td>\n",
              "      <td>0.036698</td>\n",
              "      <td>-0.038307</td>\n",
              "      <td>-0.037915</td>\n",
              "      <td>-0.075284</td>\n",
              "      <td>0.091576</td>\n",
              "      <td>0.205930</td>\n",
              "      <td>0.070198</td>\n",
              "      <td>-0.037988</td>\n",
              "      <td>...</td>\n",
              "      <td>-0.257351</td>\n",
              "      <td>-0.175083</td>\n",
              "      <td>-0.046118</td>\n",
              "      <td>-0.022871</td>\n",
              "      <td>-0.018633</td>\n",
              "      <td>0.246460</td>\n",
              "      <td>0.001434</td>\n",
              "      <td>0.056261</td>\n",
              "      <td>-0.071921</td>\n",
              "      <td>-0.059995</td>\n",
              "    </tr>\n",
              "  </tbody>\n",
              "</table>\n",
              "<p>5 rows × 100 columns</p>\n",
              "</div>\n",
              "      <button class=\"colab-df-convert\" onclick=\"convertToInteractive('df-3aa52184-a3ab-4c1b-aa40-94adff407c56')\"\n",
              "              title=\"Convert this dataframe to an interactive table.\"\n",
              "              style=\"display:none;\">\n",
              "        \n",
              "  <svg xmlns=\"http://www.w3.org/2000/svg\" height=\"24px\"viewBox=\"0 0 24 24\"\n",
              "       width=\"24px\">\n",
              "    <path d=\"M0 0h24v24H0V0z\" fill=\"none\"/>\n",
              "    <path d=\"M18.56 5.44l.94 2.06.94-2.06 2.06-.94-2.06-.94-.94-2.06-.94 2.06-2.06.94zm-11 1L8.5 8.5l.94-2.06 2.06-.94-2.06-.94L8.5 2.5l-.94 2.06-2.06.94zm10 10l.94 2.06.94-2.06 2.06-.94-2.06-.94-.94-2.06-.94 2.06-2.06.94z\"/><path d=\"M17.41 7.96l-1.37-1.37c-.4-.4-.92-.59-1.43-.59-.52 0-1.04.2-1.43.59L10.3 9.45l-7.72 7.72c-.78.78-.78 2.05 0 2.83L4 21.41c.39.39.9.59 1.41.59.51 0 1.02-.2 1.41-.59l7.78-7.78 2.81-2.81c.8-.78.8-2.07 0-2.86zM5.41 20L4 18.59l7.72-7.72 1.47 1.35L5.41 20z\"/>\n",
              "  </svg>\n",
              "      </button>\n",
              "      \n",
              "  <style>\n",
              "    .colab-df-container {\n",
              "      display:flex;\n",
              "      flex-wrap:wrap;\n",
              "      gap: 12px;\n",
              "    }\n",
              "\n",
              "    .colab-df-convert {\n",
              "      background-color: #E8F0FE;\n",
              "      border: none;\n",
              "      border-radius: 50%;\n",
              "      cursor: pointer;\n",
              "      display: none;\n",
              "      fill: #1967D2;\n",
              "      height: 32px;\n",
              "      padding: 0 0 0 0;\n",
              "      width: 32px;\n",
              "    }\n",
              "\n",
              "    .colab-df-convert:hover {\n",
              "      background-color: #E2EBFA;\n",
              "      box-shadow: 0px 1px 2px rgba(60, 64, 67, 0.3), 0px 1px 3px 1px rgba(60, 64, 67, 0.15);\n",
              "      fill: #174EA6;\n",
              "    }\n",
              "\n",
              "    [theme=dark] .colab-df-convert {\n",
              "      background-color: #3B4455;\n",
              "      fill: #D2E3FC;\n",
              "    }\n",
              "\n",
              "    [theme=dark] .colab-df-convert:hover {\n",
              "      background-color: #434B5C;\n",
              "      box-shadow: 0px 1px 3px 1px rgba(0, 0, 0, 0.15);\n",
              "      filter: drop-shadow(0px 1px 2px rgba(0, 0, 0, 0.3));\n",
              "      fill: #FFFFFF;\n",
              "    }\n",
              "  </style>\n",
              "\n",
              "      <script>\n",
              "        const buttonEl =\n",
              "          document.querySelector('#df-3aa52184-a3ab-4c1b-aa40-94adff407c56 button.colab-df-convert');\n",
              "        buttonEl.style.display =\n",
              "          google.colab.kernel.accessAllowed ? 'block' : 'none';\n",
              "\n",
              "        async function convertToInteractive(key) {\n",
              "          const element = document.querySelector('#df-3aa52184-a3ab-4c1b-aa40-94adff407c56');\n",
              "          const dataTable =\n",
              "            await google.colab.kernel.invokeFunction('convertToInteractive',\n",
              "                                                     [key], {});\n",
              "          if (!dataTable) return;\n",
              "\n",
              "          const docLinkHtml = 'Like what you see? Visit the ' +\n",
              "            '<a target=\"_blank\" href=https://colab.research.google.com/notebooks/data_table.ipynb>data table notebook</a>'\n",
              "            + ' to learn more about interactive tables.';\n",
              "          element.innerHTML = '';\n",
              "          dataTable['output_type'] = 'display_data';\n",
              "          await google.colab.output.renderOutput(dataTable, element);\n",
              "          const docLink = document.createElement('div');\n",
              "          docLink.innerHTML = docLinkHtml;\n",
              "          element.appendChild(docLink);\n",
              "        }\n",
              "      </script>\n",
              "    </div>\n",
              "  </div>\n",
              "  "
            ]
          },
          "metadata": {},
          "execution_count": 10
        },
        {
          "output_type": "stream",
          "name": "stdout",
          "text": [
            "Warning: Total number of columns (100) exceeds max_columns (20) limiting to first (20) columns.\n"
          ]
        }
      ]
    },
    {
      "cell_type": "markdown",
      "source": [
        "# Skip-Grams"
      ],
      "metadata": {
        "id": "9-MlKyrwDoGq"
      }
    },
    {
      "cell_type": "code",
      "source": [
        "from keras.preprocessing.sequence import skipgrams\n",
        "\n",
        "# generate skip-grams\n",
        "skip_grams = [skipgrams(wid, vocabulary_size=vocab_size, window_size=window_size) for wid in wids[:100]]\n",
        "\n",
        "# view sample skip-grams\n",
        "pairs, labels = skip_grams[0][0], skip_grams[0][1]\n",
        "for i in range(10):\n",
        "    print(\"({:s} ({:d}), {:s} ({:d})) -> {:d}\".format(\n",
        "          id2word[pairs[i][0]], pairs[i][0], \n",
        "          id2word[pairs[i][1]], pairs[i][1], \n",
        "          labels[i]))"
      ],
      "metadata": {
        "colab": {
          "base_uri": "https://localhost:8080/"
        },
        "id": "grxwU5A-D2oS",
        "outputId": "90c93b25-7534-4e9b-ef82-78829e571cb3"
      },
      "execution_count": 11,
      "outputs": [
        {
          "output_type": "stream",
          "name": "stdout",
          "text": [
            "(james (1342), king (53)) -> 1\n",
            "(james (1342), forcible (10601)) -> 0\n",
            "(bible (6058), sackcloth (1350)) -> 0\n",
            "(king (53), enmishpat (8808)) -> 0\n",
            "(king (53), james (1342)) -> 1\n",
            "(king (53), the (1)) -> 1\n",
            "(bible (6058), james (1342)) -> 1\n",
            "(the (1), king (53)) -> 1\n",
            "(king (53), bible (6058)) -> 1\n",
            "(james (1342), queens (6769)) -> 0\n"
          ]
        }
      ]
    },
    {
      "cell_type": "code",
      "source": [
        "from keras.layers import Input, Dot, dot, concatenate\n",
        "# from keras.engine.input_layer import Input\n",
        "from keras.layers.core import Dense, Reshape\n",
        "from keras.layers.embeddings import Embedding\n",
        "from keras.models import Sequential, Model, Input\n",
        "\n",
        "# build skip-gram architecture\n",
        "word_input = Input(shape = (1,))\n",
        "word_embed = Embedding(vocab_size, embed_size,\n",
        "                         embeddings_initializer=\"glorot_uniform\",\n",
        "                         input_length=1, name = 'word_embedding')(word_input)\n",
        "word_output = Reshape((embed_size, ))(word_embed)\n",
        "word_model = Model(word_input, word_output)\n",
        "\n",
        "print('word_model: \\n', word_model.summary())\n",
        "context_input = Input(shape = (1,))\n",
        "context_embed = Embedding(vocab_size, embed_size,\n",
        "                  embeddings_initializer=\"glorot_uniform\",\n",
        "                  input_length=1, name = 'context_embedding')(context_input)\n",
        "context_output = Reshape((embed_size,))(context_embed)\n",
        "context_model = Model(context_input, context_output)\n",
        "print('context_model: \\n', context_model.summary())\n",
        "\n",
        "concate = dot([word_output, context_output], axes = -1)\n",
        "dense = Dense(1, kernel_initializer=\"glorot_uniform\", activation=\"sigmoid\")(concate)\n",
        "model = Model(inputs = [word_input, context_input], outputs = dense)\n",
        "model.compile(loss=\"mean_squared_error\", optimizer=\"rmsprop\")\n",
        "\n",
        "# view model summary\n",
        "print('model merge word and context: \\n', model.summary())"
      ],
      "metadata": {
        "colab": {
          "base_uri": "https://localhost:8080/"
        },
        "id": "spsCNkl6FLpr",
        "outputId": "4d078822-4d59-4f2d-bc83-d004b2d8a19b"
      },
      "execution_count": 12,
      "outputs": [
        {
          "output_type": "stream",
          "name": "stdout",
          "text": [
            "Model: \"model\"\n",
            "_________________________________________________________________\n",
            " Layer (type)                Output Shape              Param #   \n",
            "=================================================================\n",
            " input_1 (InputLayer)        [(None, 1)]               0         \n",
            "                                                                 \n",
            " word_embedding (Embedding)  (None, 1, 100)            1274600   \n",
            "                                                                 \n",
            " reshape (Reshape)           (None, 100)               0         \n",
            "                                                                 \n",
            "=================================================================\n",
            "Total params: 1,274,600\n",
            "Trainable params: 1,274,600\n",
            "Non-trainable params: 0\n",
            "_________________________________________________________________\n",
            "word_model: \n",
            " None\n",
            "Model: \"model_1\"\n",
            "_________________________________________________________________\n",
            " Layer (type)                Output Shape              Param #   \n",
            "=================================================================\n",
            " input_2 (InputLayer)        [(None, 1)]               0         \n",
            "                                                                 \n",
            " context_embedding (Embeddin  (None, 1, 100)           1274600   \n",
            " g)                                                              \n",
            "                                                                 \n",
            " reshape_1 (Reshape)         (None, 100)               0         \n",
            "                                                                 \n",
            "=================================================================\n",
            "Total params: 1,274,600\n",
            "Trainable params: 1,274,600\n",
            "Non-trainable params: 0\n",
            "_________________________________________________________________\n",
            "context_model: \n",
            " None\n",
            "Model: \"model_2\"\n",
            "__________________________________________________________________________________________________\n",
            " Layer (type)                   Output Shape         Param #     Connected to                     \n",
            "==================================================================================================\n",
            " input_1 (InputLayer)           [(None, 1)]          0           []                               \n",
            "                                                                                                  \n",
            " input_2 (InputLayer)           [(None, 1)]          0           []                               \n",
            "                                                                                                  \n",
            " word_embedding (Embedding)     (None, 1, 100)       1274600     ['input_1[0][0]']                \n",
            "                                                                                                  \n",
            " context_embedding (Embedding)  (None, 1, 100)       1274600     ['input_2[0][0]']                \n",
            "                                                                                                  \n",
            " reshape (Reshape)              (None, 100)          0           ['word_embedding[0][0]']         \n",
            "                                                                                                  \n",
            " reshape_1 (Reshape)            (None, 100)          0           ['context_embedding[0][0]']      \n",
            "                                                                                                  \n",
            " dot (Dot)                      (None, 1)            0           ['reshape[0][0]',                \n",
            "                                                                  'reshape_1[0][0]']              \n",
            "                                                                                                  \n",
            " dense_1 (Dense)                (None, 1)            2           ['dot[0][0]']                    \n",
            "                                                                                                  \n",
            "==================================================================================================\n",
            "Total params: 2,549,202\n",
            "Trainable params: 2,549,202\n",
            "Non-trainable params: 0\n",
            "__________________________________________________________________________________________________\n",
            "model merge word and context: \n",
            " None\n"
          ]
        }
      ]
    },
    {
      "cell_type": "markdown",
      "source": [
        "![image.png](data:image/png;base64,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)"
      ],
      "metadata": {
        "id": "Oxiq2ZvAFnDj"
      }
    },
    {
      "cell_type": "markdown",
      "source": [
        "traning"
      ],
      "metadata": {
        "id": "s0tbSVSXF0qq"
      }
    },
    {
      "cell_type": "code",
      "source": [
        "for epoch in range(1, 6):\n",
        "    loss = 0\n",
        "    for i, elem in enumerate(skip_grams[:100]):\n",
        "        pair_first_elem = np.array(list(zip(*elem[0]))[0], dtype='int32')\n",
        "        pair_second_elem = np.array(list(zip(*elem[0]))[1], dtype='int32')\n",
        "        labels = np.array(elem[1], dtype='int32')\n",
        "        X = [pair_first_elem, pair_second_elem]\n",
        "        Y = labels\n",
        "        if i % 500 == 0:\n",
        "            print('Processed {} (skip_first, skip_second, relevance) pairs'.format(i))\n",
        "        loss += model.train_on_batch(X,Y)  \n",
        "\n",
        "    print('Epoch:', epoch, 'Loss:', loss)"
      ],
      "metadata": {
        "colab": {
          "base_uri": "https://localhost:8080/"
        },
        "id": "xFOWnPMvF2kg",
        "outputId": "0ce19f5c-c73b-4e6d-e41a-7f5c1c82fd8c"
      },
      "execution_count": 13,
      "outputs": [
        {
          "output_type": "stream",
          "name": "stdout",
          "text": [
            "Processed 0 (skip_first, skip_second, relevance) pairs\n",
            "Epoch: 1 Loss: 24.618391171097755\n",
            "Processed 0 (skip_first, skip_second, relevance) pairs\n",
            "Epoch: 2 Loss: 21.752635836601257\n",
            "Processed 0 (skip_first, skip_second, relevance) pairs\n",
            "Epoch: 3 Loss: 17.85728295147419\n",
            "Processed 0 (skip_first, skip_second, relevance) pairs\n",
            "Epoch: 4 Loss: 14.241952389478683\n",
            "Processed 0 (skip_first, skip_second, relevance) pairs\n",
            "Epoch: 5 Loss: 11.23148162662983\n"
          ]
        }
      ]
    },
    {
      "cell_type": "markdown",
      "source": [
        "extract embbeding words matrix"
      ],
      "metadata": {
        "id": "T97PykbzGAjz"
      }
    },
    {
      "cell_type": "code",
      "source": [
        "import pandas as pd\n",
        "\n",
        "word_embedding_layer = model.get_layer('word_embedding')\n",
        "weights = word_embedding_layer.get_weights()[0]\n",
        "\n",
        "print(weights.shape)\n",
        "pd.DataFrame(weights, index=id2word.values()).head()\n"
      ],
      "metadata": {
        "colab": {
          "base_uri": "https://localhost:8080/",
          "height": 317
        },
        "id": "09SEFdagF40z",
        "outputId": "2151347e-46b4-4bd7-fa02-31140668f0fe"
      },
      "execution_count": 14,
      "outputs": [
        {
          "output_type": "stream",
          "name": "stdout",
          "text": [
            "(12746, 100)\n"
          ]
        },
        {
          "output_type": "execute_result",
          "data": {
            "text/plain": [
              "            0         1         2         3         4         5         6   \\\n",
              "the   0.017290  0.000800  0.021553 -0.003341 -0.001126 -0.015495  0.007084   \n",
              "and   0.349272  0.370640 -0.363477  0.303735 -0.382827  0.375430  0.347359   \n",
              "of    0.397610  0.370271 -0.413359 -0.372525 -0.417294  0.329965  0.381712   \n",
              "to    0.285393  0.281695 -0.293893 -0.199772 -0.308705  0.271992  0.261637   \n",
              "that  0.178905  0.180293 -0.184158 -0.153950 -0.164039  0.156413  0.167535   \n",
              "\n",
              "            7         8         9   ...        90        91        92  \\\n",
              "the   0.017311 -0.003856  0.018985  ...  0.010454 -0.008109  0.001497   \n",
              "and  -0.350941 -0.377152 -0.351820  ...  0.379106 -0.373916  0.356349   \n",
              "of   -0.409748 -0.396191 -0.397747  ...  0.392895 -0.403390  0.385127   \n",
              "to   -0.292485 -0.272827 -0.297562  ...  0.297472 -0.303134  0.262963   \n",
              "that -0.188764 -0.161592 -0.173692  ...  0.188495 -0.174275  0.162485   \n",
              "\n",
              "            93        94        95        96        97        98        99  \n",
              "the   0.005737 -0.005695 -0.009960 -0.020717  0.010137 -0.002658  0.016442  \n",
              "and   0.378183  0.394117  0.046608  0.331899 -0.357871  0.354440 -0.386516  \n",
              "of    0.387403  0.411516  0.368722  0.391790 -0.376328  0.390434 -0.416716  \n",
              "to    0.280205  0.293750  0.297102  0.280699 -0.277091  0.272171 -0.288744  \n",
              "that  0.164959  0.171445  0.158350  0.198621 -0.173677  0.159513 -0.160352  \n",
              "\n",
              "[5 rows x 100 columns]"
            ],
            "text/html": [
              "\n",
              "  <div id=\"df-3c5a37c6-2161-4f4b-92e0-dea0f09043bb\">\n",
              "    <div class=\"colab-df-container\">\n",
              "      <div>\n",
              "<style scoped>\n",
              "    .dataframe tbody tr th:only-of-type {\n",
              "        vertical-align: middle;\n",
              "    }\n",
              "\n",
              "    .dataframe tbody tr th {\n",
              "        vertical-align: top;\n",
              "    }\n",
              "\n",
              "    .dataframe thead th {\n",
              "        text-align: right;\n",
              "    }\n",
              "</style>\n",
              "<table border=\"1\" class=\"dataframe\">\n",
              "  <thead>\n",
              "    <tr style=\"text-align: right;\">\n",
              "      <th></th>\n",
              "      <th>0</th>\n",
              "      <th>1</th>\n",
              "      <th>2</th>\n",
              "      <th>3</th>\n",
              "      <th>4</th>\n",
              "      <th>5</th>\n",
              "      <th>6</th>\n",
              "      <th>7</th>\n",
              "      <th>8</th>\n",
              "      <th>9</th>\n",
              "      <th>...</th>\n",
              "      <th>90</th>\n",
              "      <th>91</th>\n",
              "      <th>92</th>\n",
              "      <th>93</th>\n",
              "      <th>94</th>\n",
              "      <th>95</th>\n",
              "      <th>96</th>\n",
              "      <th>97</th>\n",
              "      <th>98</th>\n",
              "      <th>99</th>\n",
              "    </tr>\n",
              "  </thead>\n",
              "  <tbody>\n",
              "    <tr>\n",
              "      <th>the</th>\n",
              "      <td>0.017290</td>\n",
              "      <td>0.000800</td>\n",
              "      <td>0.021553</td>\n",
              "      <td>-0.003341</td>\n",
              "      <td>-0.001126</td>\n",
              "      <td>-0.015495</td>\n",
              "      <td>0.007084</td>\n",
              "      <td>0.017311</td>\n",
              "      <td>-0.003856</td>\n",
              "      <td>0.018985</td>\n",
              "      <td>...</td>\n",
              "      <td>0.010454</td>\n",
              "      <td>-0.008109</td>\n",
              "      <td>0.001497</td>\n",
              "      <td>0.005737</td>\n",
              "      <td>-0.005695</td>\n",
              "      <td>-0.009960</td>\n",
              "      <td>-0.020717</td>\n",
              "      <td>0.010137</td>\n",
              "      <td>-0.002658</td>\n",
              "      <td>0.016442</td>\n",
              "    </tr>\n",
              "    <tr>\n",
              "      <th>and</th>\n",
              "      <td>0.349272</td>\n",
              "      <td>0.370640</td>\n",
              "      <td>-0.363477</td>\n",
              "      <td>0.303735</td>\n",
              "      <td>-0.382827</td>\n",
              "      <td>0.375430</td>\n",
              "      <td>0.347359</td>\n",
              "      <td>-0.350941</td>\n",
              "      <td>-0.377152</td>\n",
              "      <td>-0.351820</td>\n",
              "      <td>...</td>\n",
              "      <td>0.379106</td>\n",
              "      <td>-0.373916</td>\n",
              "      <td>0.356349</td>\n",
              "      <td>0.378183</td>\n",
              "      <td>0.394117</td>\n",
              "      <td>0.046608</td>\n",
              "      <td>0.331899</td>\n",
              "      <td>-0.357871</td>\n",
              "      <td>0.354440</td>\n",
              "      <td>-0.386516</td>\n",
              "    </tr>\n",
              "    <tr>\n",
              "      <th>of</th>\n",
              "      <td>0.397610</td>\n",
              "      <td>0.370271</td>\n",
              "      <td>-0.413359</td>\n",
              "      <td>-0.372525</td>\n",
              "      <td>-0.417294</td>\n",
              "      <td>0.329965</td>\n",
              "      <td>0.381712</td>\n",
              "      <td>-0.409748</td>\n",
              "      <td>-0.396191</td>\n",
              "      <td>-0.397747</td>\n",
              "      <td>...</td>\n",
              "      <td>0.392895</td>\n",
              "      <td>-0.403390</td>\n",
              "      <td>0.385127</td>\n",
              "      <td>0.387403</td>\n",
              "      <td>0.411516</td>\n",
              "      <td>0.368722</td>\n",
              "      <td>0.391790</td>\n",
              "      <td>-0.376328</td>\n",
              "      <td>0.390434</td>\n",
              "      <td>-0.416716</td>\n",
              "    </tr>\n",
              "    <tr>\n",
              "      <th>to</th>\n",
              "      <td>0.285393</td>\n",
              "      <td>0.281695</td>\n",
              "      <td>-0.293893</td>\n",
              "      <td>-0.199772</td>\n",
              "      <td>-0.308705</td>\n",
              "      <td>0.271992</td>\n",
              "      <td>0.261637</td>\n",
              "      <td>-0.292485</td>\n",
              "      <td>-0.272827</td>\n",
              "      <td>-0.297562</td>\n",
              "      <td>...</td>\n",
              "      <td>0.297472</td>\n",
              "      <td>-0.303134</td>\n",
              "      <td>0.262963</td>\n",
              "      <td>0.280205</td>\n",
              "      <td>0.293750</td>\n",
              "      <td>0.297102</td>\n",
              "      <td>0.280699</td>\n",
              "      <td>-0.277091</td>\n",
              "      <td>0.272171</td>\n",
              "      <td>-0.288744</td>\n",
              "    </tr>\n",
              "    <tr>\n",
              "      <th>that</th>\n",
              "      <td>0.178905</td>\n",
              "      <td>0.180293</td>\n",
              "      <td>-0.184158</td>\n",
              "      <td>-0.153950</td>\n",
              "      <td>-0.164039</td>\n",
              "      <td>0.156413</td>\n",
              "      <td>0.167535</td>\n",
              "      <td>-0.188764</td>\n",
              "      <td>-0.161592</td>\n",
              "      <td>-0.173692</td>\n",
              "      <td>...</td>\n",
              "      <td>0.188495</td>\n",
              "      <td>-0.174275</td>\n",
              "      <td>0.162485</td>\n",
              "      <td>0.164959</td>\n",
              "      <td>0.171445</td>\n",
              "      <td>0.158350</td>\n",
              "      <td>0.198621</td>\n",
              "      <td>-0.173677</td>\n",
              "      <td>0.159513</td>\n",
              "      <td>-0.160352</td>\n",
              "    </tr>\n",
              "  </tbody>\n",
              "</table>\n",
              "<p>5 rows × 100 columns</p>\n",
              "</div>\n",
              "      <button class=\"colab-df-convert\" onclick=\"convertToInteractive('df-3c5a37c6-2161-4f4b-92e0-dea0f09043bb')\"\n",
              "              title=\"Convert this dataframe to an interactive table.\"\n",
              "              style=\"display:none;\">\n",
              "        \n",
              "  <svg xmlns=\"http://www.w3.org/2000/svg\" height=\"24px\"viewBox=\"0 0 24 24\"\n",
              "       width=\"24px\">\n",
              "    <path d=\"M0 0h24v24H0V0z\" fill=\"none\"/>\n",
              "    <path d=\"M18.56 5.44l.94 2.06.94-2.06 2.06-.94-2.06-.94-.94-2.06-.94 2.06-2.06.94zm-11 1L8.5 8.5l.94-2.06 2.06-.94-2.06-.94L8.5 2.5l-.94 2.06-2.06.94zm10 10l.94 2.06.94-2.06 2.06-.94-2.06-.94-.94-2.06-.94 2.06-2.06.94z\"/><path d=\"M17.41 7.96l-1.37-1.37c-.4-.4-.92-.59-1.43-.59-.52 0-1.04.2-1.43.59L10.3 9.45l-7.72 7.72c-.78.78-.78 2.05 0 2.83L4 21.41c.39.39.9.59 1.41.59.51 0 1.02-.2 1.41-.59l7.78-7.78 2.81-2.81c.8-.78.8-2.07 0-2.86zM5.41 20L4 18.59l7.72-7.72 1.47 1.35L5.41 20z\"/>\n",
              "  </svg>\n",
              "      </button>\n",
              "      \n",
              "  <style>\n",
              "    .colab-df-container {\n",
              "      display:flex;\n",
              "      flex-wrap:wrap;\n",
              "      gap: 12px;\n",
              "    }\n",
              "\n",
              "    .colab-df-convert {\n",
              "      background-color: #E8F0FE;\n",
              "      border: none;\n",
              "      border-radius: 50%;\n",
              "      cursor: pointer;\n",
              "      display: none;\n",
              "      fill: #1967D2;\n",
              "      height: 32px;\n",
              "      padding: 0 0 0 0;\n",
              "      width: 32px;\n",
              "    }\n",
              "\n",
              "    .colab-df-convert:hover {\n",
              "      background-color: #E2EBFA;\n",
              "      box-shadow: 0px 1px 2px rgba(60, 64, 67, 0.3), 0px 1px 3px 1px rgba(60, 64, 67, 0.15);\n",
              "      fill: #174EA6;\n",
              "    }\n",
              "\n",
              "    [theme=dark] .colab-df-convert {\n",
              "      background-color: #3B4455;\n",
              "      fill: #D2E3FC;\n",
              "    }\n",
              "\n",
              "    [theme=dark] .colab-df-convert:hover {\n",
              "      background-color: #434B5C;\n",
              "      box-shadow: 0px 1px 3px 1px rgba(0, 0, 0, 0.15);\n",
              "      filter: drop-shadow(0px 1px 2px rgba(0, 0, 0, 0.3));\n",
              "      fill: #FFFFFF;\n",
              "    }\n",
              "  </style>\n",
              "\n",
              "      <script>\n",
              "        const buttonEl =\n",
              "          document.querySelector('#df-3c5a37c6-2161-4f4b-92e0-dea0f09043bb button.colab-df-convert');\n",
              "        buttonEl.style.display =\n",
              "          google.colab.kernel.accessAllowed ? 'block' : 'none';\n",
              "\n",
              "        async function convertToInteractive(key) {\n",
              "          const element = document.querySelector('#df-3c5a37c6-2161-4f4b-92e0-dea0f09043bb');\n",
              "          const dataTable =\n",
              "            await google.colab.kernel.invokeFunction('convertToInteractive',\n",
              "                                                     [key], {});\n",
              "          if (!dataTable) return;\n",
              "\n",
              "          const docLinkHtml = 'Like what you see? Visit the ' +\n",
              "            '<a target=\"_blank\" href=https://colab.research.google.com/notebooks/data_table.ipynb>data table notebook</a>'\n",
              "            + ' to learn more about interactive tables.';\n",
              "          element.innerHTML = '';\n",
              "          dataTable['output_type'] = 'display_data';\n",
              "          await google.colab.output.renderOutput(dataTable, element);\n",
              "          const docLink = document.createElement('div');\n",
              "          docLink.innerHTML = docLinkHtml;\n",
              "          element.appendChild(docLink);\n",
              "        }\n",
              "      </script>\n",
              "    </div>\n",
              "  </div>\n",
              "  "
            ]
          },
          "metadata": {},
          "execution_count": 14
        }
      ]
    },
    {
      "cell_type": "markdown",
      "source": [
        "testing"
      ],
      "metadata": {
        "id": "-KC_6w-tGJuE"
      }
    },
    {
      "cell_type": "code",
      "source": [
        "from sklearn.metrics.pairwise import euclidean_distances\n",
        "\n",
        "distance_matrix = euclidean_distances(weights)\n",
        "print(distance_matrix.shape)\n",
        "\n",
        "similar_words = {search_term: [id2word[idx] for idx in distance_matrix[word2id[search_term]-1].argsort()[1:6]+1] \n",
        "                   for search_term in ['egypt', 'king']}\n",
        "\n",
        "similar_words"
      ],
      "metadata": {
        "colab": {
          "base_uri": "https://localhost:8080/"
        },
        "id": "U3XyZ_GpF46a",
        "outputId": "23677c23-d7ac-4a47-e3eb-f54372e98cb7"
      },
      "execution_count": 15,
      "outputs": [
        {
          "output_type": "stream",
          "name": "stdout",
          "text": [
            "(12746, 12746)\n"
          ]
        },
        {
          "output_type": "execute_result",
          "data": {
            "text/plain": [
              "{'egypt': ['9', 'came', 'earth', 'come', '8'],\n",
              " 'king': ['son', 'by', 'out', '2', 'these']}"
            ]
          },
          "metadata": {},
          "execution_count": 15
        }
      ]
    },
    {
      "cell_type": "markdown",
      "source": [
        "# evaluating (t-SNE)"
      ],
      "metadata": {
        "id": "gm-kHYq-GcR6"
      }
    },
    {
      "cell_type": "code",
      "source": [
        "from sklearn.manifold import TSNE\n",
        "import matplotlib.pyplot as plt\n",
        "\n",
        "words = sum([[k] + v for k, v in similar_words.items()], [])\n",
        "words_ids = [word2id[w] for w in words]\n",
        "word_vectors = np.array([weights[idx] for idx in words_ids])\n",
        "print('Total words:', len(words), '\\tWord Embedding shapes:', word_vectors.shape)\n",
        "\n",
        "tsne = TSNE(n_components=2, random_state=0, n_iter=10000, perplexity=3)\n",
        "np.set_printoptions(suppress=True)\n",
        "T = tsne.fit_transform(word_vectors)\n",
        "labels = words\n",
        "\n",
        "plt.figure(figsize=(14, 8))\n",
        "plt.scatter(T[:, 0], T[:, 1], c='steelblue', edgecolors='k')\n",
        "for label, x, y in zip(labels, T[:, 0], T[:, 1]):\n",
        "    plt.annotate(label, xy=(x+1, y+1), xytext=(0, 0), textcoords='offset points')"
      ],
      "metadata": {
        "colab": {
          "base_uri": "https://localhost:8080/",
          "height": 590
        },
        "id": "hUYAdWCRGq1b",
        "outputId": "3cfc2e8a-4f51-4f30-ad2d-1fc18068778f"
      },
      "execution_count": 16,
      "outputs": [
        {
          "output_type": "stream",
          "name": "stdout",
          "text": [
            "Total words: 12 \tWord Embedding shapes: (12, 100)\n"
          ]
        },
        {
          "output_type": "stream",
          "name": "stderr",
          "text": [
            "/usr/local/lib/python3.7/dist-packages/sklearn/manifold/_t_sne.py:783: FutureWarning: The default initialization in TSNE will change from 'random' to 'pca' in 1.2.\n",
            "  FutureWarning,\n",
            "/usr/local/lib/python3.7/dist-packages/sklearn/manifold/_t_sne.py:793: FutureWarning: The default learning rate in TSNE will change from 200.0 to 'auto' in 1.2.\n",
            "  FutureWarning,\n"
          ]
        },
        {
          "output_type": "display_data",
          "data": {
            "text/plain": [
              "<Figure size 1008x576 with 1 Axes>"
            ],
            "image/png": "[encoded data removed]"
          },
          "metadata": {
            "needs_background": "light"
          }
        }
      ]
    },
    {
      "cell_type": "markdown",
      "source": [
        "# the simple way : use package :)"
      ],
      "metadata": {
        "id": "BJncP9p7HP-7"
      }
    },
    {
      "cell_type": "code",
      "source": [
        "from gensim.models import Word2Vec\n",
        "# Training model with 1000 sentence in dataset\n",
        "sentences = [[item.lower() for item in doc.split()] for doc in norm_bible[:1000]]\n",
        "model = Word2Vec(sentences, min_count = 1, size = 150, window = 10, sg = 1, workers = 8)\n",
        "model.train(sentences, total_examples = model.corpus_count, epochs = 10)"
      ],
      "metadata": {
        "colab": {
          "base_uri": "https://localhost:8080/"
        },
        "id": "luTFwJFeHfIq",
        "outputId": "13913f5a-d01c-446c-ad67-cd1707d8ab36"
      },
      "execution_count": 17,
      "outputs": [
        {
          "output_type": "stream",
          "name": "stderr",
          "text": [
            "WARNING:gensim.models.base_any2vec:consider setting layer size to a multiple of 4 for greater performance\n",
            "WARNING:gensim.models.base_any2vec:under 10 jobs per worker: consider setting a smaller `batch_words' for smoother alpha decay\n",
            "WARNING:gensim.models.base_any2vec:Effective 'alpha' higher than previous training cycles\n",
            "WARNING:gensim.models.base_any2vec:under 10 jobs per worker: consider setting a smaller `batch_words' for smoother alpha decay\n"
          ]
        },
        {
          "output_type": "execute_result",
          "data": {
            "text/plain": [
              "(210178, 336740)"
            ]
          },
          "metadata": {},
          "execution_count": 17
        }
      ]
    },
    {
      "cell_type": "code",
      "source": [
        "# get embbeding vector of word \"king\"\n",
        "print('embedding vector shape: ', model.wv['king'].shape)\n",
        "model.wv['king']"
      ],
      "metadata": {
        "colab": {
          "base_uri": "https://localhost:8080/"
        },
        "id": "u20iatwrH-wz",
        "outputId": "287420ae-8348-4595-a89f-a2f203e2f2d5"
      },
      "execution_count": 20,
      "outputs": [
        {
          "output_type": "stream",
          "name": "stdout",
          "text": [
            "embedding vector shape:  (150,)\n"
          ]
        },
        {
          "output_type": "execute_result",
          "data": {
            "text/plain": [
              "array([ 0.04617724, -0.35040104, -0.5339661 ,  0.04296643,  0.3514211 ,\n",
              "        0.04728647, -0.4424949 , -0.3735769 ,  0.03580983,  0.32808498,\n",
              "        0.16668831,  0.191351  ,  0.01568864, -0.17260136,  0.00291066,\n",
              "        0.01223834,  0.29464635,  0.6134726 , -0.17939404,  0.16774277,\n",
              "        0.39652526, -0.07233351,  0.01316206, -0.39032817, -0.09189071,\n",
              "       -0.29540566, -0.14636637, -0.11484177,  0.49222064, -0.45990172,\n",
              "        0.09791552,  0.50517637,  0.23253188,  0.3205113 , -0.22112346,\n",
              "        0.4216892 , -0.05563951, -0.15180755, -0.37497038, -0.41686237,\n",
              "        0.21639286,  0.03846467, -0.05738993, -0.11138416, -0.02426553,\n",
              "       -0.02015922, -0.2999884 , -0.07011175, -0.59034127,  0.43803567,\n",
              "        0.29798552,  0.20157589,  0.4703873 , -0.25348288,  0.38885304,\n",
              "        0.12002404, -0.21322916, -0.177326  , -0.10660905,  0.09766106,\n",
              "        0.4685945 , -0.18805982,  0.28173703,  0.22950006, -0.10350731,\n",
              "       -0.1790061 ,  0.18485042,  0.16527323,  0.32216302, -0.03788085,\n",
              "       -0.06167147,  0.05878843,  0.10185867, -0.06206207, -0.07697777,\n",
              "        0.16008866, -0.02544402,  0.2992031 ,  0.21339428,  0.5330055 ,\n",
              "        0.05285722,  0.11287808,  0.1143133 , -0.1429694 ,  0.10116539,\n",
              "        0.2270274 ,  0.27103215,  0.31381652, -0.07622941, -0.00192425,\n",
              "       -0.01338077, -0.07655367, -0.4292217 ,  0.03912668,  0.48004404,\n",
              "        0.1753823 , -0.33888078, -0.37020925, -0.10050781, -0.42730805,\n",
              "        0.18493806,  0.13131008,  0.01789756,  0.31167203, -0.3385165 ,\n",
              "        0.26318425,  0.19801435,  0.1718385 ,  0.63030267, -0.22805671,\n",
              "       -0.22233306,  0.3070603 , -0.55776757,  0.41134995,  0.3423542 ,\n",
              "        0.23024511, -0.2819716 ,  0.01545413, -0.25213084, -0.02340009,\n",
              "        0.08442308, -0.63343024, -0.1038186 , -0.2197753 , -0.33502385,\n",
              "       -0.18905458,  0.29029003, -0.12672748, -0.02828958,  0.04288316,\n",
              "       -0.18583947, -0.00561604, -0.23765631,  0.58123547,  0.054033  ,\n",
              "        0.54083294,  0.22394149,  0.08229219, -0.11063021,  0.09219283,\n",
              "        0.06405407, -0.06970102,  0.05966377, -0.59717506,  0.2898963 ,\n",
              "       -0.45133704,  0.32828173, -0.27312136, -0.33795625, -0.18542744],\n",
              "      dtype=float32)"
            ]
          },
          "metadata": {},
          "execution_count": 20
        }
      ]
    },
    {
      "cell_type": "code",
      "source": [
        "# get the words that are most closely related to a word based on distance\n",
        "model.most_similar('king')"
      ],
      "metadata": {
        "colab": {
          "base_uri": "https://localhost:8080/"
        },
        "id": "Xx4dR9cfISSD",
        "outputId": "63ec7d49-5f17-43f2-cc11-d03b5f63d732"
      },
      "execution_count": 22,
      "outputs": [
        {
          "output_type": "stream",
          "name": "stderr",
          "text": [
            "/usr/local/lib/python3.7/dist-packages/ipykernel_launcher.py:2: DeprecationWarning: Call to deprecated `most_similar` (Method will be removed in 4.0.0, use self.wv.most_similar() instead).\n",
            "  \n"
          ]
        },
        {
          "output_type": "execute_result",
          "data": {
            "text/plain": [
              "[('admah', 0.8952584862709045),\n",
              " ('tidal', 0.8777005076408386),\n",
              " ('zeboiim', 0.8736802935600281),\n",
              " ('chedorlaomer', 0.8602940440177917),\n",
              " ('elam', 0.8588845133781433),\n",
              " ('bela', 0.8583787083625793),\n",
              " ('shinar', 0.8575802445411682),\n",
              " ('arioch', 0.853573203086853),\n",
              " ('ellasar', 0.8528846502304077),\n",
              " ('amraphel', 0.8481546640396118)]"
            ]
          },
          "metadata": {},
          "execution_count": 22
        }
      ]
    }
  ]
}